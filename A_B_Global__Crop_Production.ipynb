{
  "nbformat": 4,
  "nbformat_minor": 0,
  "metadata": {
    "colab": {
      "name": "A/B_Global _Crop_Production.ipynb",
      "provenance": [],
      "collapsed_sections": [],
      "authorship_tag": "ABX9TyNg07WTKMSmfCcjvY8dn2b7",
      "include_colab_link": true
    },
    "kernelspec": {
      "name": "python3",
      "display_name": "Python 3"
    }
  },
  "cells": [
    {
      "cell_type": "markdown",
      "metadata": {
        "id": "view-in-github",
        "colab_type": "text"
      },
      "source": [
        "<a href=\"https://colab.research.google.com/github/russmendez/DS_notebooks/blob/master/A_B_Global__Crop_Production.ipynb\" target=\"_parent\"><img src=\"https://colab.research.google.com/assets/colab-badge.svg\" alt=\"Open In Colab\"/></a>"
      ]
    },
    {
      "cell_type": "markdown",
      "metadata": {
        "id": "qgmMhRzhxJcH"
      },
      "source": [
        "#Introduction\n",
        "\n",
        "A growing demand requires a growing supply. This simple concept poses a great concern when it comes to the question of feeding our planet. The more people there are, the more land we will need to feed those people. The more land we will need to feed those people, the less land there will be for those people. Are we approaching a 'critical mass'? Are we running out of land? In this project we will examine the global crop production of four major crops to explore this question."
      ]
    },
    {
      "cell_type": "code",
      "metadata": {
        "id": "zt5GnFAjxLn-",
        "colab": {
          "base_uri": "https://localhost:8080/"
        },
        "outputId": "56ede37b-731b-4cee-960d-8d4476610a9a"
      },
      "source": [
        "from google.colab import drive\n",
        "drive.mount('/content/drive')"
      ],
      "execution_count": 1,
      "outputs": [
        {
          "output_type": "stream",
          "name": "stdout",
          "text": [
            "Drive already mounted at /content/drive; to attempt to forcibly remount, call drive.mount(\"/content/drive\", force_remount=True).\n"
          ]
        }
      ]
    },
    {
      "cell_type": "markdown",
      "metadata": {
        "id": "_aXxblknxV_0"
      },
      "source": [
        "Import relevent libraries/packages"
      ]
    },
    {
      "cell_type": "code",
      "metadata": {
        "id": "LhOY_4ZfAdga",
        "colab": {
          "base_uri": "https://localhost:8080/"
        },
        "outputId": "5782afb6-494e-40d4-c4bd-24aeae927b5e"
      },
      "source": [
        "from google.colab import files\n",
        "import os\n",
        "# NC4 libraries\n",
        "!pip install netCDF4 \n",
        "import netCDF4 as netcdf\n",
        "from netCDF4 import Dataset\n",
        "#Dateframe manipulation libraries \n",
        "from numpy import dtype\n",
        "import pandas as pd\n",
        "import xarray as xr\n",
        "#Plotting libraries \n",
        "%matplotlib inline\n",
        "import seaborn as sns\n",
        "from scipy import stats\n",
        "from matplotlib import pyplot as plt\n",
        "!pip install scikit_posthocs\n",
        "import scikit_posthocs as sp"
      ],
      "execution_count": 2,
      "outputs": [
        {
          "output_type": "stream",
          "name": "stdout",
          "text": [
            "Requirement already satisfied: netCDF4 in /usr/local/lib/python3.7/dist-packages (1.5.7)\n",
            "Requirement already satisfied: numpy>=1.9 in /usr/local/lib/python3.7/dist-packages (from netCDF4) (1.19.5)\n",
            "Requirement already satisfied: cftime in /usr/local/lib/python3.7/dist-packages (from netCDF4) (1.5.1)\n",
            "Requirement already satisfied: scikit_posthocs in /usr/local/lib/python3.7/dist-packages (0.6.7)\n",
            "Requirement already satisfied: seaborn in /usr/local/lib/python3.7/dist-packages (from scikit_posthocs) (0.11.2)\n",
            "Requirement already satisfied: matplotlib in /usr/local/lib/python3.7/dist-packages (from scikit_posthocs) (3.2.2)\n",
            "Requirement already satisfied: statsmodels in /usr/local/lib/python3.7/dist-packages (from scikit_posthocs) (0.10.2)\n",
            "Requirement already satisfied: scipy in /usr/local/lib/python3.7/dist-packages (from scikit_posthocs) (1.4.1)\n",
            "Requirement already satisfied: pandas>=0.20.0 in /usr/local/lib/python3.7/dist-packages (from scikit_posthocs) (1.1.5)\n",
            "Requirement already satisfied: numpy in /usr/local/lib/python3.7/dist-packages (from scikit_posthocs) (1.19.5)\n",
            "Requirement already satisfied: pytz>=2017.2 in /usr/local/lib/python3.7/dist-packages (from pandas>=0.20.0->scikit_posthocs) (2018.9)\n",
            "Requirement already satisfied: python-dateutil>=2.7.3 in /usr/local/lib/python3.7/dist-packages (from pandas>=0.20.0->scikit_posthocs) (2.8.2)\n",
            "Requirement already satisfied: six>=1.5 in /usr/local/lib/python3.7/dist-packages (from python-dateutil>=2.7.3->pandas>=0.20.0->scikit_posthocs) (1.15.0)\n",
            "Requirement already satisfied: kiwisolver>=1.0.1 in /usr/local/lib/python3.7/dist-packages (from matplotlib->scikit_posthocs) (1.3.2)\n",
            "Requirement already satisfied: cycler>=0.10 in /usr/local/lib/python3.7/dist-packages (from matplotlib->scikit_posthocs) (0.10.0)\n",
            "Requirement already satisfied: pyparsing!=2.0.4,!=2.1.2,!=2.1.6,>=2.0.1 in /usr/local/lib/python3.7/dist-packages (from matplotlib->scikit_posthocs) (2.4.7)\n",
            "Requirement already satisfied: patsy>=0.4.0 in /usr/local/lib/python3.7/dist-packages (from statsmodels->scikit_posthocs) (0.5.2)\n"
          ]
        },
        {
          "output_type": "stream",
          "name": "stderr",
          "text": [
            "/usr/local/lib/python3.7/dist-packages/statsmodels/tools/_testing.py:19: FutureWarning: pandas.util.testing is deprecated. Use the functions in the public API at pandas.testing instead.\n",
            "  import pandas.util.testing as tm\n"
          ]
        }
      ]
    },
    {
      "cell_type": "markdown",
      "metadata": {
        "id": "yXlSVNFxeItq"
      },
      "source": [
        "#EDA and Data Engineering\n",
        "\n",
        "**Important Note on the Data:** The initial dataframes tell us the amount of crop production in tonnes ('var' column) for some longitude and latitude. The methodology for the layout of the data is to make a singe circut westward at one latitude, move up 0.5&deg;, make another circut, then repeat. In essence, the researchers map the globe onto a grid with each grid space denoted by its southeasternly most coordinate, i.e. the first entry with lat = -89.75 and lon = 0.25 refers to a space of land whose southeatstern corner begins at those coordinates (89.75&deg;S 0.25&deg;E). These grid spaces are 0.5 longitude by 0.5 latitude. I will refer to these grid spaces as *Square-Areas* of land. \n",
        "\n"
      ]
    },
    {
      "cell_type": "code",
      "metadata": {
        "colab": {
          "base_uri": "https://localhost:8080/",
          "height": 206
        },
        "id": "b6PD9ojjedPs",
        "outputId": "ce27cfed-dcbc-44a3-a7db-ba4c85d41510"
      },
      "source": [
        "ds = xr.open_dataset('drive/My Drive/gdhy_data/soybean/yield_1981.nc4')\n",
        "df = ds.to_dataframe()\n",
        "df = df.reset_index()\n",
        "df.head()"
      ],
      "execution_count": 43,
      "outputs": [
        {
          "output_type": "execute_result",
          "data": {
            "text/html": [
              "<div>\n",
              "<style scoped>\n",
              "    .dataframe tbody tr th:only-of-type {\n",
              "        vertical-align: middle;\n",
              "    }\n",
              "\n",
              "    .dataframe tbody tr th {\n",
              "        vertical-align: top;\n",
              "    }\n",
              "\n",
              "    .dataframe thead th {\n",
              "        text-align: right;\n",
              "    }\n",
              "</style>\n",
              "<table border=\"1\" class=\"dataframe\">\n",
              "  <thead>\n",
              "    <tr style=\"text-align: right;\">\n",
              "      <th></th>\n",
              "      <th>lat</th>\n",
              "      <th>lon</th>\n",
              "      <th>var</th>\n",
              "    </tr>\n",
              "  </thead>\n",
              "  <tbody>\n",
              "    <tr>\n",
              "      <th>0</th>\n",
              "      <td>-89.75</td>\n",
              "      <td>0.25</td>\n",
              "      <td>NaN</td>\n",
              "    </tr>\n",
              "    <tr>\n",
              "      <th>1</th>\n",
              "      <td>-89.75</td>\n",
              "      <td>0.75</td>\n",
              "      <td>NaN</td>\n",
              "    </tr>\n",
              "    <tr>\n",
              "      <th>2</th>\n",
              "      <td>-89.75</td>\n",
              "      <td>1.25</td>\n",
              "      <td>NaN</td>\n",
              "    </tr>\n",
              "    <tr>\n",
              "      <th>3</th>\n",
              "      <td>-89.75</td>\n",
              "      <td>1.75</td>\n",
              "      <td>NaN</td>\n",
              "    </tr>\n",
              "    <tr>\n",
              "      <th>4</th>\n",
              "      <td>-89.75</td>\n",
              "      <td>2.25</td>\n",
              "      <td>NaN</td>\n",
              "    </tr>\n",
              "  </tbody>\n",
              "</table>\n",
              "</div>"
            ],
            "text/plain": [
              "     lat   lon  var\n",
              "0 -89.75  0.25  NaN\n",
              "1 -89.75  0.75  NaN\n",
              "2 -89.75  1.25  NaN\n",
              "3 -89.75  1.75  NaN\n",
              "4 -89.75  2.25  NaN"
            ]
          },
          "metadata": {},
          "execution_count": 43
        }
      ]
    },
    {
      "cell_type": "code",
      "metadata": {
        "colab": {
          "base_uri": "https://localhost:8080/"
        },
        "id": "IB40AgHbpco-",
        "outputId": "510095fa-90a0-4bb1-8fed-3b793b07530b"
      },
      "source": [
        "print(f'First 10 latitudes: {df.lat.unique()[0:10]}') \n",
        "print(f'First 10 longitudes: {df.lon.unique()[0:10]}')"
      ],
      "execution_count": 52,
      "outputs": [
        {
          "output_type": "stream",
          "name": "stdout",
          "text": [
            "First 10 latitudes: [-89.75 -89.25 -88.75 -88.25 -87.75 -87.25 -86.75 -86.25 -85.75 -85.25]\n",
            "First 10 longitudes: [0.25 0.75 1.25 1.75 2.25 2.75 3.25 3.75 4.25 4.75]\n"
          ]
        }
      ]
    },
    {
      "cell_type": "code",
      "metadata": {
        "colab": {
          "base_uri": "https://localhost:8080/",
          "height": 175
        },
        "id": "DB8D0NoWnzvn",
        "outputId": "8e40380f-031f-4e4e-c313-58cd196795f6"
      },
      "source": [
        "df[718:722] #Here we see the transition from one circut to the next based on latitude. "
      ],
      "execution_count": 48,
      "outputs": [
        {
          "output_type": "execute_result",
          "data": {
            "text/html": [
              "<div>\n",
              "<style scoped>\n",
              "    .dataframe tbody tr th:only-of-type {\n",
              "        vertical-align: middle;\n",
              "    }\n",
              "\n",
              "    .dataframe tbody tr th {\n",
              "        vertical-align: top;\n",
              "    }\n",
              "\n",
              "    .dataframe thead th {\n",
              "        text-align: right;\n",
              "    }\n",
              "</style>\n",
              "<table border=\"1\" class=\"dataframe\">\n",
              "  <thead>\n",
              "    <tr style=\"text-align: right;\">\n",
              "      <th></th>\n",
              "      <th>lat</th>\n",
              "      <th>lon</th>\n",
              "      <th>var</th>\n",
              "    </tr>\n",
              "  </thead>\n",
              "  <tbody>\n",
              "    <tr>\n",
              "      <th>718</th>\n",
              "      <td>-89.75</td>\n",
              "      <td>359.25</td>\n",
              "      <td>NaN</td>\n",
              "    </tr>\n",
              "    <tr>\n",
              "      <th>719</th>\n",
              "      <td>-89.75</td>\n",
              "      <td>359.75</td>\n",
              "      <td>NaN</td>\n",
              "    </tr>\n",
              "    <tr>\n",
              "      <th>720</th>\n",
              "      <td>-89.25</td>\n",
              "      <td>0.25</td>\n",
              "      <td>NaN</td>\n",
              "    </tr>\n",
              "    <tr>\n",
              "      <th>721</th>\n",
              "      <td>-89.25</td>\n",
              "      <td>0.75</td>\n",
              "      <td>NaN</td>\n",
              "    </tr>\n",
              "  </tbody>\n",
              "</table>\n",
              "</div>"
            ],
            "text/plain": [
              "       lat     lon  var\n",
              "718 -89.75  359.25  NaN\n",
              "719 -89.75  359.75  NaN\n",
              "720 -89.25    0.25  NaN\n",
              "721 -89.25    0.75  NaN"
            ]
          },
          "metadata": {},
          "execution_count": 48
        }
      ]
    },
    {
      "cell_type": "markdown",
      "metadata": {
        "id": "xtJbnuIBkIby"
      },
      "source": [
        "The data for each year is stored in an individual table meaning there are 36 tables for each crop. The first step is to combine the data together in a usful manor. I accomplish this with a FOR loop that added the 'var' (annual growth per Square-Area) sequentially.\n",
        "I then rename each 'var' column by its correspionding year. This procosses is run for each crop creating four individual tables containg global crop production per Square-Area by year."
      ]
    },
    {
      "cell_type": "code",
      "metadata": {
        "id": "IzrBHHCFCSKX"
      },
      "source": [
        "ds = xr.open_dataset('drive/My Drive/gdhy_data/soybean/yield_1981.nc4')\n",
        "df = ds.to_dataframe()\n",
        "df = df.reset_index()\n",
        "key = df.iloc[: , 0:2]\n",
        "\n",
        "date = 1981\n",
        "for x in range (0, 36):\n",
        "  ds = xr.open_dataset('drive/My Drive/gdhy_data/soybean/yield_{}.nc4'.format(date))\n",
        "  df = ds.to_dataframe()\n",
        "  df = df.reset_index()\n",
        "  data = df[['var']]\n",
        "  key['{}'.format(date)] = data\n",
        "  date = date+1\n",
        "\n",
        "s = key\n",
        "#s"
      ],
      "execution_count": 6,
      "outputs": []
    },
    {
      "cell_type": "code",
      "metadata": {
        "colab": {
          "base_uri": "https://localhost:8080/",
          "height": 226
        },
        "id": "7mPgNnvUMUul",
        "outputId": "a751bdf0-aa98-43cc-94fe-25dceef48a21"
      },
      "source": [
        "s.head()"
      ],
      "execution_count": 61,
      "outputs": [
        {
          "output_type": "execute_result",
          "data": {
            "text/html": [
              "<div>\n",
              "<style scoped>\n",
              "    .dataframe tbody tr th:only-of-type {\n",
              "        vertical-align: middle;\n",
              "    }\n",
              "\n",
              "    .dataframe tbody tr th {\n",
              "        vertical-align: top;\n",
              "    }\n",
              "\n",
              "    .dataframe thead th {\n",
              "        text-align: right;\n",
              "    }\n",
              "</style>\n",
              "<table border=\"1\" class=\"dataframe\">\n",
              "  <thead>\n",
              "    <tr style=\"text-align: right;\">\n",
              "      <th></th>\n",
              "      <th>lat</th>\n",
              "      <th>lon</th>\n",
              "      <th>1981</th>\n",
              "      <th>1982</th>\n",
              "      <th>1983</th>\n",
              "      <th>1984</th>\n",
              "      <th>1985</th>\n",
              "      <th>1986</th>\n",
              "      <th>1987</th>\n",
              "      <th>1988</th>\n",
              "      <th>1989</th>\n",
              "      <th>1990</th>\n",
              "      <th>1991</th>\n",
              "      <th>1992</th>\n",
              "      <th>1993</th>\n",
              "      <th>1994</th>\n",
              "      <th>1995</th>\n",
              "      <th>1996</th>\n",
              "      <th>1997</th>\n",
              "      <th>1998</th>\n",
              "      <th>1999</th>\n",
              "      <th>2000</th>\n",
              "      <th>2001</th>\n",
              "      <th>2002</th>\n",
              "      <th>2003</th>\n",
              "      <th>2004</th>\n",
              "      <th>2005</th>\n",
              "      <th>2006</th>\n",
              "      <th>2007</th>\n",
              "      <th>2008</th>\n",
              "      <th>2009</th>\n",
              "      <th>2010</th>\n",
              "      <th>2011</th>\n",
              "      <th>2012</th>\n",
              "      <th>2013</th>\n",
              "      <th>2014</th>\n",
              "      <th>2015</th>\n",
              "      <th>2016</th>\n",
              "    </tr>\n",
              "  </thead>\n",
              "  <tbody>\n",
              "    <tr>\n",
              "      <th>0</th>\n",
              "      <td>-89.75</td>\n",
              "      <td>0.25</td>\n",
              "      <td>NaN</td>\n",
              "      <td>NaN</td>\n",
              "      <td>NaN</td>\n",
              "      <td>NaN</td>\n",
              "      <td>NaN</td>\n",
              "      <td>NaN</td>\n",
              "      <td>NaN</td>\n",
              "      <td>NaN</td>\n",
              "      <td>NaN</td>\n",
              "      <td>NaN</td>\n",
              "      <td>NaN</td>\n",
              "      <td>NaN</td>\n",
              "      <td>NaN</td>\n",
              "      <td>NaN</td>\n",
              "      <td>NaN</td>\n",
              "      <td>NaN</td>\n",
              "      <td>NaN</td>\n",
              "      <td>NaN</td>\n",
              "      <td>NaN</td>\n",
              "      <td>NaN</td>\n",
              "      <td>NaN</td>\n",
              "      <td>NaN</td>\n",
              "      <td>NaN</td>\n",
              "      <td>NaN</td>\n",
              "      <td>NaN</td>\n",
              "      <td>NaN</td>\n",
              "      <td>NaN</td>\n",
              "      <td>NaN</td>\n",
              "      <td>NaN</td>\n",
              "      <td>NaN</td>\n",
              "      <td>NaN</td>\n",
              "      <td>NaN</td>\n",
              "      <td>NaN</td>\n",
              "      <td>NaN</td>\n",
              "      <td>NaN</td>\n",
              "      <td>NaN</td>\n",
              "    </tr>\n",
              "    <tr>\n",
              "      <th>1</th>\n",
              "      <td>-89.75</td>\n",
              "      <td>0.75</td>\n",
              "      <td>NaN</td>\n",
              "      <td>NaN</td>\n",
              "      <td>NaN</td>\n",
              "      <td>NaN</td>\n",
              "      <td>NaN</td>\n",
              "      <td>NaN</td>\n",
              "      <td>NaN</td>\n",
              "      <td>NaN</td>\n",
              "      <td>NaN</td>\n",
              "      <td>NaN</td>\n",
              "      <td>NaN</td>\n",
              "      <td>NaN</td>\n",
              "      <td>NaN</td>\n",
              "      <td>NaN</td>\n",
              "      <td>NaN</td>\n",
              "      <td>NaN</td>\n",
              "      <td>NaN</td>\n",
              "      <td>NaN</td>\n",
              "      <td>NaN</td>\n",
              "      <td>NaN</td>\n",
              "      <td>NaN</td>\n",
              "      <td>NaN</td>\n",
              "      <td>NaN</td>\n",
              "      <td>NaN</td>\n",
              "      <td>NaN</td>\n",
              "      <td>NaN</td>\n",
              "      <td>NaN</td>\n",
              "      <td>NaN</td>\n",
              "      <td>NaN</td>\n",
              "      <td>NaN</td>\n",
              "      <td>NaN</td>\n",
              "      <td>NaN</td>\n",
              "      <td>NaN</td>\n",
              "      <td>NaN</td>\n",
              "      <td>NaN</td>\n",
              "      <td>NaN</td>\n",
              "    </tr>\n",
              "    <tr>\n",
              "      <th>2</th>\n",
              "      <td>-89.75</td>\n",
              "      <td>1.25</td>\n",
              "      <td>NaN</td>\n",
              "      <td>NaN</td>\n",
              "      <td>NaN</td>\n",
              "      <td>NaN</td>\n",
              "      <td>NaN</td>\n",
              "      <td>NaN</td>\n",
              "      <td>NaN</td>\n",
              "      <td>NaN</td>\n",
              "      <td>NaN</td>\n",
              "      <td>NaN</td>\n",
              "      <td>NaN</td>\n",
              "      <td>NaN</td>\n",
              "      <td>NaN</td>\n",
              "      <td>NaN</td>\n",
              "      <td>NaN</td>\n",
              "      <td>NaN</td>\n",
              "      <td>NaN</td>\n",
              "      <td>NaN</td>\n",
              "      <td>NaN</td>\n",
              "      <td>NaN</td>\n",
              "      <td>NaN</td>\n",
              "      <td>NaN</td>\n",
              "      <td>NaN</td>\n",
              "      <td>NaN</td>\n",
              "      <td>NaN</td>\n",
              "      <td>NaN</td>\n",
              "      <td>NaN</td>\n",
              "      <td>NaN</td>\n",
              "      <td>NaN</td>\n",
              "      <td>NaN</td>\n",
              "      <td>NaN</td>\n",
              "      <td>NaN</td>\n",
              "      <td>NaN</td>\n",
              "      <td>NaN</td>\n",
              "      <td>NaN</td>\n",
              "      <td>NaN</td>\n",
              "    </tr>\n",
              "    <tr>\n",
              "      <th>3</th>\n",
              "      <td>-89.75</td>\n",
              "      <td>1.75</td>\n",
              "      <td>NaN</td>\n",
              "      <td>NaN</td>\n",
              "      <td>NaN</td>\n",
              "      <td>NaN</td>\n",
              "      <td>NaN</td>\n",
              "      <td>NaN</td>\n",
              "      <td>NaN</td>\n",
              "      <td>NaN</td>\n",
              "      <td>NaN</td>\n",
              "      <td>NaN</td>\n",
              "      <td>NaN</td>\n",
              "      <td>NaN</td>\n",
              "      <td>NaN</td>\n",
              "      <td>NaN</td>\n",
              "      <td>NaN</td>\n",
              "      <td>NaN</td>\n",
              "      <td>NaN</td>\n",
              "      <td>NaN</td>\n",
              "      <td>NaN</td>\n",
              "      <td>NaN</td>\n",
              "      <td>NaN</td>\n",
              "      <td>NaN</td>\n",
              "      <td>NaN</td>\n",
              "      <td>NaN</td>\n",
              "      <td>NaN</td>\n",
              "      <td>NaN</td>\n",
              "      <td>NaN</td>\n",
              "      <td>NaN</td>\n",
              "      <td>NaN</td>\n",
              "      <td>NaN</td>\n",
              "      <td>NaN</td>\n",
              "      <td>NaN</td>\n",
              "      <td>NaN</td>\n",
              "      <td>NaN</td>\n",
              "      <td>NaN</td>\n",
              "      <td>NaN</td>\n",
              "    </tr>\n",
              "    <tr>\n",
              "      <th>4</th>\n",
              "      <td>-89.75</td>\n",
              "      <td>2.25</td>\n",
              "      <td>NaN</td>\n",
              "      <td>NaN</td>\n",
              "      <td>NaN</td>\n",
              "      <td>NaN</td>\n",
              "      <td>NaN</td>\n",
              "      <td>NaN</td>\n",
              "      <td>NaN</td>\n",
              "      <td>NaN</td>\n",
              "      <td>NaN</td>\n",
              "      <td>NaN</td>\n",
              "      <td>NaN</td>\n",
              "      <td>NaN</td>\n",
              "      <td>NaN</td>\n",
              "      <td>NaN</td>\n",
              "      <td>NaN</td>\n",
              "      <td>NaN</td>\n",
              "      <td>NaN</td>\n",
              "      <td>NaN</td>\n",
              "      <td>NaN</td>\n",
              "      <td>NaN</td>\n",
              "      <td>NaN</td>\n",
              "      <td>NaN</td>\n",
              "      <td>NaN</td>\n",
              "      <td>NaN</td>\n",
              "      <td>NaN</td>\n",
              "      <td>NaN</td>\n",
              "      <td>NaN</td>\n",
              "      <td>NaN</td>\n",
              "      <td>NaN</td>\n",
              "      <td>NaN</td>\n",
              "      <td>NaN</td>\n",
              "      <td>NaN</td>\n",
              "      <td>NaN</td>\n",
              "      <td>NaN</td>\n",
              "      <td>NaN</td>\n",
              "      <td>NaN</td>\n",
              "    </tr>\n",
              "  </tbody>\n",
              "</table>\n",
              "</div>"
            ],
            "text/plain": [
              "     lat   lon  1981  1982  1983  1984  ...  2011  2012  2013  2014  2015  2016\n",
              "0 -89.75  0.25   NaN   NaN   NaN   NaN  ...   NaN   NaN   NaN   NaN   NaN   NaN\n",
              "1 -89.75  0.75   NaN   NaN   NaN   NaN  ...   NaN   NaN   NaN   NaN   NaN   NaN\n",
              "2 -89.75  1.25   NaN   NaN   NaN   NaN  ...   NaN   NaN   NaN   NaN   NaN   NaN\n",
              "3 -89.75  1.75   NaN   NaN   NaN   NaN  ...   NaN   NaN   NaN   NaN   NaN   NaN\n",
              "4 -89.75  2.25   NaN   NaN   NaN   NaN  ...   NaN   NaN   NaN   NaN   NaN   NaN\n",
              "\n",
              "[5 rows x 38 columns]"
            ]
          },
          "metadata": {},
          "execution_count": 61
        }
      ]
    },
    {
      "cell_type": "code",
      "metadata": {
        "id": "Gq8KgAL_WOYN"
      },
      "source": [
        "# repeat for wheat \n",
        "\n",
        "ds = xr.open_dataset('drive/My Drive/gdhy_data/wheat/yield_1981.nc4')\n",
        "df = ds.to_dataframe()\n",
        "df = df.reset_index()\n",
        "key = df.iloc[: , 0:2]\n",
        "\n",
        "date = 1981\n",
        "for x in range (0, 36):\n",
        "  ds = xr.open_dataset('drive/My Drive/gdhy_data/wheat/yield_{}.nc4'.format(date))\n",
        "  df = ds.to_dataframe()\n",
        "  df = df.reset_index()\n",
        "  data = df[['var']]\n",
        "  key['{}'.format(date)] = data\n",
        "  date = date+1\n",
        "\n",
        "w = key\n",
        "#w"
      ],
      "execution_count": 3,
      "outputs": []
    },
    {
      "cell_type": "code",
      "metadata": {
        "id": "6NRyUG1GWl2g"
      },
      "source": [
        "# repeat for rice\n",
        "ds = xr.open_dataset('drive/My Drive/gdhy_data/rice/yield_1981.nc4')\n",
        "df = ds.to_dataframe()\n",
        "df = df.reset_index()\n",
        "key = df.iloc[: , 0:2]\n",
        "\n",
        "date = 1981\n",
        "for x in range (0, 36):\n",
        "  ds = xr.open_dataset('drive/My Drive/gdhy_data/rice/yield_{}.nc4'.format(date))\n",
        "  df = ds.to_dataframe()\n",
        "  df = df.reset_index()\n",
        "  data = df[['var']]\n",
        "  key['{}'.format(date)] = data\n",
        "  date = date+1\n",
        "\n",
        "r = key\n",
        "#r"
      ],
      "execution_count": 4,
      "outputs": []
    },
    {
      "cell_type": "code",
      "metadata": {
        "id": "UvEa96sVWzCE"
      },
      "source": [
        "# repeat for maize\n",
        "\n",
        "ds = xr.open_dataset('drive/My Drive/gdhy_data/maize/yield_1981.nc4')\n",
        "df = ds.to_dataframe()\n",
        "df = df.reset_index()\n",
        "key = df.iloc[: , 0:2]\n",
        "\n",
        "date = 1981\n",
        "for x in range (0, 36):\n",
        "  ds = xr.open_dataset('drive/My Drive/gdhy_data/maize/yield_{}.nc4'.format(date))\n",
        "  df = ds.to_dataframe()\n",
        "  df = df.reset_index()\n",
        "  data = df[['var']]\n",
        "  key['{}'.format(date)] = data\n",
        "  date = date+1\n",
        "\n",
        "m = key\n",
        "#m"
      ],
      "execution_count": 5,
      "outputs": []
    },
    {
      "cell_type": "markdown",
      "metadata": {
        "id": "P3zfvbPB14V6"
      },
      "source": [
        "Checking for NaNs - dropping the NaNs has no impact on the mean value and for our purposes it will make no difference if we drop them or not. "
      ]
    },
    {
      "cell_type": "code",
      "metadata": {
        "colab": {
          "base_uri": "https://localhost:8080/"
        },
        "id": "5qvfBrbY2Jpm",
        "outputId": "ce7e1b66-3a6d-4cb4-e810-b2d5061ec4bb"
      },
      "source": [
        "df_list = [s,w,r,m]\n",
        "mean_test=[]\n",
        "for i in df_list:\n",
        "  for year in i.columns[3:-1]:\n",
        "    mean_test.append([year, i[year].mean(), i[year].dropna().mean()])\n",
        "    mean_df = pd.DataFrame(mean_test)\n",
        "  print(mean_df[1].equals(mean_df[2]))\n"
      ],
      "execution_count": 112,
      "outputs": [
        {
          "output_type": "stream",
          "name": "stdout",
          "text": [
            "True\n",
            "True\n",
            "True\n",
            "True\n"
          ]
        }
      ]
    },
    {
      "cell_type": "markdown",
      "metadata": {
        "id": "Q7SwhTTB0Daa"
      },
      "source": [
        "The next step is to take the mean of all global production for a crop by year, the year, and the count of Square-Areas used. This is done with a FOR loop that appends the mean by year, the COUNT, and the year to one df per crop."
      ]
    },
    {
      "cell_type": "code",
      "metadata": {
        "id": "nbl6Hmh2CAPu",
        "colab": {
          "base_uri": "https://localhost:8080/",
          "height": 206
        },
        "outputId": "1a8a7f13-591b-4aef-85bc-16ea3cedfa88"
      },
      "source": [
        "soy_list = []\n",
        "for year in s.columns[3:-1]: \n",
        "  soy_list.append([year, s[year].count(), s[year].mean()])\n",
        "\n",
        "soy_df = pd.DataFrame(soy_list)\n",
        "\n",
        "soy_df.head()"
      ],
      "execution_count": 7,
      "outputs": [
        {
          "output_type": "execute_result",
          "data": {
            "text/html": [
              "<div>\n",
              "<style scoped>\n",
              "    .dataframe tbody tr th:only-of-type {\n",
              "        vertical-align: middle;\n",
              "    }\n",
              "\n",
              "    .dataframe tbody tr th {\n",
              "        vertical-align: top;\n",
              "    }\n",
              "\n",
              "    .dataframe thead th {\n",
              "        text-align: right;\n",
              "    }\n",
              "</style>\n",
              "<table border=\"1\" class=\"dataframe\">\n",
              "  <thead>\n",
              "    <tr style=\"text-align: right;\">\n",
              "      <th></th>\n",
              "      <th>0</th>\n",
              "      <th>1</th>\n",
              "      <th>2</th>\n",
              "    </tr>\n",
              "  </thead>\n",
              "  <tbody>\n",
              "    <tr>\n",
              "      <th>0</th>\n",
              "      <td>1982</td>\n",
              "      <td>6109</td>\n",
              "      <td>1.644824</td>\n",
              "    </tr>\n",
              "    <tr>\n",
              "      <th>1</th>\n",
              "      <td>1983</td>\n",
              "      <td>6111</td>\n",
              "      <td>1.658170</td>\n",
              "    </tr>\n",
              "    <tr>\n",
              "      <th>2</th>\n",
              "      <td>1984</td>\n",
              "      <td>6108</td>\n",
              "      <td>1.719970</td>\n",
              "    </tr>\n",
              "    <tr>\n",
              "      <th>3</th>\n",
              "      <td>1985</td>\n",
              "      <td>6111</td>\n",
              "      <td>1.847896</td>\n",
              "    </tr>\n",
              "    <tr>\n",
              "      <th>4</th>\n",
              "      <td>1986</td>\n",
              "      <td>6108</td>\n",
              "      <td>1.816722</td>\n",
              "    </tr>\n",
              "  </tbody>\n",
              "</table>\n",
              "</div>"
            ],
            "text/plain": [
              "      0     1         2\n",
              "0  1982  6109  1.644824\n",
              "1  1983  6111  1.658170\n",
              "2  1984  6108  1.719970\n",
              "3  1985  6111  1.847896\n",
              "4  1986  6108  1.816722"
            ]
          },
          "metadata": {},
          "execution_count": 7
        }
      ]
    },
    {
      "cell_type": "code",
      "metadata": {
        "id": "yYGD6nuQCYiV"
      },
      "source": [
        "wheat_list = []\n",
        "for year in w.columns[3:-1]: \n",
        "  wheat_list.append([year, w[year].count(), w[year].mean()])\n",
        "\n",
        "wheat_df = pd.DataFrame(wheat_list)\n",
        "\n",
        "#wheat_df"
      ],
      "execution_count": 8,
      "outputs": []
    },
    {
      "cell_type": "code",
      "metadata": {
        "id": "TiclXLirCadn"
      },
      "source": [
        "rice_list = []\n",
        "for year in r.columns[3:-1]: \n",
        "  rice_list.append([year, r[year].count(), r[year].mean()])\n",
        "\n",
        "rice_df = pd.DataFrame(rice_list)\n",
        "\n",
        "#rice_df"
      ],
      "execution_count": 9,
      "outputs": []
    },
    {
      "cell_type": "code",
      "metadata": {
        "id": "r5dyRDChCcJt"
      },
      "source": [
        "maize_list = []\n",
        "for year in m.columns[3:-1]: \n",
        "  maize_list.append([year, m[year].count(), m[year].mean()])\n",
        "\n",
        "maize_df = pd.DataFrame(maize_list)\n",
        "\n",
        "#maize_df"
      ],
      "execution_count": 10,
      "outputs": []
    },
    {
      "cell_type": "markdown",
      "metadata": {
        "id": "HVr9Z4ux0yQy"
      },
      "source": [
        "#EDA and A/B testing\n",
        "\n",
        "The descriptive check indicates the mean production is within normal distribution. "
      ]
    },
    {
      "cell_type": "code",
      "metadata": {
        "id": "1c-GJe3bc3vD",
        "colab": {
          "base_uri": "https://localhost:8080/"
        },
        "outputId": "98123406-8624-4920-9b80-25b40403937f"
      },
      "source": [
        "print('soy descriprion: {}'.format(stats.describe(soy_df[2])))\n",
        "print('wheat descriprion: {}'.format(stats.describe(wheat_df[2])))\n",
        "print('rice descriprion: {}'.format(stats.describe(rice_df[2])))\n",
        "print('maize descriprion: {}'.format(stats.describe(maize_df[2])))"
      ],
      "execution_count": 18,
      "outputs": [
        {
          "output_type": "stream",
          "name": "stdout",
          "text": [
            "soy descriprion: DescribeResult(nobs=34, minmax=(1.6448242664337158, 2.4899697303771973), mean=2.121405033504262, variance=0.06438633693898921, skewness=-0.33501007313338715, kurtosis=-1.0754432291278204)\n",
            "wheat descriprion: DescribeResult(nobs=34, minmax=(3.048541307449341, 4.190497875213623), mean=3.5268111018573536, variance=0.0954703660605824, skewness=0.6315403857442701, kurtosis=-0.5934811295476701)\n",
            "rice descriprion: DescribeResult(nobs=34, minmax=(3.2981224060058594, 5.4573540687561035), mean=4.26640858369715, variance=0.37979501884534006, skewness=0.2423027707788978, kurtosis=-0.9472551451500486)\n",
            "maize descriprion: DescribeResult(nobs=34, minmax=(2.533698081970215, 5.523610591888428), mean=3.7071303409688614, variance=0.5566298521230306, skewness=0.5412546848342789, kurtosis=-0.4533578600363648)\n"
          ]
        }
      ]
    },
    {
      "cell_type": "markdown",
      "metadata": {
        "id": "Sngaknz1Pv3w"
      },
      "source": [
        "The Shapiro Wilk test for the mean indicate we reject the null hypothesis for soy and wheat and we accept it for rice and maize, meaning that we can treat rice and maize as having normally distributed mean production. As we want to compare all four crops to each other we will use non-parametric tests.  "
      ]
    },
    {
      "cell_type": "code",
      "metadata": {
        "id": "5kX-Dsk7c38t",
        "colab": {
          "base_uri": "https://localhost:8080/"
        },
        "outputId": "1c4820da-09db-4cb0-8a03-058294965087"
      },
      "source": [
        "print('soy sharpio: {}'.format(stats.shapiro(soy_df[2])))\n",
        "print('wheat sharpio: {}'.format(stats.shapiro(wheat_df[2])))\n",
        "print('rice sharpio: {}'.format(stats.shapiro(rice_df[2])))\n",
        "print('maize sharpio: {}'.format(stats.shapiro(maize_df[2])))"
      ],
      "execution_count": null,
      "outputs": [
        {
          "output_type": "stream",
          "text": [
            "soy sharpio: (0.9372854828834534, 0.051206085830926895)\n",
            "wheat sharpio: (0.9374247789382935, 0.05169493705034256)\n",
            "rice sharpio: (0.9620159268379211, 0.2781226933002472)\n",
            "maize sharpio: (0.9602242112159729, 0.24683895707130432)\n"
          ],
          "name": "stdout"
        }
      ]
    },
    {
      "cell_type": "markdown",
      "metadata": {
        "id": "jo7rxetg1GhI"
      },
      "source": [
        "Next, the data is visuallized. The next two cells contain (1) a combined histogram of all four crops and (2) histograms of all four crops individually. \n",
        "The third cell contains a plot of the annual average production over the 34 year measuring period. "
      ]
    },
    {
      "cell_type": "code",
      "metadata": {
        "id": "cg7AtkwCXbmt",
        "colab": {
          "base_uri": "https://localhost:8080/",
          "height": 623
        },
        "outputId": "76fb896f-d6e5-426b-9da7-767296c9785a"
      },
      "source": [
        "plt.figure(figsize=(20,10))\n",
        "plt.hist(soy_df[2], color = 'green', alpha=.5, bins=25)\n",
        "plt.hist(maize_df[2], color = 'yellow', alpha=.5, bins=25)\n",
        "plt.hist(rice_df[2], color = 'red', alpha=.5, bins=25)\n",
        "plt.hist(wheat_df[2], color = 'orange', alpha=.5, bins=25)\n",
        "plt.xlabel('Mean Production')"
      ],
      "execution_count": 21,
      "outputs": [
        {
          "output_type": "execute_result",
          "data": {
            "text/plain": [
              "Text(0.5, 0, 'Mean Production')"
            ]
          },
          "metadata": {},
          "execution_count": 21
        },
        {
          "output_type": "display_data",
          "data": {
            "image/png": "[encoded data removed]",
            "text/plain": [
              "<Figure size 1440x720 with 1 Axes>"
            ]
          },
          "metadata": {
            "needs_background": "light"
          }
        }
      ]
    },
    {
      "cell_type": "code",
      "metadata": {
        "id": "qsWFwgK1USeS",
        "colab": {
          "base_uri": "https://localhost:8080/",
          "height": 624
        },
        "outputId": "430b3c76-c778-4cf9-a4d1-11c31411c6d1"
      },
      "source": [
        "plt.figure(figsize=(20,10))\n",
        "plt.subplot(2,2,1)\n",
        "plt.hist(soy_df[2], color = 'green', bins=25)\n",
        "plt.title('Soy')\n",
        "plt.subplot(2,2,2)\n",
        "plt.hist(maize_df[2], color = 'yellow', bins=25)\n",
        "plt.title('Maize')\n",
        "plt.subplot(2,2,3)\n",
        "plt.hist(rice_df[2], color = 'red', bins=25)\n",
        "plt.title('Rice')\n",
        "plt.subplot(2,2,4)\n",
        "plt.hist(wheat_df[2], color = 'orange', bins=25)\n",
        "plt.title('Wheat')"
      ],
      "execution_count": 22,
      "outputs": [
        {
          "output_type": "execute_result",
          "data": {
            "text/plain": [
              "Text(0.5, 1.0, 'Wheat')"
            ]
          },
          "metadata": {},
          "execution_count": 22
        },
        {
          "output_type": "display_data",
          "data": {
            "image/png": "[encoded data removed]",
            "text/plain": [
              "<Figure size 1440x720 with 4 Axes>"
            ]
          },
          "metadata": {
            "needs_background": "light"
          }
        }
      ]
    },
    {
      "cell_type": "markdown",
      "metadata": {
        "id": "ewK5Hc2_dPTl"
      },
      "source": [
        "The histograms do not appear to show a normal distribution. Additionally, they do not represent time in their depiction. What we can infer, which is more clearly visuallized in the plot below,\n",
        "is that overall production of rice is the greatest, followed by maize( corn), wheat, and soy bean respectively. The plot further shows that in the mid 80's the production of corn bypassed that of wheat in the 2010's. It bypassed rice to become the most produced of the four crops. Moreover, the plot shows a continual increase in global production for all four crops\n",
        "all of which have almost doubled in the 36 year measurment period. "
      ]
    },
    {
      "cell_type": "code",
      "metadata": {
        "id": "I_uLenTjEKz6",
        "colab": {
          "base_uri": "https://localhost:8080/",
          "height": 530
        },
        "outputId": "1e006a3c-3b56-4a73-8d56-a7c2c170b9b5"
      },
      "source": [
        "plt.figure(figsize=(10,8))\n",
        "plt.plot(rice_df[2], 'red', label = 'Rice')\n",
        "plt.plot(maize_df[2], 'yellow', label = 'Maize')\n",
        "plt.plot(wheat_df[2], 'orange', label = 'Wheat')\n",
        "plt.plot(soy_df[2], 'green', label = 'Soy')\n",
        "\n",
        "plt.legend(loc = 'upper left')\n",
        "\n",
        "plt.ylabel('Average Annual Yield')\n",
        "plt.xlabel('Years since 1982')\n",
        "\n",
        "plt.title('Priduction over Time')"
      ],
      "execution_count": null,
      "outputs": [
        {
          "output_type": "execute_result",
          "data": {
            "text/plain": [
              "Text(0.5, 1.0, 'Priduction over Time')"
            ]
          },
          "metadata": {
            "tags": []
          },
          "execution_count": 16
        },
        {
          "output_type": "display_data",
          "data": {
            "image/png": "[encoded data removed]",
            "text/plain": [
              "<Figure size 720x576 with 1 Axes>"
            ]
          },
          "metadata": {
            "tags": [],
            "needs_background": "light"
          }
        }
      ]
    },
    {
      "cell_type": "markdown",
      "metadata": {
        "id": "DHer5h6isiIr"
      },
      "source": [
        "Based on a kruskal test for all four crop means we can reject the null that all the crops have the same distribution. However, running a kruskal test on each pair indicates that we can in fact accept the null for wheat and maize and conclued they have a similar distribution."
      ]
    },
    {
      "cell_type": "code",
      "metadata": {
        "id": "wCGPajZssHWA",
        "colab": {
          "base_uri": "https://localhost:8080/",
          "height": 34
        },
        "outputId": "c1a688cc-836c-4765-e5fa-89cfa517bb28"
      },
      "source": [
        "stats.kruskal(soy_df[2], wheat_df[2], rice_df[2], maize_df[2])"
      ],
      "execution_count": null,
      "outputs": [
        {
          "output_type": "execute_result",
          "data": {
            "text/plain": [
              "KruskalResult(statistic=89.34613441770017, pvalue=3.02686521299081e-19)"
            ]
          },
          "metadata": {
            "tags": []
          },
          "execution_count": 17
        }
      ]
    },
    {
      "cell_type": "code",
      "metadata": {
        "id": "PAHvIYNe5P39",
        "colab": {
          "base_uri": "https://localhost:8080/",
          "height": 173
        },
        "outputId": "a0dedb33-e621-4df9-a0b8-7065e9b4f693"
      },
      "source": [
        "a = [soy_df[2].values, wheat_df[2].values, maize_df[2].values, rice_df[2].values]\n",
        "sp.posthoc_dunn(a)"
      ],
      "execution_count": null,
      "outputs": [
        {
          "output_type": "execute_result",
          "data": {
            "text/html": [
              "<div>\n",
              "<style scoped>\n",
              "    .dataframe tbody tr th:only-of-type {\n",
              "        vertical-align: middle;\n",
              "    }\n",
              "\n",
              "    .dataframe tbody tr th {\n",
              "        vertical-align: top;\n",
              "    }\n",
              "\n",
              "    .dataframe thead th {\n",
              "        text-align: right;\n",
              "    }\n",
              "</style>\n",
              "<table border=\"1\" class=\"dataframe\">\n",
              "  <thead>\n",
              "    <tr style=\"text-align: right;\">\n",
              "      <th></th>\n",
              "      <th>1</th>\n",
              "      <th>2</th>\n",
              "      <th>3</th>\n",
              "      <th>4</th>\n",
              "    </tr>\n",
              "  </thead>\n",
              "  <tbody>\n",
              "    <tr>\n",
              "      <th>1</th>\n",
              "      <td>1.000000e+00</td>\n",
              "      <td>1.179124e-08</td>\n",
              "      <td>1.048436e-10</td>\n",
              "      <td>4.175471e-20</td>\n",
              "    </tr>\n",
              "    <tr>\n",
              "      <th>2</th>\n",
              "      <td>1.179124e-08</td>\n",
              "      <td>1.000000e+00</td>\n",
              "      <td>4.490022e-01</td>\n",
              "      <td>5.000688e-04</td>\n",
              "    </tr>\n",
              "    <tr>\n",
              "      <th>3</th>\n",
              "      <td>1.048436e-10</td>\n",
              "      <td>4.490022e-01</td>\n",
              "      <td>1.000000e+00</td>\n",
              "      <td>6.456685e-03</td>\n",
              "    </tr>\n",
              "    <tr>\n",
              "      <th>4</th>\n",
              "      <td>4.175471e-20</td>\n",
              "      <td>5.000688e-04</td>\n",
              "      <td>6.456685e-03</td>\n",
              "      <td>1.000000e+00</td>\n",
              "    </tr>\n",
              "  </tbody>\n",
              "</table>\n",
              "</div>"
            ],
            "text/plain": [
              "              1             2             3             4\n",
              "1  1.000000e+00  1.179124e-08  1.048436e-10  4.175471e-20\n",
              "2  1.179124e-08  1.000000e+00  4.490022e-01  5.000688e-04\n",
              "3  1.048436e-10  4.490022e-01  1.000000e+00  6.456685e-03\n",
              "4  4.175471e-20  5.000688e-04  6.456685e-03  1.000000e+00"
            ]
          },
          "metadata": {
            "tags": []
          },
          "execution_count": 18
        }
      ]
    },
    {
      "cell_type": "markdown",
      "metadata": {
        "id": "k0iGf2KUeCry"
      },
      "source": [
        "This ends the preliminary analysis of the data. As we expected, global crop production increased over the 34 year measuring period. We also discovered that only maize and wheat are significantly related in their mean production. What this tells us is that maize and wheat are produced in similar quantities and the graph further shows that they are the two most produced crops of the four. The next question we will address is how much land will we need for the coming years?\n",
        "\n",
        "We will look at a count of the amount of square-areas being used to determine a prediction for how much land will be needed in the future."
      ]
    },
    {
      "cell_type": "code",
      "metadata": {
        "id": "jkwT6vvyUE1o",
        "colab": {
          "base_uri": "https://localhost:8080/",
          "height": 638
        },
        "outputId": "2ad7c2a8-7d2f-45ee-8a96-1a1fbb0f980f"
      },
      "source": [
        "plt.figure(figsize=(12,10))\n",
        "plt.plot(rice_df[1], rice_df[2], 'red', label = 'Rice')\n",
        "plt.plot(maize_df[1], maize_df[2],  'yellow', label = 'Maize')\n",
        "plt.plot(wheat_df[1], wheat_df[2],  'orange', label = 'Wheat')\n",
        "plt.plot(soy_df[1], soy_df[2],  'green', label = 'Soy')\n",
        "\n",
        "plt.xlabel('Square-Area')\n",
        "plt.ylabel('Mean Produce')\n",
        "\n",
        "plt.legend(loc = 'upper left')\n",
        "\n",
        "plt.title('Square Area used with Mean Production')"
      ],
      "execution_count": null,
      "outputs": [
        {
          "output_type": "execute_result",
          "data": {
            "text/plain": [
              "Text(0.5, 1.0, 'Square Area used with Mean Production')"
            ]
          },
          "metadata": {
            "tags": []
          },
          "execution_count": 19
        },
        {
          "output_type": "display_data",
          "data": {
            "image/png": "[encoded data removed]",
            "text/plain": [
              "<Figure size 864x720 with 1 Axes>"
            ]
          },
          "metadata": {
            "tags": [],
            "needs_background": "light"
          }
        }
      ]
    },
    {
      "cell_type": "code",
      "metadata": {
        "id": "qTJxSjyP0aLM",
        "colab": {
          "base_uri": "https://localhost:8080/",
          "height": 656
        },
        "outputId": "c7fe6b02-e8ef-4594-b367-177ea5f45127"
      },
      "source": [
        "plt.figure(figsize=(12,10))\n",
        "plt.plot(rice_df[0], rice_df[1], 'red', label = 'Rice')\n",
        "plt.plot(maize_df[0], maize_df[1],  'yellow', label = 'Maize')\n",
        "plt.plot(wheat_df[0], wheat_df[1],  'orange', label = 'Wheat')\n",
        "plt.plot(soy_df[0], soy_df[1],  'green', label = 'Soy')\n",
        "\n",
        "plt.xlabel('Year')\n",
        "plt.xticks(rotation=-60)\n",
        "plt.ylabel('Sauare-Area')\n",
        "\n",
        "plt.legend(loc = 'upper left')\n",
        "\n",
        "plt.title('Square Area used per year')"
      ],
      "execution_count": 15,
      "outputs": [
        {
          "output_type": "execute_result",
          "data": {
            "text/plain": [
              "Text(0.5, 1.0, 'Square Area used per year')"
            ]
          },
          "metadata": {},
          "execution_count": 15
        },
        {
          "output_type": "display_data",
          "data": {
            "image/png": "[encoded data removed]",
            "text/plain": [
              "<Figure size 864x720 with 1 Axes>"
            ]
          },
          "metadata": {
            "needs_background": "light"
          }
        }
      ]
    },
    {
      "cell_type": "markdown",
      "metadata": {
        "id": "Yzq7Ui7nN_X2"
      },
      "source": [
        "The above charts indicates the amount of land being used has decreased since 1982 while the amount of food being produced has increased. This is supported by our earlier analysis. \n",
        "\n",
        "Below is a further tool for visualzing the same argument. "
      ]
    },
    {
      "cell_type": "code",
      "metadata": {
        "id": "vSAuv2-90qnP",
        "colab": {
          "base_uri": "https://localhost:8080/",
          "height": 656
        },
        "outputId": "724c165c-e56d-4cfd-b7fe-d65f594e4cf0"
      },
      "source": [
        "plt.figure(figsize=(12,10))\n",
        "plt.plot(rice_df[0], (rice_df[2]/rice_df[1]), 'red', label = 'Rice')\n",
        "plt.plot(maize_df[0], (maize_df[2]/maize_df[1]),  'yellow', label = 'Maize')\n",
        "plt.plot(wheat_df[0], (wheat_df[2]/wheat_df[1]),  'orange', label = 'Wheat')\n",
        "plt.plot(soy_df[0], (soy_df[2]/soy_df[1]),  'green', label = 'Soy')\n",
        "\n",
        "plt.xlabel('Year')\n",
        "plt.xticks(rotation=-60)\n",
        "plt.ylabel('Square-Area/Mean Production')\n",
        "\n",
        "plt.legend(loc = 'upper left')\n",
        "\n",
        "plt.title('Average Produce per Square-Area over Time')"
      ],
      "execution_count": 16,
      "outputs": [
        {
          "output_type": "execute_result",
          "data": {
            "text/plain": [
              "Text(0.5, 1.0, 'Average Produce per Square-Area over Time')"
            ]
          },
          "metadata": {},
          "execution_count": 16
        },
        {
          "output_type": "display_data",
          "data": {
            "image/png": "[encoded data removed]",
            "text/plain": [
              "<Figure size 864x720 with 1 Axes>"
            ]
          },
          "metadata": {
            "needs_background": "light"
          }
        }
      ]
    },
    {
      "cell_type": "code",
      "metadata": {
        "colab": {
          "base_uri": "https://localhost:8080/",
          "height": 656
        },
        "id": "8rVOOPPDQhuZ",
        "outputId": "948e42f6-a2a6-455e-e091-3e5924da28e7"
      },
      "source": [
        "plt.figure(figsize=(12,10))\n",
        "plt.plot(rice_df[0], (rice_df[1]/rice_df[2]), 'red', label = 'Rice')\n",
        "plt.plot(maize_df[0], (maize_df[1]/maize_df[2]),  'yellow', label = 'Maize')\n",
        "plt.plot(wheat_df[0], (wheat_df[1]/wheat_df[2]),  'orange', label = 'Wheat')\n",
        "plt.plot(soy_df[0], (soy_df[1]/soy_df[2]),  'green', label = 'Soy')\n",
        "\n",
        "plt.xlabel('Year')\n",
        "plt.xticks(rotation=-60)\n",
        "plt.ylabel('Mean Production/Square-Area')\n",
        "\n",
        "plt.legend(loc = 'upper left')\n",
        "\n",
        "plt.title('Average Square-Area by Produce over Time')"
      ],
      "execution_count": 23,
      "outputs": [
        {
          "output_type": "execute_result",
          "data": {
            "text/plain": [
              "Text(0.5, 1.0, 'Average Square-Area by Produce over Time')"
            ]
          },
          "metadata": {},
          "execution_count": 23
        },
        {
          "output_type": "display_data",
          "data": {
            "image/png": "[encoded data removed]",
            "text/plain": [
              "<Figure size 864x720 with 1 Axes>"
            ]
          },
          "metadata": {
            "needs_background": "light"
          }
        }
      ]
    },
    {
      "cell_type": "markdown",
      "metadata": {
        "id": "gJI-drRBOkpE"
      },
      "source": [
        "These are arguably the best visualizations. They allows us to see the ratio of land used to food produced over time. In the first formulation, we see a positive correlation and can say that the amount of food being produced on a given piece of land has increased. If we inverse the ratio, we can say the amount of land used to produce a given amount of food has decreased.\n",
        "\n",
        "Both exemplify the same point, but it is worth considering the impact of each on the audience and the tone we will finally want to use when presenting the data. "
      ]
    },
    {
      "cell_type": "markdown",
      "metadata": {
        "id": "cecZIdvmpkRW"
      },
      "source": [
        "Next, we check for normality of the square-area distibution by looking at the skew, kurtosis, and results of a Shapiro-Wilks test.\n",
        "\n",
        "The kurtosis for the square-area falls outside the acceptable +/- 3 range and indicated non-normality for soy and maize, and falls on the line of acceptable vlaues for wheat and rice. The Shapiro test confirms this finding. "
      ]
    },
    {
      "cell_type": "code",
      "metadata": {
        "id": "1I8AE1uAn2oY",
        "colab": {
          "base_uri": "https://localhost:8080/",
          "height": 105
        },
        "outputId": "fe09eb87-c439-4fff-c5bc-0e081c74e35d"
      },
      "source": [
        "print('soy descriprion: {}'.format(stats.describe(soy_df[1])))\n",
        "print('wheat descriprion: {}'.format(stats.describe(wheat_df[1])))\n",
        "print('rice descriprion: {}'.format(stats.describe(rice_df[1])))\n",
        "print('maize descriprion: {}'.format(stats.describe(maize_df[1])))"
      ],
      "execution_count": null,
      "outputs": [
        {
          "output_type": "stream",
          "text": [
            "soy descriprion: DescribeResult(nobs=34, minmax=(4961, 6123), mean=6018.235294117647, variance=68479.0944741533, skewness=-2.6518243857629575, kurtosis=6.542950303852827)\n",
            "wheat descriprion: DescribeResult(nobs=34, minmax=(9593, 12731), mean=12352.64705882353, variance=688892.7807486631, skewness=-2.1664973007410575, kurtosis=3.150748357437954)\n",
            "rice descriprion: DescribeResult(nobs=34, minmax=(7415, 9560), mean=9327.35294117647, variance=314921.7504456328, skewness=-2.214489031869901, kurtosis=3.4237225685836137)\n",
            "maize descriprion: DescribeResult(nobs=34, minmax=(11135, 15099), mean=14673.235294117647, variance=980244.7914438503, skewness=-2.295478361875523, kurtosis=4.019560340570535)\n"
          ],
          "name": "stdout"
        }
      ]
    },
    {
      "cell_type": "markdown",
      "metadata": {
        "id": "yqQrrdZpS52t"
      },
      "source": [
        "The p-vlaue from the null that the count of square-areas are normally distributed. The conclusion is that no crop uses a similar distribution of land.This also means we will need to use nonparametric tests."
      ]
    },
    {
      "cell_type": "code",
      "metadata": {
        "id": "huivdu6CsrOp",
        "colab": {
          "base_uri": "https://localhost:8080/",
          "height": 85
        },
        "outputId": "b6529373-28f2-4512-db16-a2a7c7b6be1f"
      },
      "source": [
        "print('soy sharpio: {}'.format(stats.shapiro(soy_df[1])))\n",
        "print('wheat sharpio: {}'.format(stats.shapiro(wheat_df[1])))\n",
        "print('rice sharpio: {}'.format(stats.shapiro(rice_df[1])))\n",
        "print('maize sharpio: {}'.format(stats.shapiro(maize_df[1])))"
      ],
      "execution_count": null,
      "outputs": [
        {
          "output_type": "stream",
          "text": [
            "soy sharpio: (0.4506005048751831, 3.7427494437025643e-10)\n",
            "wheat sharpio: (0.4827563762664795, 8.2083079222528e-10)\n",
            "rice sharpio: (0.45455968379974365, 4.115698892803721e-10)\n",
            "maize sharpio: (0.47074878215789795, 6.099095672951194e-10)\n"
          ],
          "name": "stdout"
        }
      ]
    },
    {
      "cell_type": "code",
      "metadata": {
        "id": "xfaZ3N_btIU5",
        "colab": {
          "base_uri": "https://localhost:8080/",
          "height": 353
        },
        "outputId": "b2b673eb-6d91-4d7c-a70b-fcc5d286859c"
      },
      "source": [
        "plt.hist(soy_df[1], color='green', bins=15)\n",
        "plt.hist(wheat_df[1], color='orange', bins=15)\n",
        "plt.hist(maize_df[1], color='yellow', bins=15)\n",
        "plt.hist(rice_df[1], color='red', bins=15)"
      ],
      "execution_count": 24,
      "outputs": [
        {
          "output_type": "execute_result",
          "data": {
            "text/plain": [
              "(array([ 1.,  0.,  0.,  0.,  0.,  4.,  0.,  0.,  0.,  0.,  0.,  0.,  0.,\n",
              "         0., 29.]),\n",
              " array([7415., 7558., 7701., 7844., 7987., 8130., 8273., 8416., 8559.,\n",
              "        8702., 8845., 8988., 9131., 9274., 9417., 9560.]),\n",
              " <a list of 15 Patch objects>)"
            ]
          },
          "metadata": {},
          "execution_count": 24
        },
        {
          "output_type": "display_data",
          "data": {
            "image/png": "[encoded data removed]",
            "text/plain": [
              "<Figure size 432x288 with 1 Axes>"
            ]
          },
          "metadata": {
            "needs_background": "light"
          }
        }
      ]
    },
    {
      "cell_type": "markdown",
      "metadata": {
        "id": "0k5rROIlsAxS"
      },
      "source": [
        "Next, we use a Kruskal test to check if the difference seen in the Shapiro test is incorrect. The incredible small p-value indicates that the observed difference are likly existent in the data. We reject the null and conclude that none of the crops have an equal median. "
      ]
    },
    {
      "cell_type": "code",
      "metadata": {
        "id": "aL1yHwNnxOc2",
        "colab": {
          "base_uri": "https://localhost:8080/",
          "height": 34
        },
        "outputId": "e9e53749-a053-4950-964e-15da75423a95"
      },
      "source": [
        "stats.kruskal(wheat_df[1], maize_df[1], rice_df[1], soy_df[1])"
      ],
      "execution_count": null,
      "outputs": [
        {
          "output_type": "execute_result",
          "data": {
            "text/plain": [
              "KruskalResult(statistic=125.22687996666691, pvalue=5.774904529200174e-27)"
            ]
          },
          "metadata": {
            "tags": []
          },
          "execution_count": 38
        }
      ]
    },
    {
      "cell_type": "markdown",
      "metadata": {
        "id": "TAYQB6d6xygd"
      },
      "source": [
        "## Conclusion \n",
        "Good news! We have discovered that the amount of land being used to produce food has diminished while the amount of food being produced on that land is increasing. This is the first step in ensuring we do not have a land crisis in the coming future. \n",
        "\n",
        "A preliminary analysis indicates that an increased use of GMOs and improved agricultural techniques has helped reduce the amount of land needed to supply the same amount of food. \n",
        "\n",
        "There are still many concerns not addressed in this analysis. What are the nutrient demands of these crops? Are they sustainable? Is less land really being used for agriculture or is the land being using for some other crop not in this data? \n",
        "\n",
        "While our results our positive, we should accept them with cautious optimism. There are many unanswered questions worth further exploration.\n",
        "\n",
        "\n",
        "\n"
      ]
    }
  ]
}