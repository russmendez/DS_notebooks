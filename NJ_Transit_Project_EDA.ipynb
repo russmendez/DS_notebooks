{
  "nbformat": 4,
  "nbformat_minor": 0,
  "metadata": {
    "colab": {
      "name": "NJ Transit Project EDA.ipynb",
      "provenance": [],
      "authorship_tag": "ABX9TyPGJvdapmkbK5asTGbkSIq6",
      "include_colab_link": true
    },
    "kernelspec": {
      "name": "python3",
      "display_name": "Python 3"
    }
  },
  "cells": [
    {
      "cell_type": "markdown",
      "metadata": {
        "id": "view-in-github",
        "colab_type": "text"
      },
      "source": [
        "<a href=\"https://colab.research.google.com/github/russmendez/DS_notebooks/blob/master/NJ_Transit_Project_EDA.ipynb\" target=\"_parent\"><img src=\"https://colab.research.google.com/assets/colab-badge.svg\" alt=\"Open In Colab\"/></a>"
      ]
    },
    {
      "cell_type": "markdown",
      "metadata": {
        "id": "KGQCS7Gn7NuM"
      },
      "source": [
        "# Setup\n",
        "\n",
        "https://www.kaggle.com/pranavbadami/nj-transit-amtrak-nec-performance"
      ]
    },
    {
      "cell_type": "code",
      "metadata": {
        "colab": {
          "base_uri": "https://localhost:8080/"
        },
        "id": "voaGSIkYoS7S",
        "outputId": "d1feced2-ba77-4f7d-c078-cd6bb323e216"
      },
      "source": [
        "from google.colab import drive\n",
        "drive.mount('/content/drive')\n",
        "#!unzip '/content/drive/My Drive/archive (7).zip' -d '/content/drive/My Drive'"
      ],
      "execution_count": null,
      "outputs": [
        {
          "output_type": "stream",
          "text": [
            "Mounted at /content/drive\n"
          ],
          "name": "stdout"
        }
      ]
    },
    {
      "cell_type": "code",
      "metadata": {
        "id": "1NGgrK1yoxPl"
      },
      "source": [
        "import pandas as pd\n",
        "import numpy as np\n",
        "import seaborn as sns\n",
        "import matplotlib.pyplot as plt\n",
        "%matplotlib inline\n",
        "from datetime import datetime\n",
        "import datetime as dt"
      ],
      "execution_count": null,
      "outputs": []
    },
    {
      "cell_type": "code",
      "metadata": {
        "id": "_7lP5sJOpjyD"
      },
      "source": [
        "df_2018 = pd.concat([pd.read_csv('drive/My Drive/NJ Transit Project/2018_03.csv'), \n",
        "                     pd.read_csv('drive/My Drive/NJ Transit Project/2018_04.csv'), \n",
        "                     pd.read_csv('drive/My Drive/NJ Transit Project/2018_05.csv'),\n",
        "                     pd.read_csv('drive/My Drive/NJ Transit Project/2018_06.csv'),\n",
        "                     pd.read_csv('drive/My Drive/NJ Transit Project/2018_07.csv'),\n",
        "                     pd.read_csv('drive/My Drive/NJ Transit Project/2018_08.csv'),\n",
        "                     pd.read_csv('drive/My Drive/NJ Transit Project/2018_09.csv'),\n",
        "                     pd.read_csv('drive/My Drive/NJ Transit Project/2018_10.csv'),\n",
        "                     pd.read_csv('drive/My Drive/NJ Transit Project/2018_11.csv'),\n",
        "                     pd.read_csv('drive/My Drive/NJ Transit Project/2018_12.csv')], \n",
        "                    ignore_index=True)\n",
        "\n",
        "df_2019 = pd.concat([pd.read_csv('drive/My Drive/NJ Transit Project/2019_01.csv'),\n",
        "                     pd.read_csv('drive/My Drive/NJ Transit Project/2019_02.csv'),\n",
        "                     pd.read_csv('drive/My Drive/NJ Transit Project/2019_03.csv'),\n",
        "                     pd.read_csv('drive/My Drive/NJ Transit Project/2019_03.csv'), \n",
        "                     pd.read_csv('drive/My Drive/NJ Transit Project/2019_04.csv'), \n",
        "                     pd.read_csv('drive/My Drive/NJ Transit Project/2019_05.csv'),\n",
        "                     pd.read_csv('drive/My Drive/NJ Transit Project/2019_06.csv'),\n",
        "                     pd.read_csv('drive/My Drive/NJ Transit Project/2019_07.csv'),\n",
        "                     pd.read_csv('drive/My Drive/NJ Transit Project/2019_08.csv'),\n",
        "                     pd.read_csv('drive/My Drive/NJ Transit Project/2019_09.csv'),\n",
        "                     pd.read_csv('drive/My Drive/NJ Transit Project/2019_10.csv'),\n",
        "                     pd.read_csv('drive/My Drive/NJ Transit Project/2019_11.csv'),\n",
        "                     pd.read_csv('drive/My Drive/NJ Transit Project/2019_12.csv')], \n",
        "                    ignore_index=True)\n",
        "\n",
        "\n",
        "df_2020 = pd.concat([pd.read_csv('drive/My Drive/NJ Transit Project/2020_01.csv'),\n",
        "                     pd.read_csv('drive/My Drive/NJ Transit Project/2020_02.csv'),\n",
        "                     pd.read_csv('drive/My Drive/NJ Transit Project/2020_03.csv'),\n",
        "                     pd.read_csv('drive/My Drive/NJ Transit Project/2020_03.csv'), \n",
        "                     pd.read_csv('drive/My Drive/NJ Transit Project/2020_04.csv'), \n",
        "                     pd.read_csv('drive/My Drive/NJ Transit Project/2020_05.csv')],\n",
        "                    ignore_index=True)\n",
        "\n",
        "df_full = pd.concat([df_2018, df_2019, df_2020], ignore_index=True)\n",
        "\n",
        "invalid_trains = pd.read_csv('drive/My Drive/NJ Transit Project/invalid_trains.csv')\n",
        "\n",
        "invalid_trains_05_01_19__05_18_20 = pd.read_csv('drive/My Drive/NJ Transit Project/invalid_trains_05-01-19_05-18-20.csv')"
      ],
      "execution_count": null,
      "outputs": []
    },
    {
      "cell_type": "markdown",
      "metadata": {
        "id": "9scj0QV97aWd"
      },
      "source": [
        "#EDA"
      ]
    },
    {
      "cell_type": "markdown",
      "metadata": {
        "id": "ntOZZr7FI3CK"
      },
      "source": [
        "###Looking at the data"
      ]
    },
    {
      "cell_type": "code",
      "metadata": {
        "colab": {
          "base_uri": "https://localhost:8080/",
          "height": 289
        },
        "id": "EwiSJNKJI0yy",
        "outputId": "0e5c91ad-672b-42ac-b825-01ce5c736fad"
      },
      "source": [
        "df_full.head()"
      ],
      "execution_count": null,
      "outputs": [
        {
          "output_type": "execute_result",
          "data": {
            "text/html": [
              "<div>\n",
              "<style scoped>\n",
              "    .dataframe tbody tr th:only-of-type {\n",
              "        vertical-align: middle;\n",
              "    }\n",
              "\n",
              "    .dataframe tbody tr th {\n",
              "        vertical-align: top;\n",
              "    }\n",
              "\n",
              "    .dataframe thead th {\n",
              "        text-align: right;\n",
              "    }\n",
              "</style>\n",
              "<table border=\"1\" class=\"dataframe\">\n",
              "  <thead>\n",
              "    <tr style=\"text-align: right;\">\n",
              "      <th></th>\n",
              "      <th>date</th>\n",
              "      <th>train_id</th>\n",
              "      <th>stop_sequence</th>\n",
              "      <th>from</th>\n",
              "      <th>from_id</th>\n",
              "      <th>to</th>\n",
              "      <th>to_id</th>\n",
              "      <th>scheduled_time</th>\n",
              "      <th>actual_time</th>\n",
              "      <th>delay_minutes</th>\n",
              "      <th>status</th>\n",
              "      <th>line</th>\n",
              "      <th>type</th>\n",
              "    </tr>\n",
              "  </thead>\n",
              "  <tbody>\n",
              "    <tr>\n",
              "      <th>0</th>\n",
              "      <td>2018-03-01</td>\n",
              "      <td>3805</td>\n",
              "      <td>1.0</td>\n",
              "      <td>New York Penn Station</td>\n",
              "      <td>105.0</td>\n",
              "      <td>New York Penn Station</td>\n",
              "      <td>105.0</td>\n",
              "      <td>2018-03-02 01:22:00</td>\n",
              "      <td>2018-03-02 01:21:05</td>\n",
              "      <td>0.000000</td>\n",
              "      <td>departed</td>\n",
              "      <td>Northeast Corrdr</td>\n",
              "      <td>NJ Transit</td>\n",
              "    </tr>\n",
              "    <tr>\n",
              "      <th>1</th>\n",
              "      <td>2018-03-01</td>\n",
              "      <td>3805</td>\n",
              "      <td>2.0</td>\n",
              "      <td>New York Penn Station</td>\n",
              "      <td>105.0</td>\n",
              "      <td>Secaucus Upper Lvl</td>\n",
              "      <td>38187.0</td>\n",
              "      <td>2018-03-02 01:31:00</td>\n",
              "      <td>2018-03-02 01:31:08</td>\n",
              "      <td>0.133333</td>\n",
              "      <td>departed</td>\n",
              "      <td>Northeast Corrdr</td>\n",
              "      <td>NJ Transit</td>\n",
              "    </tr>\n",
              "    <tr>\n",
              "      <th>2</th>\n",
              "      <td>2018-03-01</td>\n",
              "      <td>3805</td>\n",
              "      <td>3.0</td>\n",
              "      <td>Secaucus Upper Lvl</td>\n",
              "      <td>38187.0</td>\n",
              "      <td>Newark Penn Station</td>\n",
              "      <td>107.0</td>\n",
              "      <td>2018-03-02 01:40:00</td>\n",
              "      <td>2018-03-02 01:40:07</td>\n",
              "      <td>0.116667</td>\n",
              "      <td>departed</td>\n",
              "      <td>Northeast Corrdr</td>\n",
              "      <td>NJ Transit</td>\n",
              "    </tr>\n",
              "    <tr>\n",
              "      <th>3</th>\n",
              "      <td>2018-03-01</td>\n",
              "      <td>3805</td>\n",
              "      <td>4.0</td>\n",
              "      <td>Newark Penn Station</td>\n",
              "      <td>107.0</td>\n",
              "      <td>Newark Airport</td>\n",
              "      <td>37953.0</td>\n",
              "      <td>2018-03-02 01:45:00</td>\n",
              "      <td>2018-03-02 01:45:10</td>\n",
              "      <td>0.166667</td>\n",
              "      <td>departed</td>\n",
              "      <td>Northeast Corrdr</td>\n",
              "      <td>NJ Transit</td>\n",
              "    </tr>\n",
              "    <tr>\n",
              "      <th>4</th>\n",
              "      <td>2018-03-01</td>\n",
              "      <td>3805</td>\n",
              "      <td>5.0</td>\n",
              "      <td>Newark Airport</td>\n",
              "      <td>37953.0</td>\n",
              "      <td>North Elizabeth</td>\n",
              "      <td>109.0</td>\n",
              "      <td>2018-03-02 01:49:00</td>\n",
              "      <td>2018-03-02 01:49:10</td>\n",
              "      <td>0.166667</td>\n",
              "      <td>departed</td>\n",
              "      <td>Northeast Corrdr</td>\n",
              "      <td>NJ Transit</td>\n",
              "    </tr>\n",
              "  </tbody>\n",
              "</table>\n",
              "</div>"
            ],
            "text/plain": [
              "         date train_id  stop_sequence  ...    status              line        type\n",
              "0  2018-03-01     3805            1.0  ...  departed  Northeast Corrdr  NJ Transit\n",
              "1  2018-03-01     3805            2.0  ...  departed  Northeast Corrdr  NJ Transit\n",
              "2  2018-03-01     3805            3.0  ...  departed  Northeast Corrdr  NJ Transit\n",
              "3  2018-03-01     3805            4.0  ...  departed  Northeast Corrdr  NJ Transit\n",
              "4  2018-03-01     3805            5.0  ...  departed  Northeast Corrdr  NJ Transit\n",
              "\n",
              "[5 rows x 13 columns]"
            ]
          },
          "metadata": {
            "tags": []
          },
          "execution_count": 5
        }
      ]
    },
    {
      "cell_type": "code",
      "metadata": {
        "colab": {
          "base_uri": "https://localhost:8080/",
          "height": 297
        },
        "id": "Vh5TJ8spI-oG",
        "outputId": "3cc2720b-9166-44e9-c6db-9956e8f6b5c5"
      },
      "source": [
        "df_full.describe()"
      ],
      "execution_count": null,
      "outputs": [
        {
          "output_type": "execute_result",
          "data": {
            "text/html": [
              "<div>\n",
              "<style scoped>\n",
              "    .dataframe tbody tr th:only-of-type {\n",
              "        vertical-align: middle;\n",
              "    }\n",
              "\n",
              "    .dataframe tbody tr th {\n",
              "        vertical-align: top;\n",
              "    }\n",
              "\n",
              "    .dataframe thead th {\n",
              "        text-align: right;\n",
              "    }\n",
              "</style>\n",
              "<table border=\"1\" class=\"dataframe\">\n",
              "  <thead>\n",
              "    <tr style=\"text-align: right;\">\n",
              "      <th></th>\n",
              "      <th>stop_sequence</th>\n",
              "      <th>from_id</th>\n",
              "      <th>to_id</th>\n",
              "      <th>delay_minutes</th>\n",
              "    </tr>\n",
              "  </thead>\n",
              "  <tbody>\n",
              "    <tr>\n",
              "      <th>count</th>\n",
              "      <td>6.176036e+06</td>\n",
              "      <td>6.806169e+06</td>\n",
              "      <td>6.806169e+06</td>\n",
              "      <td>6.176036e+06</td>\n",
              "    </tr>\n",
              "    <tr>\n",
              "      <th>mean</th>\n",
              "      <td>8.080183e+00</td>\n",
              "      <td>4.214247e+03</td>\n",
              "      <td>4.225329e+03</td>\n",
              "      <td>4.141064e+00</td>\n",
              "    </tr>\n",
              "    <tr>\n",
              "      <th>std</th>\n",
              "      <td>5.085804e+00</td>\n",
              "      <td>1.177913e+04</td>\n",
              "      <td>1.179145e+04</td>\n",
              "      <td>6.977320e+00</td>\n",
              "    </tr>\n",
              "    <tr>\n",
              "      <th>min</th>\n",
              "      <td>1.000000e+00</td>\n",
              "      <td>1.000000e+00</td>\n",
              "      <td>1.000000e+00</td>\n",
              "      <td>0.000000e+00</td>\n",
              "    </tr>\n",
              "    <tr>\n",
              "      <th>25%</th>\n",
              "      <td>4.000000e+00</td>\n",
              "      <td>5.800000e+01</td>\n",
              "      <td>5.800000e+01</td>\n",
              "      <td>1.033333e+00</td>\n",
              "    </tr>\n",
              "    <tr>\n",
              "      <th>50%</th>\n",
              "      <td>7.000000e+00</td>\n",
              "      <td>1.050000e+02</td>\n",
              "      <td>1.050000e+02</td>\n",
              "      <td>2.283333e+00</td>\n",
              "    </tr>\n",
              "    <tr>\n",
              "      <th>75%</th>\n",
              "      <td>1.200000e+01</td>\n",
              "      <td>1.360000e+02</td>\n",
              "      <td>1.360000e+02</td>\n",
              "      <td>5.050000e+00</td>\n",
              "    </tr>\n",
              "    <tr>\n",
              "      <th>max</th>\n",
              "      <td>2.600000e+01</td>\n",
              "      <td>4.359900e+04</td>\n",
              "      <td>4.359900e+04</td>\n",
              "      <td>5.730000e+02</td>\n",
              "    </tr>\n",
              "  </tbody>\n",
              "</table>\n",
              "</div>"
            ],
            "text/plain": [
              "       stop_sequence       from_id         to_id  delay_minutes\n",
              "count   6.176036e+06  6.806169e+06  6.806169e+06   6.176036e+06\n",
              "mean    8.080183e+00  4.214247e+03  4.225329e+03   4.141064e+00\n",
              "std     5.085804e+00  1.177913e+04  1.179145e+04   6.977320e+00\n",
              "min     1.000000e+00  1.000000e+00  1.000000e+00   0.000000e+00\n",
              "25%     4.000000e+00  5.800000e+01  5.800000e+01   1.033333e+00\n",
              "50%     7.000000e+00  1.050000e+02  1.050000e+02   2.283333e+00\n",
              "75%     1.200000e+01  1.360000e+02  1.360000e+02   5.050000e+00\n",
              "max     2.600000e+01  4.359900e+04  4.359900e+04   5.730000e+02"
            ]
          },
          "metadata": {
            "tags": []
          },
          "execution_count": 6
        }
      ]
    },
    {
      "cell_type": "code",
      "metadata": {
        "colab": {
          "base_uri": "https://localhost:8080/",
          "height": 817
        },
        "id": "ivIU4zwnI-s2",
        "outputId": "466f147e-6b03-4fbb-9023-6b913d342351"
      },
      "source": [
        "df_full[(df_full.train_id == '3805') & (df_full.date == '2018-03-01')]"
      ],
      "execution_count": null,
      "outputs": [
        {
          "output_type": "execute_result",
          "data": {
            "text/html": [
              "<div>\n",
              "<style scoped>\n",
              "    .dataframe tbody tr th:only-of-type {\n",
              "        vertical-align: middle;\n",
              "    }\n",
              "\n",
              "    .dataframe tbody tr th {\n",
              "        vertical-align: top;\n",
              "    }\n",
              "\n",
              "    .dataframe thead th {\n",
              "        text-align: right;\n",
              "    }\n",
              "</style>\n",
              "<table border=\"1\" class=\"dataframe\">\n",
              "  <thead>\n",
              "    <tr style=\"text-align: right;\">\n",
              "      <th></th>\n",
              "      <th>date</th>\n",
              "      <th>train_id</th>\n",
              "      <th>stop_sequence</th>\n",
              "      <th>from</th>\n",
              "      <th>from_id</th>\n",
              "      <th>to</th>\n",
              "      <th>to_id</th>\n",
              "      <th>scheduled_time</th>\n",
              "      <th>actual_time</th>\n",
              "      <th>delay_minutes</th>\n",
              "      <th>status</th>\n",
              "      <th>line</th>\n",
              "      <th>type</th>\n",
              "    </tr>\n",
              "  </thead>\n",
              "  <tbody>\n",
              "    <tr>\n",
              "      <th>0</th>\n",
              "      <td>2018-03-01</td>\n",
              "      <td>3805</td>\n",
              "      <td>1.0</td>\n",
              "      <td>New York Penn Station</td>\n",
              "      <td>105.0</td>\n",
              "      <td>New York Penn Station</td>\n",
              "      <td>105.0</td>\n",
              "      <td>2018-03-02 01:22:00</td>\n",
              "      <td>2018-03-02 01:21:05</td>\n",
              "      <td>0.000000</td>\n",
              "      <td>departed</td>\n",
              "      <td>Northeast Corrdr</td>\n",
              "      <td>NJ Transit</td>\n",
              "    </tr>\n",
              "    <tr>\n",
              "      <th>1</th>\n",
              "      <td>2018-03-01</td>\n",
              "      <td>3805</td>\n",
              "      <td>2.0</td>\n",
              "      <td>New York Penn Station</td>\n",
              "      <td>105.0</td>\n",
              "      <td>Secaucus Upper Lvl</td>\n",
              "      <td>38187.0</td>\n",
              "      <td>2018-03-02 01:31:00</td>\n",
              "      <td>2018-03-02 01:31:08</td>\n",
              "      <td>0.133333</td>\n",
              "      <td>departed</td>\n",
              "      <td>Northeast Corrdr</td>\n",
              "      <td>NJ Transit</td>\n",
              "    </tr>\n",
              "    <tr>\n",
              "      <th>2</th>\n",
              "      <td>2018-03-01</td>\n",
              "      <td>3805</td>\n",
              "      <td>3.0</td>\n",
              "      <td>Secaucus Upper Lvl</td>\n",
              "      <td>38187.0</td>\n",
              "      <td>Newark Penn Station</td>\n",
              "      <td>107.0</td>\n",
              "      <td>2018-03-02 01:40:00</td>\n",
              "      <td>2018-03-02 01:40:07</td>\n",
              "      <td>0.116667</td>\n",
              "      <td>departed</td>\n",
              "      <td>Northeast Corrdr</td>\n",
              "      <td>NJ Transit</td>\n",
              "    </tr>\n",
              "    <tr>\n",
              "      <th>3</th>\n",
              "      <td>2018-03-01</td>\n",
              "      <td>3805</td>\n",
              "      <td>4.0</td>\n",
              "      <td>Newark Penn Station</td>\n",
              "      <td>107.0</td>\n",
              "      <td>Newark Airport</td>\n",
              "      <td>37953.0</td>\n",
              "      <td>2018-03-02 01:45:00</td>\n",
              "      <td>2018-03-02 01:45:10</td>\n",
              "      <td>0.166667</td>\n",
              "      <td>departed</td>\n",
              "      <td>Northeast Corrdr</td>\n",
              "      <td>NJ Transit</td>\n",
              "    </tr>\n",
              "    <tr>\n",
              "      <th>4</th>\n",
              "      <td>2018-03-01</td>\n",
              "      <td>3805</td>\n",
              "      <td>5.0</td>\n",
              "      <td>Newark Airport</td>\n",
              "      <td>37953.0</td>\n",
              "      <td>North Elizabeth</td>\n",
              "      <td>109.0</td>\n",
              "      <td>2018-03-02 01:49:00</td>\n",
              "      <td>2018-03-02 01:49:10</td>\n",
              "      <td>0.166667</td>\n",
              "      <td>departed</td>\n",
              "      <td>Northeast Corrdr</td>\n",
              "      <td>NJ Transit</td>\n",
              "    </tr>\n",
              "    <tr>\n",
              "      <th>5</th>\n",
              "      <td>2018-03-01</td>\n",
              "      <td>3805</td>\n",
              "      <td>6.0</td>\n",
              "      <td>North Elizabeth</td>\n",
              "      <td>109.0</td>\n",
              "      <td>Elizabeth</td>\n",
              "      <td>41.0</td>\n",
              "      <td>2018-03-02 01:52:00</td>\n",
              "      <td>2018-03-02 01:52:01</td>\n",
              "      <td>0.016667</td>\n",
              "      <td>departed</td>\n",
              "      <td>Northeast Corrdr</td>\n",
              "      <td>NJ Transit</td>\n",
              "    </tr>\n",
              "    <tr>\n",
              "      <th>6</th>\n",
              "      <td>2018-03-01</td>\n",
              "      <td>3805</td>\n",
              "      <td>7.0</td>\n",
              "      <td>Elizabeth</td>\n",
              "      <td>41.0</td>\n",
              "      <td>Linden</td>\n",
              "      <td>70.0</td>\n",
              "      <td>2018-03-02 01:58:00</td>\n",
              "      <td>2018-03-02 01:58:05</td>\n",
              "      <td>0.083333</td>\n",
              "      <td>departed</td>\n",
              "      <td>Northeast Corrdr</td>\n",
              "      <td>NJ Transit</td>\n",
              "    </tr>\n",
              "    <tr>\n",
              "      <th>7</th>\n",
              "      <td>2018-03-01</td>\n",
              "      <td>3805</td>\n",
              "      <td>8.0</td>\n",
              "      <td>Linden</td>\n",
              "      <td>70.0</td>\n",
              "      <td>Rahway</td>\n",
              "      <td>127.0</td>\n",
              "      <td>2018-03-02 02:02:00</td>\n",
              "      <td>2018-03-02 02:01:03</td>\n",
              "      <td>0.000000</td>\n",
              "      <td>departed</td>\n",
              "      <td>Northeast Corrdr</td>\n",
              "      <td>NJ Transit</td>\n",
              "    </tr>\n",
              "    <tr>\n",
              "      <th>8</th>\n",
              "      <td>2018-03-01</td>\n",
              "      <td>3805</td>\n",
              "      <td>9.0</td>\n",
              "      <td>Rahway</td>\n",
              "      <td>127.0</td>\n",
              "      <td>Metropark</td>\n",
              "      <td>83.0</td>\n",
              "      <td>2018-03-02 02:08:00</td>\n",
              "      <td>2018-03-02 02:08:00</td>\n",
              "      <td>0.000000</td>\n",
              "      <td>departed</td>\n",
              "      <td>Northeast Corrdr</td>\n",
              "      <td>NJ Transit</td>\n",
              "    </tr>\n",
              "    <tr>\n",
              "      <th>9</th>\n",
              "      <td>2018-03-01</td>\n",
              "      <td>3805</td>\n",
              "      <td>10.0</td>\n",
              "      <td>Metropark</td>\n",
              "      <td>83.0</td>\n",
              "      <td>Metuchen</td>\n",
              "      <td>84.0</td>\n",
              "      <td>2018-03-02 02:13:00</td>\n",
              "      <td>2018-03-02 02:13:10</td>\n",
              "      <td>0.166667</td>\n",
              "      <td>departed</td>\n",
              "      <td>Northeast Corrdr</td>\n",
              "      <td>NJ Transit</td>\n",
              "    </tr>\n",
              "    <tr>\n",
              "      <th>10</th>\n",
              "      <td>2018-03-01</td>\n",
              "      <td>3805</td>\n",
              "      <td>11.0</td>\n",
              "      <td>Metuchen</td>\n",
              "      <td>84.0</td>\n",
              "      <td>Edison</td>\n",
              "      <td>38.0</td>\n",
              "      <td>2018-03-02 02:18:00</td>\n",
              "      <td>2018-03-02 02:18:09</td>\n",
              "      <td>0.150000</td>\n",
              "      <td>departed</td>\n",
              "      <td>Northeast Corrdr</td>\n",
              "      <td>NJ Transit</td>\n",
              "    </tr>\n",
              "    <tr>\n",
              "      <th>11</th>\n",
              "      <td>2018-03-01</td>\n",
              "      <td>3805</td>\n",
              "      <td>12.0</td>\n",
              "      <td>Edison</td>\n",
              "      <td>38.0</td>\n",
              "      <td>New Brunswick</td>\n",
              "      <td>103.0</td>\n",
              "      <td>2018-03-02 02:23:00</td>\n",
              "      <td>2018-03-02 02:23:09</td>\n",
              "      <td>0.150000</td>\n",
              "      <td>departed</td>\n",
              "      <td>Northeast Corrdr</td>\n",
              "      <td>NJ Transit</td>\n",
              "    </tr>\n",
              "    <tr>\n",
              "      <th>12</th>\n",
              "      <td>2018-03-01</td>\n",
              "      <td>3805</td>\n",
              "      <td>13.0</td>\n",
              "      <td>New Brunswick</td>\n",
              "      <td>103.0</td>\n",
              "      <td>Jersey Avenue</td>\n",
              "      <td>32906.0</td>\n",
              "      <td>2018-03-02 02:28:00</td>\n",
              "      <td>2018-03-02 02:28:08</td>\n",
              "      <td>0.133333</td>\n",
              "      <td>departed</td>\n",
              "      <td>Northeast Corrdr</td>\n",
              "      <td>NJ Transit</td>\n",
              "    </tr>\n",
              "    <tr>\n",
              "      <th>13</th>\n",
              "      <td>2018-03-01</td>\n",
              "      <td>3805</td>\n",
              "      <td>14.0</td>\n",
              "      <td>Jersey Avenue</td>\n",
              "      <td>32906.0</td>\n",
              "      <td>Princeton Junction</td>\n",
              "      <td>125.0</td>\n",
              "      <td>2018-03-02 02:42:00</td>\n",
              "      <td>2018-03-02 02:33:08</td>\n",
              "      <td>0.000000</td>\n",
              "      <td>departed</td>\n",
              "      <td>Northeast Corrdr</td>\n",
              "      <td>NJ Transit</td>\n",
              "    </tr>\n",
              "    <tr>\n",
              "      <th>14</th>\n",
              "      <td>2018-03-01</td>\n",
              "      <td>3805</td>\n",
              "      <td>15.0</td>\n",
              "      <td>Princeton Junction</td>\n",
              "      <td>125.0</td>\n",
              "      <td>Hamilton</td>\n",
              "      <td>32905.0</td>\n",
              "      <td>2018-03-02 02:49:00</td>\n",
              "      <td>2018-03-02 02:39:03</td>\n",
              "      <td>0.000000</td>\n",
              "      <td>departed</td>\n",
              "      <td>Northeast Corrdr</td>\n",
              "      <td>NJ Transit</td>\n",
              "    </tr>\n",
              "    <tr>\n",
              "      <th>15</th>\n",
              "      <td>2018-03-01</td>\n",
              "      <td>3805</td>\n",
              "      <td>16.0</td>\n",
              "      <td>Hamilton</td>\n",
              "      <td>32905.0</td>\n",
              "      <td>Trenton</td>\n",
              "      <td>148.0</td>\n",
              "      <td>2018-03-02 03:06:00</td>\n",
              "      <td>2018-03-02 02:42:00</td>\n",
              "      <td>0.000000</td>\n",
              "      <td>estimated</td>\n",
              "      <td>Northeast Corrdr</td>\n",
              "      <td>NJ Transit</td>\n",
              "    </tr>\n",
              "  </tbody>\n",
              "</table>\n",
              "</div>"
            ],
            "text/plain": [
              "          date train_id  stop_sequence  ...     status              line        type\n",
              "0   2018-03-01     3805            1.0  ...   departed  Northeast Corrdr  NJ Transit\n",
              "1   2018-03-01     3805            2.0  ...   departed  Northeast Corrdr  NJ Transit\n",
              "2   2018-03-01     3805            3.0  ...   departed  Northeast Corrdr  NJ Transit\n",
              "3   2018-03-01     3805            4.0  ...   departed  Northeast Corrdr  NJ Transit\n",
              "4   2018-03-01     3805            5.0  ...   departed  Northeast Corrdr  NJ Transit\n",
              "5   2018-03-01     3805            6.0  ...   departed  Northeast Corrdr  NJ Transit\n",
              "6   2018-03-01     3805            7.0  ...   departed  Northeast Corrdr  NJ Transit\n",
              "7   2018-03-01     3805            8.0  ...   departed  Northeast Corrdr  NJ Transit\n",
              "8   2018-03-01     3805            9.0  ...   departed  Northeast Corrdr  NJ Transit\n",
              "9   2018-03-01     3805           10.0  ...   departed  Northeast Corrdr  NJ Transit\n",
              "10  2018-03-01     3805           11.0  ...   departed  Northeast Corrdr  NJ Transit\n",
              "11  2018-03-01     3805           12.0  ...   departed  Northeast Corrdr  NJ Transit\n",
              "12  2018-03-01     3805           13.0  ...   departed  Northeast Corrdr  NJ Transit\n",
              "13  2018-03-01     3805           14.0  ...   departed  Northeast Corrdr  NJ Transit\n",
              "14  2018-03-01     3805           15.0  ...   departed  Northeast Corrdr  NJ Transit\n",
              "15  2018-03-01     3805           16.0  ...  estimated  Northeast Corrdr  NJ Transit\n",
              "\n",
              "[16 rows x 13 columns]"
            ]
          },
          "metadata": {
            "tags": []
          },
          "execution_count": 7
        }
      ]
    },
    {
      "cell_type": "markdown",
      "metadata": {
        "id": "6ALHbgsa7cHL"
      },
      "source": [
        "### Looking at NaN"
      ]
    },
    {
      "cell_type": "code",
      "metadata": {
        "colab": {
          "base_uri": "https://localhost:8080/"
        },
        "id": "PuNMYGM2ze50",
        "outputId": "05c04d38-ce2e-45d6-e8c1-8dfd23e84cf8"
      },
      "source": [
        "# Check data for null values\n",
        "df_full.isna().sum()/df_full.isna().count()*100\n",
        "\n",
        "# stop_sequence, scheduled_time, and delay_minutes have the same amount of NaN info.\n",
        "# While dropping it would mean losing almost 9.29% of the info, if they are all the same columns\n",
        "# it would mean ONLY losing 9.29% The same is true of from_id and to_id"
      ],
      "execution_count": null,
      "outputs": [
        {
          "output_type": "execute_result",
          "data": {
            "text/plain": [
              "date              0.000000\n",
              "train_id          0.000000\n",
              "stop_sequence     9.285492\n",
              "from              0.000000\n",
              "from_id           0.030008\n",
              "to                0.000000\n",
              "to_id             0.030008\n",
              "scheduled_time    9.285492\n",
              "actual_time       0.000000\n",
              "delay_minutes     9.285492\n",
              "status            0.000000\n",
              "line              0.000000\n",
              "type              0.000000\n",
              "dtype: float64"
            ]
          },
          "metadata": {
            "tags": []
          },
          "execution_count": 34
        }
      ]
    },
    {
      "cell_type": "code",
      "metadata": {
        "id": "FFaDF2cUpJ-j"
      },
      "source": [
        "data_1 = NJT_data['to']\n",
        "data_2 = NJT_data['to_id']\n",
        "\n",
        "df_list = [data_1, data_2]\n",
        "\n",
        "intersected = set(list(data_1.index)) \n",
        "\n",
        "for i in range(len(data_list)):\n",
        "  a = set(list(df_list[i].index))\n",
        "  intersected = intersected.intersection(a)\n",
        "print(len(intersected))\n",
        "print(len(data_1))\n",
        "print('---------')"
      ],
      "execution_count": null,
      "outputs": []
    },
    {
      "cell_type": "code",
      "metadata": {
        "colab": {
          "base_uri": "https://localhost:8080/"
        },
        "id": "6Yl2Z_D-0Ka2",
        "outputId": "690bd4c4-9979-4442-fe19-2bb3ef8e8e26"
      },
      "source": [
        "# Checking for overlap of NaN in stop_seqeunce, scheduled_time and delay minutes\n",
        "data_1 = df_full[df_full['stop_sequence'].isna()]\n",
        "data_2 = df_full[df_full['scheduled_time'].isna()]\n",
        "data_3 = df_full[df_full['delay_minutes'].isna()]\n",
        "data_4 = df_full[df_full['to_id'].isna()]\n",
        "data_5 = df_full[df_full['from_id'].isna()]\n",
        "\n",
        "df_list = [data_1, data_2, data_3, data_4, data_5]\n",
        "\n",
        "\n",
        "intersected = set(list(data_1.index))\n",
        "# This for loop checks the index of the columns with missing values to see if they are alike.\n",
        "# From this code it is clear that the NaN's in stop_sequence, scheduled_time and delay_minutes effect the same rows\n",
        "for i in range(0,3):\n",
        "  a = set(list(df_list[i].index))\n",
        "  intersected = intersected.intersection(a)\n",
        "print(len(intersected))\n",
        "print(len(data_1))\n",
        "print('---------')\n",
        "\n",
        "# In this code I show there are no overlaps for the NaN's to_id and from_id. However, I do show that the indecies \n",
        "# for these two columns are offset by 1. This makes sense because if a train is going 'to' a station with no id\n",
        "# then in the next trip is must be coming 'from' a station with no id.\n",
        "intersected = set(list(data_4.index))\n",
        "for i in range(4,5):\n",
        "  a = set(list(df_list[i].index))\n",
        "  intersected = intersected.intersection(a)\n",
        "print(len(intersected))\n",
        "\n",
        "intersected = set(list(data_4.index+1))\n",
        "for i in range(4,5):\n",
        "  a = set(list(df_list[i].index))\n",
        "  intersected = intersected.intersection(a)\n",
        "print(len(intersected))\n",
        "print(len(data_4))\n",
        "print('--------')\n",
        "\n",
        "# Finally, I show that all the rows with a missing to_id are contained in rows that have a missing stop_sequence and this must be true for the \n",
        "# other two columns with a large amount of NaNs. However, there are only 22 missing from_id that corrospond to the other missing data. \n",
        "print(len(set(list(data_1.index)).intersection(set(list(data_5.index)))))\n",
        "print(len(set(list(data_1.index)).intersection(set(list(data_4.index)))))\n",
        "\n",
        "# If the NaNs are dropped it would result in a loss of 9.29% of the data."
      ],
      "execution_count": null,
      "outputs": [
        {
          "output_type": "stream",
          "text": [
            "632176\n",
            "632176\n",
            "---------\n",
            "0\n",
            "2043\n",
            "2043\n",
            "--------\n",
            "22\n",
            "2043\n"
          ],
          "name": "stdout"
        }
      ]
    },
    {
      "cell_type": "markdown",
      "metadata": {
        "id": "g5j4reSB7hAN"
      },
      "source": [
        "###Looking at invalid trains"
      ]
    },
    {
      "cell_type": "code",
      "metadata": {
        "colab": {
          "base_uri": "https://localhost:8080/",
          "height": 419
        },
        "id": "nKegwx-_3EZg",
        "outputId": "7a337b23-558f-45c0-8c6d-91725b5f6c76"
      },
      "source": [
        "invalid_trains"
      ],
      "execution_count": null,
      "outputs": [
        {
          "output_type": "execute_result",
          "data": {
            "text/html": [
              "<div>\n",
              "<style scoped>\n",
              "    .dataframe tbody tr th:only-of-type {\n",
              "        vertical-align: middle;\n",
              "    }\n",
              "\n",
              "    .dataframe tbody tr th {\n",
              "        vertical-align: top;\n",
              "    }\n",
              "\n",
              "    .dataframe thead th {\n",
              "        text-align: right;\n",
              "    }\n",
              "</style>\n",
              "<table border=\"1\" class=\"dataframe\">\n",
              "  <thead>\n",
              "    <tr style=\"text-align: right;\">\n",
              "      <th></th>\n",
              "      <th>date</th>\n",
              "      <th>train_id</th>\n",
              "      <th>reason</th>\n",
              "    </tr>\n",
              "  </thead>\n",
              "  <tbody>\n",
              "    <tr>\n",
              "      <th>0</th>\n",
              "      <td>2018_03_01</td>\n",
              "      <td>3293</td>\n",
              "      <td>empty file</td>\n",
              "    </tr>\n",
              "    <tr>\n",
              "      <th>1</th>\n",
              "      <td>2018_03_01</td>\n",
              "      <td>3297</td>\n",
              "      <td>empty file</td>\n",
              "    </tr>\n",
              "    <tr>\n",
              "      <th>2</th>\n",
              "      <td>2018_03_01</td>\n",
              "      <td>4398</td>\n",
              "      <td>empty file</td>\n",
              "    </tr>\n",
              "    <tr>\n",
              "      <th>3</th>\n",
              "      <td>2018_03_01</td>\n",
              "      <td>A639</td>\n",
              "      <td>empty file</td>\n",
              "    </tr>\n",
              "    <tr>\n",
              "      <th>4</th>\n",
              "      <td>2018_03_02</td>\n",
              "      <td>A2110</td>\n",
              "      <td>no departures</td>\n",
              "    </tr>\n",
              "    <tr>\n",
              "      <th>...</th>\n",
              "      <td>...</td>\n",
              "      <td>...</td>\n",
              "      <td>...</td>\n",
              "    </tr>\n",
              "    <tr>\n",
              "      <th>7310</th>\n",
              "      <td>2019_04_30</td>\n",
              "      <td>4133</td>\n",
              "      <td>no departures</td>\n",
              "    </tr>\n",
              "    <tr>\n",
              "      <th>7311</th>\n",
              "      <td>2019_04_30</td>\n",
              "      <td>4167</td>\n",
              "      <td>no departures</td>\n",
              "    </tr>\n",
              "    <tr>\n",
              "      <th>7312</th>\n",
              "      <td>2019_04_30</td>\n",
              "      <td>4151</td>\n",
              "      <td>no departures</td>\n",
              "    </tr>\n",
              "    <tr>\n",
              "      <th>7313</th>\n",
              "      <td>2019_04_30</td>\n",
              "      <td>3710</td>\n",
              "      <td>no departures</td>\n",
              "    </tr>\n",
              "    <tr>\n",
              "      <th>7314</th>\n",
              "      <td>2019_04_30</td>\n",
              "      <td>4169</td>\n",
              "      <td>no departures</td>\n",
              "    </tr>\n",
              "  </tbody>\n",
              "</table>\n",
              "<p>7315 rows × 3 columns</p>\n",
              "</div>"
            ],
            "text/plain": [
              "            date train_id         reason\n",
              "0     2018_03_01     3293     empty file\n",
              "1     2018_03_01     3297     empty file\n",
              "2     2018_03_01     4398     empty file\n",
              "3     2018_03_01     A639     empty file\n",
              "4     2018_03_02    A2110  no departures\n",
              "...          ...      ...            ...\n",
              "7310  2019_04_30     4133  no departures\n",
              "7311  2019_04_30     4167  no departures\n",
              "7312  2019_04_30     4151  no departures\n",
              "7313  2019_04_30     3710  no departures\n",
              "7314  2019_04_30     4169  no departures\n",
              "\n",
              "[7315 rows x 3 columns]"
            ]
          },
          "metadata": {
            "tags": []
          },
          "execution_count": 48
        }
      ]
    },
    {
      "cell_type": "code",
      "metadata": {
        "colab": {
          "base_uri": "https://localhost:8080/",
          "height": 419
        },
        "id": "k6D5pIdf5T_T",
        "outputId": "4e562a50-4110-47ed-dd1c-e8f44773c088"
      },
      "source": [
        "invalid_trains_05_01_19__05_18_20"
      ],
      "execution_count": null,
      "outputs": [
        {
          "output_type": "execute_result",
          "data": {
            "text/html": [
              "<div>\n",
              "<style scoped>\n",
              "    .dataframe tbody tr th:only-of-type {\n",
              "        vertical-align: middle;\n",
              "    }\n",
              "\n",
              "    .dataframe tbody tr th {\n",
              "        vertical-align: top;\n",
              "    }\n",
              "\n",
              "    .dataframe thead th {\n",
              "        text-align: right;\n",
              "    }\n",
              "</style>\n",
              "<table border=\"1\" class=\"dataframe\">\n",
              "  <thead>\n",
              "    <tr style=\"text-align: right;\">\n",
              "      <th></th>\n",
              "      <th>date</th>\n",
              "      <th>train_id</th>\n",
              "      <th>reason</th>\n",
              "    </tr>\n",
              "  </thead>\n",
              "  <tbody>\n",
              "    <tr>\n",
              "      <th>0</th>\n",
              "      <td>2019_05_01</td>\n",
              "      <td>3293</td>\n",
              "      <td>empty file</td>\n",
              "    </tr>\n",
              "    <tr>\n",
              "      <th>1</th>\n",
              "      <td>2019_05_01</td>\n",
              "      <td>4165</td>\n",
              "      <td>no departures</td>\n",
              "    </tr>\n",
              "    <tr>\n",
              "      <th>2</th>\n",
              "      <td>2019_05_01</td>\n",
              "      <td>4153</td>\n",
              "      <td>no departures</td>\n",
              "    </tr>\n",
              "    <tr>\n",
              "      <th>3</th>\n",
              "      <td>2019_05_01</td>\n",
              "      <td>2406</td>\n",
              "      <td>no departures</td>\n",
              "    </tr>\n",
              "    <tr>\n",
              "      <th>4</th>\n",
              "      <td>2019_05_01</td>\n",
              "      <td>4107</td>\n",
              "      <td>no departures</td>\n",
              "    </tr>\n",
              "    <tr>\n",
              "      <th>...</th>\n",
              "      <td>...</td>\n",
              "      <td>...</td>\n",
              "      <td>...</td>\n",
              "    </tr>\n",
              "    <tr>\n",
              "      <th>18063</th>\n",
              "      <td>2020_05_18</td>\n",
              "      <td>4235</td>\n",
              "      <td>no departures</td>\n",
              "    </tr>\n",
              "    <tr>\n",
              "      <th>18064</th>\n",
              "      <td>2020_05_18</td>\n",
              "      <td>4203</td>\n",
              "      <td>no departures</td>\n",
              "    </tr>\n",
              "    <tr>\n",
              "      <th>18065</th>\n",
              "      <td>2020_05_18</td>\n",
              "      <td>4257</td>\n",
              "      <td>no departures</td>\n",
              "    </tr>\n",
              "    <tr>\n",
              "      <th>18066</th>\n",
              "      <td>2020_05_18</td>\n",
              "      <td>4261</td>\n",
              "      <td>no departures</td>\n",
              "    </tr>\n",
              "    <tr>\n",
              "      <th>18067</th>\n",
              "      <td>2020_05_18</td>\n",
              "      <td>4259</td>\n",
              "      <td>no departures</td>\n",
              "    </tr>\n",
              "  </tbody>\n",
              "</table>\n",
              "<p>18068 rows × 3 columns</p>\n",
              "</div>"
            ],
            "text/plain": [
              "             date train_id         reason\n",
              "0      2019_05_01     3293     empty file\n",
              "1      2019_05_01     4165  no departures\n",
              "2      2019_05_01     4153  no departures\n",
              "3      2019_05_01     2406  no departures\n",
              "4      2019_05_01     4107  no departures\n",
              "...           ...      ...            ...\n",
              "18063  2020_05_18     4235  no departures\n",
              "18064  2020_05_18     4203  no departures\n",
              "18065  2020_05_18     4257  no departures\n",
              "18066  2020_05_18     4261  no departures\n",
              "18067  2020_05_18     4259  no departures\n",
              "\n",
              "[18068 rows x 3 columns]"
            ]
          },
          "metadata": {
            "tags": []
          },
          "execution_count": 49
        }
      ]
    },
    {
      "cell_type": "code",
      "metadata": {
        "colab": {
          "base_uri": "https://localhost:8080/"
        },
        "id": "cv-USmaw7nN_",
        "outputId": "1a6fdb30-7f82-4daa-efa2-c038738a2189"
      },
      "source": [
        "# It appears the two invalid trains list are sequential and can be concated.\n",
        "\n",
        "dates_1 = set(list(invalid_trains['date']))\n",
        "dates_2 = set(list(invalid_trains_05_01_19__05_18_20['date']))\n",
        "\n",
        "x = dates_1.intersection(dates_2)\n",
        "print(x)\n",
        "\n",
        "# This code confirms that there are no overlapping dates in the two sets of data "
      ],
      "execution_count": null,
      "outputs": [
        {
          "output_type": "stream",
          "text": [
            "set()\n"
          ],
          "name": "stdout"
        }
      ]
    },
    {
      "cell_type": "code",
      "metadata": {
        "id": "JKVavrmO8sNT"
      },
      "source": [
        "invalid_df = pd.concat([invalid_trains, invalid_trains_05_01_19__05_18_20], ignore_index=True)"
      ],
      "execution_count": null,
      "outputs": []
    },
    {
      "cell_type": "code",
      "metadata": {
        "colab": {
          "base_uri": "https://localhost:8080/",
          "height": 419
        },
        "id": "WjDgvCvD-hts",
        "outputId": "d7e47250-24ef-42d9-db55-dbe8bf9ef29b"
      },
      "source": [
        "invalid_df"
      ],
      "execution_count": null,
      "outputs": [
        {
          "output_type": "execute_result",
          "data": {
            "text/html": [
              "<div>\n",
              "<style scoped>\n",
              "    .dataframe tbody tr th:only-of-type {\n",
              "        vertical-align: middle;\n",
              "    }\n",
              "\n",
              "    .dataframe tbody tr th {\n",
              "        vertical-align: top;\n",
              "    }\n",
              "\n",
              "    .dataframe thead th {\n",
              "        text-align: right;\n",
              "    }\n",
              "</style>\n",
              "<table border=\"1\" class=\"dataframe\">\n",
              "  <thead>\n",
              "    <tr style=\"text-align: right;\">\n",
              "      <th></th>\n",
              "      <th>date</th>\n",
              "      <th>train_id</th>\n",
              "      <th>reason</th>\n",
              "    </tr>\n",
              "  </thead>\n",
              "  <tbody>\n",
              "    <tr>\n",
              "      <th>0</th>\n",
              "      <td>2018_03_01</td>\n",
              "      <td>3293</td>\n",
              "      <td>empty file</td>\n",
              "    </tr>\n",
              "    <tr>\n",
              "      <th>1</th>\n",
              "      <td>2018_03_01</td>\n",
              "      <td>3297</td>\n",
              "      <td>empty file</td>\n",
              "    </tr>\n",
              "    <tr>\n",
              "      <th>2</th>\n",
              "      <td>2018_03_01</td>\n",
              "      <td>4398</td>\n",
              "      <td>empty file</td>\n",
              "    </tr>\n",
              "    <tr>\n",
              "      <th>3</th>\n",
              "      <td>2018_03_01</td>\n",
              "      <td>A639</td>\n",
              "      <td>empty file</td>\n",
              "    </tr>\n",
              "    <tr>\n",
              "      <th>4</th>\n",
              "      <td>2018_03_02</td>\n",
              "      <td>A2110</td>\n",
              "      <td>no departures</td>\n",
              "    </tr>\n",
              "    <tr>\n",
              "      <th>...</th>\n",
              "      <td>...</td>\n",
              "      <td>...</td>\n",
              "      <td>...</td>\n",
              "    </tr>\n",
              "    <tr>\n",
              "      <th>25378</th>\n",
              "      <td>2020_05_18</td>\n",
              "      <td>4235</td>\n",
              "      <td>no departures</td>\n",
              "    </tr>\n",
              "    <tr>\n",
              "      <th>25379</th>\n",
              "      <td>2020_05_18</td>\n",
              "      <td>4203</td>\n",
              "      <td>no departures</td>\n",
              "    </tr>\n",
              "    <tr>\n",
              "      <th>25380</th>\n",
              "      <td>2020_05_18</td>\n",
              "      <td>4257</td>\n",
              "      <td>no departures</td>\n",
              "    </tr>\n",
              "    <tr>\n",
              "      <th>25381</th>\n",
              "      <td>2020_05_18</td>\n",
              "      <td>4261</td>\n",
              "      <td>no departures</td>\n",
              "    </tr>\n",
              "    <tr>\n",
              "      <th>25382</th>\n",
              "      <td>2020_05_18</td>\n",
              "      <td>4259</td>\n",
              "      <td>no departures</td>\n",
              "    </tr>\n",
              "  </tbody>\n",
              "</table>\n",
              "<p>25383 rows × 3 columns</p>\n",
              "</div>"
            ],
            "text/plain": [
              "             date train_id         reason\n",
              "0      2018_03_01     3293     empty file\n",
              "1      2018_03_01     3297     empty file\n",
              "2      2018_03_01     4398     empty file\n",
              "3      2018_03_01     A639     empty file\n",
              "4      2018_03_02    A2110  no departures\n",
              "...           ...      ...            ...\n",
              "25378  2020_05_18     4235  no departures\n",
              "25379  2020_05_18     4203  no departures\n",
              "25380  2020_05_18     4257  no departures\n",
              "25381  2020_05_18     4261  no departures\n",
              "25382  2020_05_18     4259  no departures\n",
              "\n",
              "[25383 rows x 3 columns]"
            ]
          },
          "metadata": {
            "tags": []
          },
          "execution_count": 132
        }
      ]
    },
    {
      "cell_type": "code",
      "metadata": {
        "colab": {
          "base_uri": "https://localhost:8080/"
        },
        "id": "jk1KQikk_LhF",
        "outputId": "81ecf45b-4623-45eb-e1ea-654e9530a121"
      },
      "source": [
        "print(invalid_df.isna().sum()/invalid_df.isna().count()*100)\n",
        "print(invalid_df.reason.nunique())\n",
        "print(invalid_df.reason.unique())\n",
        "# .58% of 'reason' is NaN. This, however, should not pose a problem\n",
        "# because in the invalid_df.reason column there are two possible states NaN's could be changed to:\n",
        "# 'empty file' or 'missing state'. I have not found literature explaining these designations\n",
        "# but it seems to me that the NaN's could be made into 'empty file' without impacting the overall data."
      ],
      "execution_count": null,
      "outputs": [
        {
          "output_type": "stream",
          "text": [
            "date        0.000000\n",
            "train_id    0.000000\n",
            "reason      0.583067\n",
            "dtype: float64\n",
            "3\n",
            "['empty file' 'no departures' 'missing state' nan]\n"
          ],
          "name": "stdout"
        }
      ]
    },
    {
      "cell_type": "code",
      "metadata": {
        "colab": {
          "base_uri": "https://localhost:8080/"
        },
        "id": "xCA8xRJh_UQS",
        "outputId": "b4006212-d37a-44e0-9162-5040952da9b5"
      },
      "source": [
        "invalid_df = invalid_df.replace(np.nan, 'empty file')\n",
        "print(invalid_df.isna().sum()/invalid_df.isna().count()*100)\n",
        "print(invalid_df.reason.nunique())\n",
        "print(invalid_df.reason.unique())"
      ],
      "execution_count": null,
      "outputs": [
        {
          "output_type": "stream",
          "text": [
            "date        0.0\n",
            "train_id    0.0\n",
            "reason      0.0\n",
            "dtype: float64\n",
            "3\n",
            "['empty file' 'no departures' 'missing state']\n"
          ],
          "name": "stdout"
        }
      ]
    },
    {
      "cell_type": "markdown",
      "metadata": {
        "id": "eCUDnJfa-rW4"
      },
      "source": [
        "### Comparing invalid trains to NaN"
      ]
    },
    {
      "cell_type": "code",
      "metadata": {
        "id": "J6cKiIU2NMKE"
      },
      "source": [
        "# The formate for the dates differs. In invalid_df its yyyy_mm_dd and in df_full its yyyy-mm-dd\n",
        "invalid_df.date = invalid_df.date.str.replace('_','-')"
      ],
      "execution_count": null,
      "outputs": []
    },
    {
      "cell_type": "code",
      "metadata": {
        "colab": {
          "base_uri": "https://localhost:8080/",
          "height": 419
        },
        "id": "iKyOXHpkNk4n",
        "outputId": "4fc4dc9d-dbef-434b-e41c-fa46799d8847"
      },
      "source": [
        "invalid_df"
      ],
      "execution_count": null,
      "outputs": [
        {
          "output_type": "execute_result",
          "data": {
            "text/html": [
              "<div>\n",
              "<style scoped>\n",
              "    .dataframe tbody tr th:only-of-type {\n",
              "        vertical-align: middle;\n",
              "    }\n",
              "\n",
              "    .dataframe tbody tr th {\n",
              "        vertical-align: top;\n",
              "    }\n",
              "\n",
              "    .dataframe thead th {\n",
              "        text-align: right;\n",
              "    }\n",
              "</style>\n",
              "<table border=\"1\" class=\"dataframe\">\n",
              "  <thead>\n",
              "    <tr style=\"text-align: right;\">\n",
              "      <th></th>\n",
              "      <th>date</th>\n",
              "      <th>train_id</th>\n",
              "      <th>reason</th>\n",
              "    </tr>\n",
              "  </thead>\n",
              "  <tbody>\n",
              "    <tr>\n",
              "      <th>0</th>\n",
              "      <td>2018-03-01</td>\n",
              "      <td>3293</td>\n",
              "      <td>empty file</td>\n",
              "    </tr>\n",
              "    <tr>\n",
              "      <th>1</th>\n",
              "      <td>2018-03-01</td>\n",
              "      <td>3297</td>\n",
              "      <td>empty file</td>\n",
              "    </tr>\n",
              "    <tr>\n",
              "      <th>2</th>\n",
              "      <td>2018-03-01</td>\n",
              "      <td>4398</td>\n",
              "      <td>empty file</td>\n",
              "    </tr>\n",
              "    <tr>\n",
              "      <th>3</th>\n",
              "      <td>2018-03-01</td>\n",
              "      <td>A639</td>\n",
              "      <td>empty file</td>\n",
              "    </tr>\n",
              "    <tr>\n",
              "      <th>4</th>\n",
              "      <td>2018-03-02</td>\n",
              "      <td>A2110</td>\n",
              "      <td>no departures</td>\n",
              "    </tr>\n",
              "    <tr>\n",
              "      <th>...</th>\n",
              "      <td>...</td>\n",
              "      <td>...</td>\n",
              "      <td>...</td>\n",
              "    </tr>\n",
              "    <tr>\n",
              "      <th>25378</th>\n",
              "      <td>2020-05-18</td>\n",
              "      <td>4235</td>\n",
              "      <td>no departures</td>\n",
              "    </tr>\n",
              "    <tr>\n",
              "      <th>25379</th>\n",
              "      <td>2020-05-18</td>\n",
              "      <td>4203</td>\n",
              "      <td>no departures</td>\n",
              "    </tr>\n",
              "    <tr>\n",
              "      <th>25380</th>\n",
              "      <td>2020-05-18</td>\n",
              "      <td>4257</td>\n",
              "      <td>no departures</td>\n",
              "    </tr>\n",
              "    <tr>\n",
              "      <th>25381</th>\n",
              "      <td>2020-05-18</td>\n",
              "      <td>4261</td>\n",
              "      <td>no departures</td>\n",
              "    </tr>\n",
              "    <tr>\n",
              "      <th>25382</th>\n",
              "      <td>2020-05-18</td>\n",
              "      <td>4259</td>\n",
              "      <td>no departures</td>\n",
              "    </tr>\n",
              "  </tbody>\n",
              "</table>\n",
              "<p>25383 rows × 3 columns</p>\n",
              "</div>"
            ],
            "text/plain": [
              "             date train_id         reason\n",
              "0      2018-03-01     3293     empty file\n",
              "1      2018-03-01     3297     empty file\n",
              "2      2018-03-01     4398     empty file\n",
              "3      2018-03-01     A639     empty file\n",
              "4      2018-03-02    A2110  no departures\n",
              "...           ...      ...            ...\n",
              "25378  2020-05-18     4235  no departures\n",
              "25379  2020-05-18     4203  no departures\n",
              "25380  2020-05-18     4257  no departures\n",
              "25381  2020-05-18     4261  no departures\n",
              "25382  2020-05-18     4259  no departures\n",
              "\n",
              "[25383 rows x 3 columns]"
            ]
          },
          "metadata": {
            "tags": []
          },
          "execution_count": 137
        }
      ]
    },
    {
      "cell_type": "code",
      "metadata": {
        "colab": {
          "base_uri": "https://localhost:8080/"
        },
        "id": "CvOiQ5GGhOvk",
        "outputId": "b1054d14-9728-400e-ea65-11230dc32741"
      },
      "source": [
        "# In order to check id the invalid_df can be used to explain train delays I will compare the two dfs.\n",
        "# First I will make two dfs. One will contain the train_id and the other the dates.\n",
        "# With this information I will check to see if there is any overlap.\n",
        "train_id_1 = set(list(invalid_df['train_id']))\n",
        "train_id_2 = set(list(df_full['train_id']))\n",
        "x = train_id_1.intersection(train_id_2)\n",
        "x = list(x)\n",
        "train_date_1 = set(list(invalid_df.date))\n",
        "train_date_2 = set(list(df_full.date))\n",
        "y = train_date_1.intersection(train_date_2)\n",
        "y = list(y)\n",
        "\n",
        "subdf = pd.DataFrame()\n",
        "for i in (y[0:2]):\n",
        "  for ii in (x[0:2]):\n",
        "    sub = df_full[(df_full.date == i) & (df_full.train_id == ii)]\n",
        "    subdf = subdf.append(sub)\n",
        "\n",
        "subdf.isna().sum()/subdf.isna().count()*100\n",
        "\n",
        "# This code only checks the first few rows to see if there is any correlation between the invalid_df and the df_full.\n",
        "# A complete cross reference is made below, however, it does not seem that the information contained in the invalid_df \n",
        "# is also contained in the df_full. That is, there is no connection between the invalid_df and NaNs in the df_full.\n",
        "# There is no way I will be able to use the invalid_df to explain the NaN's in the df_full. \n",
        "# However, the invalid_df may prove useful in explaining time delays. This is something to consider later on."
      ],
      "execution_count": null,
      "outputs": [
        {
          "output_type": "execute_result",
          "data": {
            "text/plain": [
              "date              0.0\n",
              "train_id          0.0\n",
              "stop_sequence     0.0\n",
              "from              0.0\n",
              "from_id           0.0\n",
              "to                0.0\n",
              "to_id             0.0\n",
              "scheduled_time    0.0\n",
              "actual_time       0.0\n",
              "delay_minutes     0.0\n",
              "status            0.0\n",
              "line              0.0\n",
              "type              0.0\n",
              "dtype: float64"
            ]
          },
          "metadata": {
            "tags": []
          },
          "execution_count": 289
        }
      ]
    },
    {
      "cell_type": "code",
      "metadata": {
        "id": "VIMw0UmPmJpi"
      },
      "source": [
        "subdf = pd.DataFrame()\n",
        "for i in (y):\n",
        "  for ii in (x):\n",
        "    sub = df_full[(df_full.date == i) & (df_full.train_id == ii)]\n",
        "    subdf = subdf.append(sub)\n",
        "\n",
        "subdf.isna().sum()/subdf.isna().count()*100"
      ],
      "execution_count": null,
      "outputs": []
    },
    {
      "cell_type": "markdown",
      "metadata": {
        "id": "pJnhK6ihmUll"
      },
      "source": [
        "### delay_minutes visualizations and data cleaning"
      ]
    },
    {
      "cell_type": "code",
      "metadata": {
        "colab": {
          "base_uri": "https://localhost:8080/",
          "height": 297
        },
        "id": "ysoMnNeQnJWB",
        "outputId": "e6fa898c-3638-42d0-fdc3-3729a2dc6bdc"
      },
      "source": [
        "# First, I will remove the NaN.\n",
        "df = df_full.dropna()\n",
        "df.describe()"
      ],
      "execution_count": null,
      "outputs": [
        {
          "output_type": "execute_result",
          "data": {
            "text/html": [
              "<div>\n",
              "<style scoped>\n",
              "    .dataframe tbody tr th:only-of-type {\n",
              "        vertical-align: middle;\n",
              "    }\n",
              "\n",
              "    .dataframe tbody tr th {\n",
              "        vertical-align: top;\n",
              "    }\n",
              "\n",
              "    .dataframe thead th {\n",
              "        text-align: right;\n",
              "    }\n",
              "</style>\n",
              "<table border=\"1\" class=\"dataframe\">\n",
              "  <thead>\n",
              "    <tr style=\"text-align: right;\">\n",
              "      <th></th>\n",
              "      <th>stop_sequence</th>\n",
              "      <th>from_id</th>\n",
              "      <th>to_id</th>\n",
              "      <th>delay_minutes</th>\n",
              "    </tr>\n",
              "  </thead>\n",
              "  <tbody>\n",
              "    <tr>\n",
              "      <th>count</th>\n",
              "      <td>6.174015e+06</td>\n",
              "      <td>6.174015e+06</td>\n",
              "      <td>6.174015e+06</td>\n",
              "      <td>6.174015e+06</td>\n",
              "    </tr>\n",
              "    <tr>\n",
              "      <th>mean</th>\n",
              "      <td>8.079646e+00</td>\n",
              "      <td>4.404784e+03</td>\n",
              "      <td>4.404726e+03</td>\n",
              "      <td>4.139964e+00</td>\n",
              "    </tr>\n",
              "    <tr>\n",
              "      <th>std</th>\n",
              "      <td>5.084898e+00</td>\n",
              "      <td>1.201058e+04</td>\n",
              "      <td>1.200943e+04</td>\n",
              "      <td>6.976708e+00</td>\n",
              "    </tr>\n",
              "    <tr>\n",
              "      <th>min</th>\n",
              "      <td>1.000000e+00</td>\n",
              "      <td>1.000000e+00</td>\n",
              "      <td>1.000000e+00</td>\n",
              "      <td>0.000000e+00</td>\n",
              "    </tr>\n",
              "    <tr>\n",
              "      <th>25%</th>\n",
              "      <td>4.000000e+00</td>\n",
              "      <td>5.800000e+01</td>\n",
              "      <td>5.900000e+01</td>\n",
              "      <td>1.033333e+00</td>\n",
              "    </tr>\n",
              "    <tr>\n",
              "      <th>50%</th>\n",
              "      <td>7.000000e+00</td>\n",
              "      <td>1.040000e+02</td>\n",
              "      <td>1.040000e+02</td>\n",
              "      <td>2.283333e+00</td>\n",
              "    </tr>\n",
              "    <tr>\n",
              "      <th>75%</th>\n",
              "      <td>1.200000e+01</td>\n",
              "      <td>1.360000e+02</td>\n",
              "      <td>1.360000e+02</td>\n",
              "      <td>5.050000e+00</td>\n",
              "    </tr>\n",
              "    <tr>\n",
              "      <th>max</th>\n",
              "      <td>2.600000e+01</td>\n",
              "      <td>4.359900e+04</td>\n",
              "      <td>4.359900e+04</td>\n",
              "      <td>5.730000e+02</td>\n",
              "    </tr>\n",
              "  </tbody>\n",
              "</table>\n",
              "</div>"
            ],
            "text/plain": [
              "       stop_sequence       from_id         to_id  delay_minutes\n",
              "count   6.174015e+06  6.174015e+06  6.174015e+06   6.174015e+06\n",
              "mean    8.079646e+00  4.404784e+03  4.404726e+03   4.139964e+00\n",
              "std     5.084898e+00  1.201058e+04  1.200943e+04   6.976708e+00\n",
              "min     1.000000e+00  1.000000e+00  1.000000e+00   0.000000e+00\n",
              "25%     4.000000e+00  5.800000e+01  5.900000e+01   1.033333e+00\n",
              "50%     7.000000e+00  1.040000e+02  1.040000e+02   2.283333e+00\n",
              "75%     1.200000e+01  1.360000e+02  1.360000e+02   5.050000e+00\n",
              "max     2.600000e+01  4.359900e+04  4.359900e+04   5.730000e+02"
            ]
          },
          "metadata": {
            "tags": []
          },
          "execution_count": 8
        }
      ]
    },
    {
      "cell_type": "code",
      "metadata": {
        "colab": {
          "base_uri": "https://localhost:8080/",
          "height": 289
        },
        "id": "sh_JQ_bqnVDu",
        "outputId": "fbdb02d5-d691-4ff0-9c82-13520690ba00"
      },
      "source": [
        "df.head()"
      ],
      "execution_count": null,
      "outputs": [
        {
          "output_type": "execute_result",
          "data": {
            "text/html": [
              "<div>\n",
              "<style scoped>\n",
              "    .dataframe tbody tr th:only-of-type {\n",
              "        vertical-align: middle;\n",
              "    }\n",
              "\n",
              "    .dataframe tbody tr th {\n",
              "        vertical-align: top;\n",
              "    }\n",
              "\n",
              "    .dataframe thead th {\n",
              "        text-align: right;\n",
              "    }\n",
              "</style>\n",
              "<table border=\"1\" class=\"dataframe\">\n",
              "  <thead>\n",
              "    <tr style=\"text-align: right;\">\n",
              "      <th></th>\n",
              "      <th>date</th>\n",
              "      <th>train_id</th>\n",
              "      <th>stop_sequence</th>\n",
              "      <th>from</th>\n",
              "      <th>from_id</th>\n",
              "      <th>to</th>\n",
              "      <th>to_id</th>\n",
              "      <th>scheduled_time</th>\n",
              "      <th>actual_time</th>\n",
              "      <th>delay_minutes</th>\n",
              "      <th>status</th>\n",
              "      <th>line</th>\n",
              "      <th>type</th>\n",
              "    </tr>\n",
              "  </thead>\n",
              "  <tbody>\n",
              "    <tr>\n",
              "      <th>0</th>\n",
              "      <td>2018-03-01</td>\n",
              "      <td>3805</td>\n",
              "      <td>1.0</td>\n",
              "      <td>New York Penn Station</td>\n",
              "      <td>105.0</td>\n",
              "      <td>New York Penn Station</td>\n",
              "      <td>105.0</td>\n",
              "      <td>2018-03-02 01:22:00</td>\n",
              "      <td>2018-03-02 01:21:05</td>\n",
              "      <td>0.000000</td>\n",
              "      <td>departed</td>\n",
              "      <td>Northeast Corrdr</td>\n",
              "      <td>NJ Transit</td>\n",
              "    </tr>\n",
              "    <tr>\n",
              "      <th>1</th>\n",
              "      <td>2018-03-01</td>\n",
              "      <td>3805</td>\n",
              "      <td>2.0</td>\n",
              "      <td>New York Penn Station</td>\n",
              "      <td>105.0</td>\n",
              "      <td>Secaucus Upper Lvl</td>\n",
              "      <td>38187.0</td>\n",
              "      <td>2018-03-02 01:31:00</td>\n",
              "      <td>2018-03-02 01:31:08</td>\n",
              "      <td>0.133333</td>\n",
              "      <td>departed</td>\n",
              "      <td>Northeast Corrdr</td>\n",
              "      <td>NJ Transit</td>\n",
              "    </tr>\n",
              "    <tr>\n",
              "      <th>2</th>\n",
              "      <td>2018-03-01</td>\n",
              "      <td>3805</td>\n",
              "      <td>3.0</td>\n",
              "      <td>Secaucus Upper Lvl</td>\n",
              "      <td>38187.0</td>\n",
              "      <td>Newark Penn Station</td>\n",
              "      <td>107.0</td>\n",
              "      <td>2018-03-02 01:40:00</td>\n",
              "      <td>2018-03-02 01:40:07</td>\n",
              "      <td>0.116667</td>\n",
              "      <td>departed</td>\n",
              "      <td>Northeast Corrdr</td>\n",
              "      <td>NJ Transit</td>\n",
              "    </tr>\n",
              "    <tr>\n",
              "      <th>3</th>\n",
              "      <td>2018-03-01</td>\n",
              "      <td>3805</td>\n",
              "      <td>4.0</td>\n",
              "      <td>Newark Penn Station</td>\n",
              "      <td>107.0</td>\n",
              "      <td>Newark Airport</td>\n",
              "      <td>37953.0</td>\n",
              "      <td>2018-03-02 01:45:00</td>\n",
              "      <td>2018-03-02 01:45:10</td>\n",
              "      <td>0.166667</td>\n",
              "      <td>departed</td>\n",
              "      <td>Northeast Corrdr</td>\n",
              "      <td>NJ Transit</td>\n",
              "    </tr>\n",
              "    <tr>\n",
              "      <th>4</th>\n",
              "      <td>2018-03-01</td>\n",
              "      <td>3805</td>\n",
              "      <td>5.0</td>\n",
              "      <td>Newark Airport</td>\n",
              "      <td>37953.0</td>\n",
              "      <td>North Elizabeth</td>\n",
              "      <td>109.0</td>\n",
              "      <td>2018-03-02 01:49:00</td>\n",
              "      <td>2018-03-02 01:49:10</td>\n",
              "      <td>0.166667</td>\n",
              "      <td>departed</td>\n",
              "      <td>Northeast Corrdr</td>\n",
              "      <td>NJ Transit</td>\n",
              "    </tr>\n",
              "  </tbody>\n",
              "</table>\n",
              "</div>"
            ],
            "text/plain": [
              "         date train_id  stop_sequence  ...    status              line        type\n",
              "0  2018-03-01     3805            1.0  ...  departed  Northeast Corrdr  NJ Transit\n",
              "1  2018-03-01     3805            2.0  ...  departed  Northeast Corrdr  NJ Transit\n",
              "2  2018-03-01     3805            3.0  ...  departed  Northeast Corrdr  NJ Transit\n",
              "3  2018-03-01     3805            4.0  ...  departed  Northeast Corrdr  NJ Transit\n",
              "4  2018-03-01     3805            5.0  ...  departed  Northeast Corrdr  NJ Transit\n",
              "\n",
              "[5 rows x 13 columns]"
            ]
          },
          "metadata": {
            "tags": []
          },
          "execution_count": 292
        }
      ]
    },
    {
      "cell_type": "code",
      "metadata": {
        "colab": {
          "base_uri": "https://localhost:8080/"
        },
        "id": "S_VE57mxnYqh",
        "outputId": "fe3f2c09-c9d1-4f8e-ba27-8b1c85ce3467"
      },
      "source": [
        "df.info()"
      ],
      "execution_count": null,
      "outputs": [
        {
          "output_type": "stream",
          "text": [
            "<class 'pandas.core.frame.DataFrame'>\n",
            "Int64Index: 6174015 entries, 0 to 6808211\n",
            "Data columns (total 13 columns):\n",
            " #   Column          Dtype  \n",
            "---  ------          -----  \n",
            " 0   date            object \n",
            " 1   train_id        object \n",
            " 2   stop_sequence   float64\n",
            " 3   from            object \n",
            " 4   from_id         float64\n",
            " 5   to              object \n",
            " 6   to_id           float64\n",
            " 7   scheduled_time  object \n",
            " 8   actual_time     object \n",
            " 9   delay_minutes   float64\n",
            " 10  status          object \n",
            " 11  line            object \n",
            " 12  type            object \n",
            "dtypes: float64(4), object(9)\n",
            "memory usage: 659.5+ MB\n"
          ],
          "name": "stdout"
        }
      ]
    },
    {
      "cell_type": "code",
      "metadata": {
        "colab": {
          "base_uri": "https://localhost:8080/",
          "height": 351
        },
        "id": "sD9d9JX6nhnZ",
        "outputId": "41cfdbc6-b118-4516-dfb0-4d78fa508375"
      },
      "source": [
        "# A distplot of the delay_minutes for the entire time.\n",
        "sns.distplot(df['delay_minutes'])"
      ],
      "execution_count": null,
      "outputs": [
        {
          "output_type": "stream",
          "text": [
            "/usr/local/lib/python3.6/dist-packages/seaborn/distributions.py:2557: FutureWarning: `distplot` is a deprecated function and will be removed in a future version. Please adapt your code to use either `displot` (a figure-level function with similar flexibility) or `histplot` (an axes-level function for histograms).\n",
            "  warnings.warn(msg, FutureWarning)\n"
          ],
          "name": "stderr"
        },
        {
          "output_type": "execute_result",
          "data": {
            "text/plain": [
              "<matplotlib.axes._subplots.AxesSubplot at 0x7fef28038f98>"
            ]
          },
          "metadata": {
            "tags": []
          },
          "execution_count": 300
        },
        {
          "output_type": "display_data",
          "data": {
            "image/png": "[encoded data removed]",
            "text/plain": [
              "<Figure size 432x288 with 1 Axes>"
            ]
          },
          "metadata": {
            "tags": [],
            "needs_background": "light"
          }
        }
      ]
    },
    {
      "cell_type": "code",
      "metadata": {
        "colab": {
          "base_uri": "https://localhost:8080/",
          "height": 351
        },
        "id": "I3nJfsq2os30",
        "outputId": "2d5f3f51-a110-45c7-b79d-602a8f834777"
      },
      "source": [
        "sns.distplot(df['delay_minutes'], bins=100)\n",
        "plt.xlim([0,50])"
      ],
      "execution_count": null,
      "outputs": [
        {
          "output_type": "stream",
          "text": [
            "/usr/local/lib/python3.6/dist-packages/seaborn/distributions.py:2557: FutureWarning: `distplot` is a deprecated function and will be removed in a future version. Please adapt your code to use either `displot` (a figure-level function with similar flexibility) or `histplot` (an axes-level function for histograms).\n",
            "  warnings.warn(msg, FutureWarning)\n"
          ],
          "name": "stderr"
        },
        {
          "output_type": "execute_result",
          "data": {
            "text/plain": [
              "(0.0, 50.0)"
            ]
          },
          "metadata": {
            "tags": []
          },
          "execution_count": 307
        },
        {
          "output_type": "display_data",
          "data": {
            "image/png": "[encoded data removed]",
            "text/plain": [
              "<Figure size 432x288 with 1 Axes>"
            ]
          },
          "metadata": {
            "tags": [],
            "needs_background": "light"
          }
        }
      ]
    },
    {
      "cell_type": "code",
      "metadata": {
        "colab": {
          "base_uri": "https://localhost:8080/",
          "height": 386
        },
        "id": "YfF3sTLip5RC",
        "outputId": "4bf31892-60fc-4996-f9ff-113812e480cb"
      },
      "source": [
        "sns.displot(df['delay_minutes'])\n",
        "plt.xlim(0,50)\n",
        "plt.ylim(0,125000)\n",
        "# As seen in these charts, the majority od delays are only a few minutes. "
      ],
      "execution_count": null,
      "outputs": [
        {
          "output_type": "execute_result",
          "data": {
            "text/plain": [
              "(0.0, 125000.0)"
            ]
          },
          "metadata": {
            "tags": []
          },
          "execution_count": 306
        },
        {
          "output_type": "display_data",
          "data": {
            "image/png": "[encoded data removed]",
            "text/plain": [
              "<Figure size 360x360 with 1 Axes>"
            ]
          },
          "metadata": {
            "tags": [],
            "needs_background": "light"
          }
        }
      ]
    },
    {
      "cell_type": "markdown",
      "metadata": {
        "id": "p_qBypD7tFs0"
      },
      "source": [
        "### status visualization "
      ]
    },
    {
      "cell_type": "code",
      "metadata": {
        "colab": {
          "base_uri": "https://localhost:8080/"
        },
        "id": "HMGSf0ysstdO",
        "outputId": "ec25e23c-afe7-4643-85d1-36d313465d1c"
      },
      "source": [
        "df.status.unique()"
      ],
      "execution_count": null,
      "outputs": [
        {
          "output_type": "execute_result",
          "data": {
            "text/plain": [
              "array(['departed', 'estimated', 'cancelled'], dtype=object)"
            ]
          },
          "metadata": {
            "tags": []
          },
          "execution_count": 308
        }
      ]
    },
    {
      "cell_type": "code",
      "metadata": {
        "colab": {
          "base_uri": "https://localhost:8080/",
          "height": 361
        },
        "id": "7VPA5gxZqQfK",
        "outputId": "acce856b-c5c2-44b6-8bea-54d7793d805f"
      },
      "source": [
        "sns.countplot(df.status)"
      ],
      "execution_count": null,
      "outputs": [
        {
          "output_type": "stream",
          "text": [
            "/usr/local/lib/python3.6/dist-packages/seaborn/_decorators.py:43: FutureWarning: Pass the following variable as a keyword arg: x. From version 0.12, the only valid positional argument will be `data`, and passing other arguments without an explicit keyword will result in an error or misinterpretation.\n",
            "  FutureWarning\n"
          ],
          "name": "stderr"
        },
        {
          "output_type": "execute_result",
          "data": {
            "text/plain": [
              "<matplotlib.axes._subplots.AxesSubplot at 0x7feea040fd30>"
            ]
          },
          "metadata": {
            "tags": []
          },
          "execution_count": 314
        },
        {
          "output_type": "display_data",
          "data": {
            "image/png": "[encoded data removed]",
            "text/plain": [
              "<Figure size 432x288 with 1 Axes>"
            ]
          },
          "metadata": {
            "tags": [],
            "needs_background": "light"
          }
        }
      ]
    },
    {
      "cell_type": "code",
      "metadata": {
        "colab": {
          "base_uri": "https://localhost:8080/",
          "height": 386
        },
        "id": "XObxLgYytVfv",
        "outputId": "43541ba9-81d0-43e8-b2a5-cc95d71b46a1"
      },
      "source": [
        "x = df[df.status == 'estimated']\n",
        "sns.displot(x.delay_minutes)"
      ],
      "execution_count": null,
      "outputs": [
        {
          "output_type": "execute_result",
          "data": {
            "text/plain": [
              "<seaborn.axisgrid.FacetGrid at 0x7feea0460c88>"
            ]
          },
          "metadata": {
            "tags": []
          },
          "execution_count": 319
        },
        {
          "output_type": "display_data",
          "data": {
            "image/png": "[encoded data removed]",
            "text/plain": [
              "<Figure size 360x360 with 1 Axes>"
            ]
          },
          "metadata": {
            "tags": [],
            "needs_background": "light"
          }
        }
      ]
    },
    {
      "cell_type": "markdown",
      "metadata": {
        "id": "c4eyCMbDveYF"
      },
      "source": [
        "### Where is delay_minutes longest?"
      ]
    },
    {
      "cell_type": "code",
      "metadata": {
        "colab": {
          "base_uri": "https://localhost:8080/",
          "height": 479
        },
        "id": "T5vJS65Ft9Vq",
        "outputId": "ee38d871-a8dd-4e8f-fc61-da67436349ff"
      },
      "source": [
        "df['long_delay'] = df['delay_minutes'] > 5\n",
        "df.groupby('line')['long_delay'].mean().sort_values(ascending=False).plot(kind='bar')"
      ],
      "execution_count": null,
      "outputs": [
        {
          "output_type": "stream",
          "text": [
            "/usr/local/lib/python3.6/dist-packages/ipykernel_launcher.py:1: SettingWithCopyWarning: \n",
            "A value is trying to be set on a copy of a slice from a DataFrame.\n",
            "Try using .loc[row_indexer,col_indexer] = value instead\n",
            "\n",
            "See the caveats in the documentation: https://pandas.pydata.org/pandas-docs/stable/user_guide/indexing.html#returning-a-view-versus-a-copy\n",
            "  \"\"\"Entry point for launching an IPython kernel.\n"
          ],
          "name": "stderr"
        },
        {
          "output_type": "execute_result",
          "data": {
            "text/plain": [
              "<matplotlib.axes._subplots.AxesSubplot at 0x7feea0218c18>"
            ]
          },
          "metadata": {
            "tags": []
          },
          "execution_count": 321
        },
        {
          "output_type": "display_data",
          "data": {
            "image/png": "[encoded data removed]",
            "text/plain": [
              "<Figure size 432x288 with 1 Axes>"
            ]
          },
          "metadata": {
            "tags": [],
            "needs_background": "light"
          }
        }
      ]
    },
    {
      "cell_type": "code",
      "metadata": {
        "colab": {
          "base_uri": "https://localhost:8080/",
          "height": 388
        },
        "id": "ycbi4kQhwtpj",
        "outputId": "b5a719e6-26f1-4c83-d630-6229bedeeaa2"
      },
      "source": [
        "df.groupby('line')['long_delay'].count().sort_values(ascending=False).plot(kind='bar')"
      ],
      "execution_count": null,
      "outputs": [
        {
          "output_type": "execute_result",
          "data": {
            "text/plain": [
              "<matplotlib.axes._subplots.AxesSubplot at 0x7fee9f444b00>"
            ]
          },
          "metadata": {
            "tags": []
          },
          "execution_count": 324
        },
        {
          "output_type": "display_data",
          "data": {
            "image/png": "[encoded data removed]",
            "text/plain": [
              "<Figure size 432x288 with 1 Axes>"
            ]
          },
          "metadata": {
            "tags": [],
            "needs_background": "light"
          }
        }
      ]
    },
    {
      "cell_type": "code",
      "metadata": {
        "colab": {
          "base_uri": "https://localhost:8080/"
        },
        "id": "FJJL4oSGxc3H",
        "outputId": "ad3e6bac-9e67-41cc-d393-b0146657dae9"
      },
      "source": [
        "df.groupby('line')['long_delay'].count()"
      ],
      "execution_count": null,
      "outputs": [
        {
          "output_type": "execute_result",
          "data": {
            "text/plain": [
              "line\n",
              "Atl. City Line        108592\n",
              "Bergen Co. Line       546524\n",
              "Gladstone Branch      542027\n",
              "Main Line             589950\n",
              "Montclair-Boonton     522271\n",
              "Morristown Line       988398\n",
              "No Jersey Coast       943643\n",
              "Northeast Corrdr     1023679\n",
              "Pascack Valley        391387\n",
              "Princeton Shuttle      59782\n",
              "Raritan Valley        457762\n",
              "Name: long_delay, dtype: int64"
            ]
          },
          "metadata": {
            "tags": []
          },
          "execution_count": 329
        }
      ]
    },
    {
      "cell_type": "code",
      "metadata": {
        "colab": {
          "base_uri": "https://localhost:8080/"
        },
        "id": "-QZDGkVLxgtM",
        "outputId": "a714dffa-8a2a-4cd5-cb1a-7c45d01aa960"
      },
      "source": [
        "df[df.line == 'Northeast Corrdr'].count()\n"
      ],
      "execution_count": null,
      "outputs": [
        {
          "output_type": "execute_result",
          "data": {
            "text/plain": [
              "date              1023679\n",
              "train_id          1023679\n",
              "stop_sequence     1023679\n",
              "from              1023679\n",
              "from_id           1023679\n",
              "to                1023679\n",
              "to_id             1023679\n",
              "scheduled_time    1023679\n",
              "actual_time       1023679\n",
              "delay_minutes     1023679\n",
              "status            1023679\n",
              "line              1023679\n",
              "type              1023679\n",
              "long_delay        1023679\n",
              "dtype: int64"
            ]
          },
          "metadata": {
            "tags": []
          },
          "execution_count": 331
        }
      ]
    },
    {
      "cell_type": "markdown",
      "metadata": {
        "id": "-Jvxid-AwciY"
      },
      "source": [
        "### Cancelation "
      ]
    },
    {
      "cell_type": "code",
      "metadata": {
        "colab": {
          "base_uri": "https://localhost:8080/"
        },
        "id": "z2Eu0MXUwBc1",
        "outputId": "7d5f3e19-8a9d-48d3-d5d9-6239c234edcb"
      },
      "source": [
        "x = df.groupby(['line', 'status']).size().unstack()\n",
        "x['cancelled']/(x['departed']+x['estimated'])"
      ],
      "execution_count": null,
      "outputs": [
        {
          "output_type": "execute_result",
          "data": {
            "text/plain": [
              "line\n",
              "Atl. City Line       0.010920\n",
              "Bergen Co. Line      0.008392\n",
              "Gladstone Branch     0.019231\n",
              "Main Line            0.006861\n",
              "Montclair-Boonton    0.015183\n",
              "Morristown Line      0.018544\n",
              "No Jersey Coast      0.016288\n",
              "Northeast Corrdr     0.013938\n",
              "Pascack Valley       0.010094\n",
              "Princeton Shuttle    0.003778\n",
              "Raritan Valley       0.009035\n",
              "dtype: float64"
            ]
          },
          "metadata": {
            "tags": []
          },
          "execution_count": 323
        }
      ]
    },
    {
      "cell_type": "markdown",
      "metadata": {
        "id": "DPFS-ECU1Zqh"
      },
      "source": [
        "### Do the delays increase further down the line?"
      ]
    },
    {
      "cell_type": "code",
      "metadata": {
        "colab": {
          "base_uri": "https://localhost:8080/",
          "height": 297
        },
        "id": "0EU60nzswZ1y",
        "outputId": "4046ffa0-abc7-4065-cc05-a82b7e660b6f"
      },
      "source": [
        "ax = df.groupby('stop_sequence')[\"delay_minutes\"].mean().plot()\n",
        "ax.set_ylabel(\"average delay_minutes\")"
      ],
      "execution_count": null,
      "outputs": [
        {
          "output_type": "execute_result",
          "data": {
            "text/plain": [
              "Text(0, 0.5, 'average delay_minutes')"
            ]
          },
          "metadata": {
            "tags": []
          },
          "execution_count": 332
        },
        {
          "output_type": "display_data",
          "data": {
            "image/png": "[encoded data removed]",
            "text/plain": [
              "<Figure size 432x288 with 1 Axes>"
            ]
          },
          "metadata": {
            "tags": [],
            "needs_background": "light"
          }
        }
      ]
    },
    {
      "cell_type": "code",
      "metadata": {
        "colab": {
          "base_uri": "https://localhost:8080/"
        },
        "id": "sM7qB0xP1kmJ",
        "outputId": "c1a67406-8cb9-43ec-8f20-d6f1f869d705"
      },
      "source": [
        "df.groupby('from')['delay_minutes'].mean().sort_values(ascending=False).head(10)"
      ],
      "execution_count": null,
      "outputs": [
        {
          "output_type": "execute_result",
          "data": {
            "text/plain": [
              "from\n",
              "Cherry Hill                    14.103673\n",
              "Lindenwold                     13.980036\n",
              "Egg Harbor City                13.895344\n",
              "Pennsauken                     13.518110\n",
              "Atco                           13.390628\n",
              "Absecon                        12.792125\n",
              "Hammonton                      12.463913\n",
              "Atlantic City Rail Terminal    12.207931\n",
              "Philadelphia                    8.491615\n",
              "Harriman                        6.566685\n",
              "Name: delay_minutes, dtype: float64"
            ]
          },
          "metadata": {
            "tags": []
          },
          "execution_count": 333
        }
      ]
    },
    {
      "cell_type": "code",
      "metadata": {
        "colab": {
          "base_uri": "https://localhost:8080/"
        },
        "id": "wcXTzuvB1sal",
        "outputId": "4767c20d-794c-47f0-8d3d-101db88c4114"
      },
      "source": [
        "df.groupby('to')['delay_minutes'].mean().sort_values(ascending=False).head(10)"
      ],
      "execution_count": null,
      "outputs": [
        {
          "output_type": "execute_result",
          "data": {
            "text/plain": [
              "to\n",
              "Lindenwold                     13.594380\n",
              "Hammonton                      13.358969\n",
              "Cherry Hill                    13.210115\n",
              "Pennsauken                     12.968629\n",
              "Atco                           12.891778\n",
              "Egg Harbor City                12.799474\n",
              "Philadelphia                   12.516867\n",
              "Absecon                        12.317273\n",
              "Atlantic City Rail Terminal    11.197467\n",
              "Salisbury Mills-Cornwall        5.786191\n",
              "Name: delay_minutes, dtype: float64"
            ]
          },
          "metadata": {
            "tags": []
          },
          "execution_count": 334
        }
      ]
    },
    {
      "cell_type": "markdown",
      "metadata": {
        "id": "zlnqaZAn14Cf"
      },
      "source": [
        "###When do the delays occur?"
      ]
    },
    {
      "cell_type": "code",
      "metadata": {
        "colab": {
          "base_uri": "https://localhost:8080/",
          "height": 561
        },
        "id": "GImOLlZb16iI",
        "outputId": "776de97d-59e6-456f-a848-b142353f86ba"
      },
      "source": [
        "df.date = pd.to_datetime(df.date)\n",
        "x = df.groupby('date')['delay_minutes'].mean()\n",
        "fig, ax = plt.subplots()\n",
        "fig.set_size_inches(20,8)\n",
        "fig.autofmt_xdate()\n",
        "ax.plot(x)\n",
        "ax.set_ylabel('average delay_minutes')\n",
        "plt.show()"
      ],
      "execution_count": null,
      "outputs": [
        {
          "output_type": "stream",
          "text": [
            "/usr/local/lib/python3.6/dist-packages/pandas/core/generic.py:5170: SettingWithCopyWarning: \n",
            "A value is trying to be set on a copy of a slice from a DataFrame.\n",
            "Try using .loc[row_indexer,col_indexer] = value instead\n",
            "\n",
            "See the caveats in the documentation: https://pandas.pydata.org/pandas-docs/stable/user_guide/indexing.html#returning-a-view-versus-a-copy\n",
            "  self[name] = value\n"
          ],
          "name": "stderr"
        },
        {
          "output_type": "display_data",
          "data": {
            "image/png": "[encoded data removed]",
            "text/plain": [
              "<Figure size 1440x576 with 1 Axes>"
            ]
          },
          "metadata": {
            "tags": [],
            "needs_background": "light"
          }
        }
      ]
    },
    {
      "cell_type": "code",
      "metadata": {
        "colab": {
          "base_uri": "https://localhost:8080/",
          "height": 687
        },
        "id": "JX1ZpH4U5xcV",
        "outputId": "149c0f0a-c07e-412e-b037-b58c4fe14666"
      },
      "source": [
        "df.scheduled_time = pd.to_datetime(df.scheduled_time)\n",
        "df['time'] = df.scheduled_time.dt.time.astype(str)\n",
        "\n",
        "fig, ax = plt.subplots()\n",
        "fig.set_size_inches(20,8)\n",
        "x = df.groupby('time')['delay_minutes'].mean()\n",
        "ax.plot(x)\n",
        "ax.set_ylabel('average delay_minutes')\n",
        "plt.show()\n",
        "\n",
        "# Limit the number of data plotted to make the labels easier to see. \n",
        "# Limit number of months/yewars in plot\n",
        "# Look into ways to relabel"
      ],
      "execution_count": null,
      "outputs": [
        {
          "output_type": "stream",
          "text": [
            "/usr/local/lib/python3.6/dist-packages/pandas/core/generic.py:5170: SettingWithCopyWarning: \n",
            "A value is trying to be set on a copy of a slice from a DataFrame.\n",
            "Try using .loc[row_indexer,col_indexer] = value instead\n",
            "\n",
            "See the caveats in the documentation: https://pandas.pydata.org/pandas-docs/stable/user_guide/indexing.html#returning-a-view-versus-a-copy\n",
            "  self[name] = value\n",
            "/usr/local/lib/python3.6/dist-packages/ipykernel_launcher.py:2: SettingWithCopyWarning: \n",
            "A value is trying to be set on a copy of a slice from a DataFrame.\n",
            "Try using .loc[row_indexer,col_indexer] = value instead\n",
            "\n",
            "See the caveats in the documentation: https://pandas.pydata.org/pandas-docs/stable/user_guide/indexing.html#returning-a-view-versus-a-copy\n",
            "  \n"
          ],
          "name": "stderr"
        },
        {
          "output_type": "display_data",
          "data": {
            "image/png": "[encoded data removed]",
            "text/plain": [
              "<Figure size 1440x576 with 1 Axes>"
            ]
          },
          "metadata": {
            "tags": [],
            "needs_background": "light"
          }
        }
      ]
    },
    {
      "cell_type": "code",
      "metadata": {
        "colab": {
          "base_uri": "https://localhost:8080/"
        },
        "id": "7lY4E0Mu4TfX",
        "outputId": "7a118b07-265c-4f37-d852-e743a1773a81"
      },
      "source": [
        "x.sort_values(ascending=False).head(5)"
      ],
      "execution_count": null,
      "outputs": [
        {
          "output_type": "execute_result",
          "data": {
            "text/plain": [
              "time\n",
              "21:29:00    10.035799\n",
              "00:54:00     9.262274\n",
              "19:30:00     9.235417\n",
              "01:02:00     8.998983\n",
              "21:05:00     8.828205\n",
              "Name: delay_minutes, dtype: float64"
            ]
          },
          "metadata": {
            "tags": []
          },
          "execution_count": 349
        }
      ]
    },
    {
      "cell_type": "code",
      "metadata": {
        "colab": {
          "base_uri": "https://localhost:8080/",
          "height": 483
        },
        "id": "KlUR_m3v1vU6",
        "outputId": "b59079e6-033d-4986-e842-ebf9cb42bfc7"
      },
      "source": [
        "x = df.groupby(['date', 'status']).size().unstack()\n",
        "x = (x['cancelled']/(x['departed']+x['estimated']))\n",
        "\n",
        "fig, ax = plt.subplots()\n",
        "fig.set_size_inches(20,8)\n",
        "ax.plot(x)\n",
        "ax.set_ylabel('cancellation rate')\n",
        "plt.show()"
      ],
      "execution_count": null,
      "outputs": [
        {
          "output_type": "display_data",
          "data": {
            "image/png": "[encoded data removed]",
            "text/plain": [
              "<Figure size 1440x576 with 1 Axes>"
            ]
          },
          "metadata": {
            "tags": [],
            "needs_background": "light"
          }
        }
      ]
    },
    {
      "cell_type": "markdown",
      "metadata": {
        "id": "hyieyV45TYt2"
      },
      "source": [
        "# Data Cleaning and Feature Engineering\n",
        "\n",
        "Building models for all 6.1 million would be impractical due to time and processing limitations. "
      ]
    },
    {
      "cell_type": "code",
      "metadata": {
        "id": "cT1r5-z-HXWy"
      },
      "source": [
        "from sklearn.preprocessing import LabelEncoder\n",
        "from sklearn.preprocessing import OrdinalEncoder\n",
        "from sklearn.model_selection import train_test_split\n",
        "import time"
      ],
      "execution_count": null,
      "outputs": []
    },
    {
      "cell_type": "code",
      "metadata": {
        "colab": {
          "base_uri": "https://localhost:8080/"
        },
        "id": "tB31dzn-YBjE",
        "outputId": "396be370-45df-4c0c-f72c-757d9d01bcff"
      },
      "source": [
        "t1 = time.time()\n",
        "\n",
        "df['long_delay'] = df['delay_minutes'] > 5\n",
        "#df = df.drop(columns='type')\n",
        "df_sample = df.sample(200000)\n",
        "\n",
        "X = df_sample.iloc[:,:-2]\n",
        "y = df_sample.iloc[:,-1]\n",
        "X_train, X_test, y_train, y_test = train_test_split(X, y, test_size = .3, random_state=10)\n",
        "\n",
        "t2 = time.time()\n",
        "\n",
        "total = t2-t1\n",
        "total"
      ],
      "execution_count": null,
      "outputs": [
        {
          "output_type": "execute_result",
          "data": {
            "text/plain": [
              "0.9530923366546631"
            ]
          },
          "metadata": {
            "tags": []
          },
          "execution_count": 122
        }
      ]
    },
    {
      "cell_type": "code",
      "metadata": {
        "colab": {
          "base_uri": "https://localhost:8080/"
        },
        "id": "BUXIKxHbSR8_",
        "outputId": "e16870d0-e500-488c-9fce-88c6326596d1"
      },
      "source": [
        "X_test.shape[0]"
      ],
      "execution_count": null,
      "outputs": [
        {
          "output_type": "execute_result",
          "data": {
            "text/plain": [
              "60000"
            ]
          },
          "metadata": {
            "tags": []
          },
          "execution_count": 117
        }
      ]
    },
    {
      "cell_type": "code",
      "metadata": {
        "id": "iExIuln0Sfra"
      },
      "source": [
        "# prepare input data\n",
        "def prepare_inputs(X_train, X_test):\n",
        "\toe = OrdinalEncoder()\n",
        "\toe.fit(X_train)\n",
        "\tX_train_enc = oe.transform(X_train)\n",
        "\tX_test_enc = oe.transform(X_test)\n",
        "\treturn X_train_enc, X_test_enc\n",
        "\n",
        "  # prepare target\n",
        "def prepare_targets(y_train, y_test):\n",
        "\tle = LabelEncoder()\n",
        "\tle.fit(y_train)\n",
        "\ty_train_enc = le.transform(y_train)\n",
        "\ty_test_enc = le.transform(y_test)\n",
        "\treturn y_train_enc, y_test_enc\n"
      ],
      "execution_count": null,
      "outputs": []
    }
  ]
}