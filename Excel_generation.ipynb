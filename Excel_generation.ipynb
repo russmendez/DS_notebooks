{
  "nbformat": 4,
  "nbformat_minor": 0,
  "metadata": {
    "colab": {
      "name": "Excel generation.ipynb",
      "provenance": [],
      "collapsed_sections": [
        "a7qM28qTjDOD"
      ],
      "authorship_tag": "ABX9TyP0kpTXcYOnelewqQr7Y5kT",
      "include_colab_link": true
    },
    "kernelspec": {
      "display_name": "Python 3",
      "name": "python3"
    },
    "language_info": {
      "name": "python"
    }
  },
  "cells": [
    {
      "cell_type": "markdown",
      "metadata": {
        "id": "view-in-github",
        "colab_type": "text"
      },
      "source": [
        "<a href=\"https://colab.research.google.com/github/russmendez/DS_notebooks/blob/master/Excel_generation.ipynb\" target=\"_parent\"><img src=\"https://colab.research.google.com/assets/colab-badge.svg\" alt=\"Open In Colab\"/></a>"
      ]
    },
    {
      "cell_type": "markdown",
      "metadata": {
        "id": "C6FjUR-sH90i"
      },
      "source": [
        "#Mount Drive and Install Libraries"
      ]
    },
    {
      "cell_type": "code",
      "metadata": {
        "colab": {
          "base_uri": "https://localhost:8080/"
        },
        "id": "GYJqC76gH31n",
        "outputId": "77a02d24-bb24-4773-c244-0a043934956b"
      },
      "source": [
        "from google.colab import drive\n",
        "drive.mount ('/content/drive')"
      ],
      "execution_count": 1,
      "outputs": [
        {
          "output_type": "stream",
          "text": [
            "Mounted at /content/drive\n"
          ],
          "name": "stdout"
        }
      ]
    },
    {
      "cell_type": "code",
      "metadata": {
        "colab": {
          "base_uri": "https://localhost:8080/"
        },
        "id": "E6f_sBWGIJh3",
        "outputId": "90db3ea5-12ae-4bf1-8a18-6f611054a47c"
      },
      "source": [
        "!pip install pandasql\n",
        "!pip install openpyxl"
      ],
      "execution_count": 2,
      "outputs": [
        {
          "output_type": "stream",
          "text": [
            "Collecting pandasql\n",
            "  Downloading https://files.pythonhosted.org/packages/6b/c4/ee4096ffa2eeeca0c749b26f0371bd26aa5c8b611c43de99a4f86d3de0a7/pandasql-0.7.3.tar.gz\n",
            "Requirement already satisfied: numpy in /usr/local/lib/python3.7/dist-packages (from pandasql) (1.19.5)\n",
            "Requirement already satisfied: pandas in /usr/local/lib/python3.7/dist-packages (from pandasql) (1.1.5)\n",
            "Requirement already satisfied: sqlalchemy in /usr/local/lib/python3.7/dist-packages (from pandasql) (1.4.15)\n",
            "Requirement already satisfied: python-dateutil>=2.7.3 in /usr/local/lib/python3.7/dist-packages (from pandas->pandasql) (2.8.1)\n",
            "Requirement already satisfied: pytz>=2017.2 in /usr/local/lib/python3.7/dist-packages (from pandas->pandasql) (2018.9)\n",
            "Requirement already satisfied: greenlet!=0.4.17; python_version >= \"3\" in /usr/local/lib/python3.7/dist-packages (from sqlalchemy->pandasql) (1.1.0)\n",
            "Requirement already satisfied: importlib-metadata; python_version < \"3.8\" in /usr/local/lib/python3.7/dist-packages (from sqlalchemy->pandasql) (4.0.1)\n",
            "Requirement already satisfied: six>=1.5 in /usr/local/lib/python3.7/dist-packages (from python-dateutil>=2.7.3->pandas->pandasql) (1.15.0)\n",
            "Requirement already satisfied: zipp>=0.5 in /usr/local/lib/python3.7/dist-packages (from importlib-metadata; python_version < \"3.8\"->sqlalchemy->pandasql) (3.4.1)\n",
            "Requirement already satisfied: typing-extensions>=3.6.4; python_version < \"3.8\" in /usr/local/lib/python3.7/dist-packages (from importlib-metadata; python_version < \"3.8\"->sqlalchemy->pandasql) (3.7.4.3)\n",
            "Building wheels for collected packages: pandasql\n",
            "  Building wheel for pandasql (setup.py) ... \u001b[?25l\u001b[?25hdone\n",
            "  Created wheel for pandasql: filename=pandasql-0.7.3-cp37-none-any.whl size=26784 sha256=b66021fc4c08a133c48a245428eccd336104ad8957f07cd7dcb1b1aa429788b0\n",
            "  Stored in directory: /root/.cache/pip/wheels/53/6c/18/b87a2e5fa8a82e9c026311de56210b8d1c01846e18a9607fc9\n",
            "Successfully built pandasql\n",
            "Installing collected packages: pandasql\n",
            "Successfully installed pandasql-0.7.3\n",
            "Requirement already satisfied: openpyxl in /usr/local/lib/python3.7/dist-packages (2.5.9)\n",
            "Requirement already satisfied: et-xmlfile in /usr/local/lib/python3.7/dist-packages (from openpyxl) (1.1.0)\n",
            "Requirement already satisfied: jdcal in /usr/local/lib/python3.7/dist-packages (from openpyxl) (1.4.1)\n"
          ],
          "name": "stdout"
        }
      ]
    },
    {
      "cell_type": "markdown",
      "metadata": {
        "id": "9Q3tPknwIaOc"
      },
      "source": [
        "# Generate a template "
      ]
    },
    {
      "cell_type": "code",
      "metadata": {
        "colab": {
          "base_uri": "https://localhost:8080/"
        },
        "id": "MZn9xw3yIN_6",
        "outputId": "382cf4af-9dea-400f-c548-cd03cb6b60d1"
      },
      "source": [
        "#-------------------------------------------------------------------------------\n",
        "# Load libraries and hardcode file path, create new Excel sheet\n",
        "\n",
        "import openpyxl\n",
        "from openpyxl import Workbook\n",
        "from openpyxl.utils import FORMULAE\n",
        "from openpyxl.utils import get_column_letter\n",
        "from openpyxl.styles import Font, Color, Alignment, Border, Side, colors, PatternFill\n",
        "from openpyxl.formatting.rule import FormulaRule\n",
        "\n",
        "workbook = Workbook()\n",
        "sheet = workbook.active\n",
        "\n",
        "filename = 'xl_file.xlsx' # change to desired file name\n",
        "\n",
        "workbook.save(filename=filename)\n",
        "!cp xl_file.xlsx 'drive/My Drive/python_for_data_science/'\n",
        "\n",
        "#-------------------------------------------------------------------------------\n",
        "# Date input\n",
        "\n",
        "date_input = {\n",
        "              'Month' : None,\n",
        "              'Day': None\n",
        "              }\n",
        "\n",
        "if date_input['Month'] is None:\n",
        "  date_input['Month'] = input('Enter month as 1-12: ')\n",
        "  \n",
        "if date_input['Day'] is None:\n",
        "  date_input['Day'] = input('Enter day as 1-31: ')"
      ],
      "execution_count": 1,
      "outputs": [
        {
          "output_type": "stream",
          "text": [
            "Enter month as 1-12: 5\n",
            "Enter day as 1-31: 15\n"
          ],
          "name": "stdout"
        }
      ]
    },
    {
      "cell_type": "markdown",
      "metadata": {
        "id": "bDdvMcobobv4"
      },
      "source": [
        "###template generation\n",
        "\n",
        "The requirements for the template are as follows:\n",
        "\n",
        "1. There will be 15 categorical columns before the numeric columns. The first column with be the index from the original df and will not need a filter but the rest will. \n",
        "\n",
        "2. There will need to be 6 numeric columns for each month. The number of columns should depend on when the template is generated, going forward 12 months to the end of 2021.\n",
        "\n",
        "3. Depending on if its before or after the 15th of the month that month will be considered either historic or forcasting. Forcasting months will need one of two types of SUBTOTAL functions applied, explained in the code below. Historic months will not need any SUBTOTAL functions.\n",
        "\n",
        "4. Shade every other month and highlight the override column. \n",
        "\n"
      ]
    },
    {
      "cell_type": "code",
      "metadata": {
        "id": "Zt__TiYlRY6j"
      },
      "source": [
        "#-------------------------------------------------------------------------------\n",
        "# Formatting. openpyxl requires the style argument to be stored as an array. Cells cannot be referenced directly for styling\n",
        "\n",
        "from openpyxl.styles import Font, Color, Alignment, Border, Side, colors, PatternFill\n",
        "from openpyxl.styles.differential import DifferentialStyle\n",
        "from openpyxl.formatting.rule import FormulaRule\n",
        "\n",
        "\n",
        "\n",
        "purple_text = Font(color='00FF00FF', bold=True)\n",
        "\n",
        "bold_font = Font(bold=True)\n",
        "center_aligned_text = Alignment(horizontal=\"center\", shrinkToFit=True)\n",
        "single_border_side = Side(border_style='thin')\n",
        "single_square_border = Border(top = single_border_side,\n",
        "                              right = single_border_side,\n",
        "                              bottom = single_border_side,\n",
        "                              left = single_border_side)\n",
        "double_border_side = Side(border_style=\"double\")\n",
        "double_square_border = Border(top=double_border_side,\n",
        "                      right=double_border_side,\n",
        "                      bottom=double_border_side,\n",
        "                      left=double_border_side)\n",
        "\n",
        "greyFill = PatternFill(start_color='00C0C0C0', fill_type='solid')\n",
        "\n",
        "fillBlue = PatternFill(start_color='0099CCFF', fill_type='solid')\n",
        "\n",
        "fillGreen = PatternFill(start_color='0000FF00', fill_type='solid')\n",
        "\n",
        "#-------------------------------------------------------------------------------\n",
        "# Subcolumns header creation. These titles must be hard coded. This will allow for the creation of any number of subcolumns. They just need to be added to the lists. \n",
        "\n",
        "months = ['JAN', 'FEB', 'MAR', 'APR', 'MAY', 'JUN', 'JUL', 'AUG', 'SEP', 'OCT', 'NOV', 'DEC']\n",
        "# This is a template for the five coumns needed for each month\n",
        "sub_columns_21 = [\"XXX_'20\", \"F_XXX_'21\", \"ABC_XXX_'21\", \"O_XXX_'21\", \"XXX_'21_%CHG\", \"XXX_'21_%DELTA\"]\n",
        "sub_columns_22 = [\"XXX_'21\", \"F_XXX_'22\", \"ABC_XXX_'21\", \"O_XXX_'22\", \"XXX_'22_%CHG\", \"XXX_'22_%DELTA\"]\n",
        "\n",
        "sub_columns_titles = ['PRIOR', 'FORECAST', 'ABC', 'OVERIDE', '% CHG', '% DELTA']\n",
        "\n",
        "\n",
        "# If the input date is >= 15 than the current month is considered 'historical.' Because the index is set back 1, no change will \n",
        "# need to be made as the right hand of a range is inclusive. i.e. if its 4/25 then April will be 'historical' and \n",
        "# so 4 will be the righ hand bound on the range.\n",
        "\n",
        "if int(date_input['Day']) >= 15:\n",
        "  col_list = []\n",
        "  title_col_list = []\n",
        "  x = int(date_input['Month'])\n",
        "\n",
        "  for i in range(0,x):\n",
        "    new_test = [s.replace('XXX', f'{months[i]}') for s in sub_columns_21]\n",
        "    col_list.append(new_test)\n",
        "    title_col_list.append(sub_columns_titles)\n",
        "\n",
        "  for i in range(x,12):\n",
        "    new_test = [s.replace('XXX', f'{months[i]}') for s in sub_columns_21]\n",
        "    col_list.append(new_test)\n",
        "    title_col_list.append(sub_columns_titles)\n",
        "\n",
        "  for i in range(0,6):\n",
        "      new_test = [s.replace('XXX', f'{months[i]}') for s in sub_columns_22]\n",
        "      col_list.append(new_test)\n",
        "      title_col_list.append(sub_columns_titles)\n",
        "  \n",
        "\n",
        "# If the input date is before the 15th then the month is considered 'forcasting' and therefore is not included into the 'historical month.\n",
        "# This is managed by removing 1 from the date thereby making the previous month the inclusive right bound on the range.\n",
        "\n",
        "if int(date_input['Day']) < 15:\n",
        "  col_list = []\n",
        "  title_col_list = []\n",
        "  x = int(date_input['Month']) - 1\n",
        "\n",
        "  for i in range(0,x):\n",
        "    new_test = [s.replace('XXX', f'{months[i]}') for s in sub_columns_21]\n",
        "    col_list.append(new_test)\n",
        "    title_col_list.append(sub_columns_titles)\n",
        "\n",
        "  for i in range(x,12):\n",
        "    new_test = [s.replace('XXX', f'{months[i]}') for s in sub_columns_21]\n",
        "    col_list.append(new_test)\n",
        "    title_col_list.append(sub_columns_titles)\n",
        "\n",
        "  for i in range(0,6):\n",
        "      new_test = [s.replace('XXX', f'{months[i]}') for s in sub_columns_22]\n",
        "      col_list.append(new_test)\n",
        "      title_col_list.append(sub_columns_titles)\n",
        "\n",
        "\n",
        "#-------------------------------------------------------------------------------\n",
        "# Adding the subcolumns headers to sheet/ formatting rows 2 and 6.\n",
        "\n",
        "new_list = [item for sublist in col_list for item in sublist] # makes list of list into a single list for easier coding\n",
        "new_title_list = [item for sublist in title_col_list for item in sublist]\n",
        "\n",
        "# This code creates a row and assumes there will be a header above. So min_row=1 will place the row at row 2 on the excell sheet.\n",
        "# Functionally, this means that min_row can be used to indicate how many rows need to be above the input line.\n",
        "\n",
        "for row in sheet.iter_rows(min_row = 1, max_row = 1): # Top row\n",
        "  sheet.append(new_list)\n",
        "\n",
        "for row in sheet.iter_rows(min_row = 5, max_row = 5): # header for bottom row\n",
        "  sheet.append(new_title_list)\n",
        "\n",
        "for row in sheet.iter_rows(min_row = 6, max_row = 6): # bottom row\n",
        "  sheet.append(new_list)\n",
        "\n",
        "for cell in sheet['2:2']: # This is done here before the categorical columns are added to prevent the whole upper section from having borders.\n",
        "  cell.font = bold_font\n",
        "  cell.border = single_square_border\n",
        "  cell.alignment = center_aligned_text\n",
        "\n",
        "for cell in sheet['6:6']:\n",
        "  cell.font = bold_font\n",
        "  cell.border = single_square_border\n",
        "  cell.alignment = center_aligned_text\n",
        "\n",
        "for cell in sheet['1:1']:\n",
        "  cell.font = bold_font\n",
        "  cell.border = single_square_border\n",
        "  cell.alignment = center_aligned_text\n",
        "#-------------------------------------------------------------------------------\n",
        "# Creating the categorical columns and formatting them. \n",
        "\n",
        "# IMPORTANT NOTE: These cells needed to be hard coded individually. Because there is no list of categorical columns,\n",
        "# it was not possible to automated some of the following sections. Instead I refer to the number of columns so if the number of columns change\n",
        "# a careful revision of the code will be needed to ensure it functions correctly.\n",
        "\n",
        "#ST\tH1\tH2\tH5\tH4\tH5\tH6\tH7\tH8\tH9\tDESC\tCGY1\tCGY2\tCGY3\n",
        "sheet.insert_cols(idx=1, amount=14) # category columns\n",
        "sheet['A7'] = 'ST'\n",
        "sheet['B7'] = 'H1'\n",
        "sheet['C7'] = 'H2'\n",
        "sheet['D7'] = 'H5'\n",
        "sheet['E7'] = 'H4'\n",
        "sheet['F7'] = 'H5'\n",
        "sheet['G7'] = 'H6'\n",
        "sheet['H7'] = 'H7'\n",
        "sheet['I7'] = 'H8'\n",
        "sheet['J7'] = 'H9'\n",
        "sheet['K7'] = 'DESC'\n",
        "sheet['L7'] = 'CGY1'\n",
        "sheet['M7'] = 'CGY2'\n",
        "sheet['N7'] = 'CGY3'\n",
        "\n",
        "sheet.insert_cols(idx=1, amount=1) # empty column for original index\n",
        "\n",
        "for i in range(0,14): # grey formatting\n",
        "  letter = get_column_letter(i+2)\n",
        "  sheet[f'{letter}7'].fill = greyFill\n",
        "\n",
        "#-------------------------------------------------------------------------------\n",
        "# Adding the SUBTOTAL function to the proper month, adding filter to categorical columns, and formatting row 7.\n",
        "\n",
        "# x is the first forecast month. (x*(number of rows generated per month) +1) will start the SUBTOTAL in the correct position. Plus 1 because of the difference in indexing\n",
        "# Using sheet.max_column makes the code end 1 short because the right hand of range() is non-inclusive.\n",
        "# In addition, because we add 15 columns to the left later we also need to account for that when determining the range otherwise the SUBTOTAL will count the wrong columns.\n",
        "\n",
        "for i in range((((x-1)*6) +16), (sheet.max_column +1)): #  SUBTOTAL row\n",
        "  letter = get_column_letter(i)\n",
        "  n = f'=SUBTOTAL(9, {letter}8:{letter}50000)'\n",
        "  sheet[f\"{letter}3\"] = n\n",
        "  sheet[f\"{letter}3\"].font = purple_text\n",
        "\n",
        "for i in range((((x-1)*6) +20), (sheet.max_column +1),6): #  SUBTOTAL row\n",
        "  letter = get_column_letter(i)\n",
        "  n = f'=SUBTOTAL(1, {letter}8:{letter}50000)'\n",
        "  sheet[f\"{letter}3\"] = n\n",
        "  sheet[f\"{letter}3\"].font = purple_text\n",
        "\n",
        "for i in range((((x-1)*6) +21), (sheet.max_column +1),6): #  SUBTOTAL row\n",
        "  letter = get_column_letter(i)\n",
        "  n = f'=SUBTOTAL(1, {letter}8:{letter}50000)'\n",
        "  sheet[f\"{letter}3\"] = n\n",
        "  sheet[f\"{letter}3\"].font = purple_text\n",
        "\n",
        "sheet.auto_filter.ref = \"B7:O50000\" #add filter\n",
        "\n",
        "for cell in sheet['7:7']: # This is done after the categorical columns are added so the entire row will have borders.\n",
        "  cell.font = bold_font\n",
        "  cell.border = single_square_border\n",
        "  cell.alignment = center_aligned_text\n",
        "\n",
        "#-------------------------------------------------------------------------------\n",
        "# Formatting large merged cell - no longer required. Keep for reference\n",
        "\n",
        "#sheet.merge_cells(start_row=5, start_column=2, end_row=6, end_column=15) # Merge the block above the category columns.\n",
        "#sheet['B5'].border = single_square_border # format border\n",
        "\n",
        "#-------------------------------------------------------------------------------\n",
        "# Adding/formatting month headers. The numbers used are based on the categorical columns being created beforehand. \n",
        "\n",
        "month_titles = ['JANUARY', 'FEBURARY', 'MARCH',\n",
        "                'APRIL', 'MAY', 'JUNE', \n",
        "                'JULY', 'AUGUST', 'SEPTEMBER',\n",
        "                'OCTOBER', 'NOVEMBER', 'DECEMBER']\n",
        "\n",
        "month_header_count = 0\n",
        "\n",
        "for i in range(16, (sheet.max_column + 1), 6):\n",
        "  start_letter = get_column_letter(i)\n",
        "  end_letter = get_column_letter(i+5)\n",
        "  \n",
        "  \n",
        "  if month_header_count < 12:\n",
        "      month_header = month_titles[month_header_count]\n",
        "      #print(f'{start_letter}, {end_letter}, {month_header}')\n",
        "      sheet.merge_cells(f'{start_letter}1:{end_letter}1')\n",
        "      sheet[f'{start_letter}1'] = month_header #to fill a merged cell, refer to the uper left most cell in the block\n",
        "      sheet[f'{start_letter}1'].font = bold_font\n",
        "      #sheet[f'{start_letter}1'].border = double_square_border\n",
        "      sheet[f'{start_letter}1'].alignment = center_aligned_text\n",
        "\n",
        "      sheet.merge_cells(f'{start_letter}5:{end_letter}5')\n",
        "      sheet[f'{start_letter}5'] = month_header\n",
        "      sheet[f'{start_letter}5'].font = bold_font\n",
        "      #sheet[f'{start_letter}5'].border = double_square_border\n",
        "      sheet[f'{start_letter}5'].alignment = center_aligned_text \n",
        "\n",
        "  if month_header_count > 11:\n",
        "      month_header_count = month_header_count - 12\n",
        "      month_header = month_titles[month_header_count]\n",
        "      #print(f'{start_letter}, {end_letter}, {month_header}')\n",
        "      sheet.merge_cells(f'{start_letter}1:{end_letter}1')\n",
        "      sheet[f'{start_letter}1'] = month_header\n",
        "      sheet[f'{start_letter}1'].font = bold_font\n",
        "      #sheet[f'{start_letter}1'].border = double_square_border\n",
        "      sheet[f'{start_letter}1'].alignment = center_aligned_text\n",
        "\n",
        "      sheet.merge_cells(f'{start_letter}5:{end_letter}5')\n",
        "      sheet[f'{start_letter}5'] = month_header\n",
        "      sheet[f'{start_letter}5'].font = bold_font\n",
        "      #sheet[f'{start_letter}5'].border = double_square_border\n",
        "      sheet[f'{start_letter}5'].alignment = center_aligned_text\n",
        "\n",
        "  month_header_count = month_header_count + 1\n",
        "\n",
        "for i in range(16, (sheet.max_column + 1), 12): # coloring every other cell.\n",
        "  start_letter = get_column_letter(i)\n",
        "  sheet[f'{start_letter}1'].fill = fillBlue\n",
        "  sheet[f'{start_letter}5'].fill = fillBlue\n",
        "\n",
        "#-------------------------------------------------------------------------------\n",
        "# Adding/formatting month headers\n",
        "\n",
        "for i in range(19, (sheet.max_column + 1), 6): \n",
        "  for row in sheet.iter_cols(min_col=i, max_col=i, min_row=1, max_row=5000): # If the code needs to run faster, limit the max_row \n",
        "    for cell in row:\n",
        "      cell.fill = fillGreen\n",
        "\n",
        "#-------------------------------------------------------------------------------\n",
        "# Save template. Hardcode file path.\n",
        "workbook.save(filename=filename)\n",
        "!cp xl_file.xlsx 'drive/My Drive/python_for_data_science/'"
      ],
      "execution_count": 2,
      "outputs": []
    },
    {
      "cell_type": "markdown",
      "metadata": {
        "id": "3MzW5ikQfJ9i"
      },
      "source": [
        "# Filling template"
      ]
    },
    {
      "cell_type": "code",
      "metadata": {
        "id": "ak9ASSXwqJPE"
      },
      "source": [
        "#-------------------------------------------------------------------------------\n",
        "# Load the data into the template.\n",
        "\n",
        "import pandas as pd\n",
        "\n",
        "input = 'drive/My Drive/python_for_data_science/Copy_input_from_python_process.xlsx'\n",
        "df = pd.read_excel(input, header=None) # Make sure there will be no formulas in the input data.\n",
        "df = df.drop(axis=0, index=0) # drop the header to properly fill the cells.\n",
        "df.iloc[:,0] = df.iloc[:,0].astype(int)\n",
        "#df\n",
        "for i in range(0, len(df.columns)):\n",
        "  row_counter = 8\n",
        "  try:\n",
        "    values = list(df.iloc[:,i])\n",
        "    letter = get_column_letter(i+1)\n",
        "    for ii in values:\n",
        "\n",
        "      sheet[f'{letter}{row_counter}'] = ii\n",
        "      row_counter = row_counter + 1\n",
        "  except Exception:\n",
        "    pass\n",
        "\n",
        "#-------------------------------------------------------------------------------\n",
        "# Save template. Hardcode file path.\n",
        "workbook.save(filename=filename)\n",
        "!cp xl_file.xlsx 'drive/My Drive/python_for_data_science'"
      ],
      "execution_count": 4,
      "outputs": []
    },
    {
      "cell_type": "markdown",
      "metadata": {
        "id": "oKJDfzYwuLY0"
      },
      "source": [
        "#[Final Product](https://docs.google.com/spreadsheets/d/1-JOvE0-lC53LzzKHeP2Ol1wukiWFX1Rx/edit#gid=155305879) "
      ]
    }
  ]
}