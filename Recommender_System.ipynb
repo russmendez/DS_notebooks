{
  "nbformat": 4,
  "nbformat_minor": 0,
  "metadata": {
    "colab": {
      "name": "Recommender System.ipynb",
      "provenance": [],
      "collapsed_sections": [
        "gSCfXUZdNQaj",
        "2AEEiTB8b7U_",
        "xgTYXybSfUwz",
        "MX1OWmZ7f8HB",
        "pV1cjbE4ghSd"
      ],
      "authorship_tag": "ABX9TyNeKA3cFDC9OGsefVpdWgA8",
      "include_colab_link": true
    },
    "kernelspec": {
      "name": "python3",
      "display_name": "Python 3"
    }
  },
  "cells": [
    {
      "cell_type": "markdown",
      "metadata": {
        "id": "view-in-github",
        "colab_type": "text"
      },
      "source": [
        "<a href=\"https://colab.research.google.com/github/russmendez/DS_notebooks/blob/master/Recommender_System.ipynb\" target=\"_parent\"><img src=\"https://colab.research.google.com/assets/colab-badge.svg\" alt=\"Open In Colab\"/></a>"
      ]
    },
    {
      "cell_type": "markdown",
      "metadata": {
        "id": "VsZ7kjvGijRw"
      },
      "source": [
        "#Netflix wants to identify similar movies based on movie characteristics.\n",
        "   "
      ]
    },
    {
      "cell_type": "markdown",
      "metadata": {
        "id": "5oBXd23mv4wB"
      },
      "source": [
        "#Loading the data\n",
        "\n",
        "According to the description from kaggel:\n",
        "\n",
        "This dataset consists of tv shows and movies available on Netflix as of 2019. The dataset is collected from Flixable which is a third-party Netflix search engine.\n",
        "\n",
        "The goal of this project is to identify similar movies and shows based on their characteristics."
      ]
    },
    {
      "cell_type": "code",
      "metadata": {
        "colab": {
          "base_uri": "https://localhost:8080/"
        },
        "id": "l2hyp5hwvDkx",
        "outputId": "531522c5-09c8-4b2a-a687-b1f2b98702ec"
      },
      "source": [
        "import pandas as pd\n",
        "import numpy as np\n",
        "import matplotlib.pyplot as plt\n",
        "import seaborn as sns\n",
        "\n",
        "import umap\n",
        "from sklearn.manifold import TSNE\n",
        "from sklearn.decomposition import PCA\n",
        "\n",
        "from sklearn import datasets, metrics\n",
        "\n",
        "from scipy.cluster.hierarchy import dendrogram, linkage\n",
        "from sklearn.preprocessing import StandardScaler, LabelEncoder\n",
        "from sklearn.model_selection import train_test_split \n",
        "\n",
        "from sklearn.cluster import AgglomerativeClustering\n",
        "from sklearn.cluster import KMeans, MiniBatchKMeans\n",
        "from sklearn.mixture import GaussianMixture\n",
        "from sklearn.cluster import DBSCAN\n",
        "\n",
        "!pip install rake_nltk\n",
        "#The install code needs to be run everytime. Why is that?\n",
        "from rake_nltk import Rake\n",
        "\n",
        "from sklearn.feature_extraction.text import TfidfVectorizer\n",
        "from sklearn.metrics.pairwise import cosine_similarity\n",
        "from sklearn.feature_extraction.text import CountVectorizer"
      ],
      "execution_count": null,
      "outputs": [
        {
          "output_type": "stream",
          "text": [
            "Collecting rake_nltk\n",
            "  Downloading https://files.pythonhosted.org/packages/8e/c4/b4ff57e541ac5624ad4b20b89c2bafd4e98f29fd83139f3a81858bdb3815/rake_nltk-1.0.4.tar.gz\n",
            "Requirement already satisfied: nltk in /usr/local/lib/python3.6/dist-packages (from rake_nltk) (3.2.5)\n",
            "Requirement already satisfied: six in /usr/local/lib/python3.6/dist-packages (from nltk->rake_nltk) (1.15.0)\n",
            "Building wheels for collected packages: rake-nltk\n",
            "  Building wheel for rake-nltk (setup.py) ... \u001b[?25l\u001b[?25hdone\n",
            "  Created wheel for rake-nltk: filename=rake_nltk-1.0.4-py2.py3-none-any.whl size=7819 sha256=919674cc1776650efda53d515ef11024f10068152689d2b46a01eaf38b6e3fd1\n",
            "  Stored in directory: /root/.cache/pip/wheels/ef/92/fc/271b3709e71a96ffe934b27818946b795ac6b9b8ff8682483f\n",
            "Successfully built rake-nltk\n",
            "Installing collected packages: rake-nltk\n",
            "Successfully installed rake-nltk-1.0.4\n"
          ],
          "name": "stdout"
        }
      ]
    },
    {
      "cell_type": "code",
      "metadata": {
        "colab": {
          "base_uri": "https://localhost:8080/"
        },
        "id": "G0_jzbFZvakX",
        "outputId": "83cc58a2-342b-4521-bf29-2cad7bff5da4"
      },
      "source": [
        "from google.colab import drive\n",
        "drive.mount('/content/drive')\n",
        "#!unzip '/content/drive/My Drive/archive (3).zip' -d '/content/drive/My Drive/'\n",
        "netflix_df = pd.read_csv('drive/My Drive/netflix_titles.csv')"
      ],
      "execution_count": null,
      "outputs": [
        {
          "output_type": "stream",
          "text": [
            "Mounted at /content/drive\n"
          ],
          "name": "stdout"
        }
      ]
    },
    {
      "cell_type": "code",
      "metadata": {
        "colab": {
          "base_uri": "https://localhost:8080/"
        },
        "id": "SM5RJ-vQui3K",
        "outputId": "401f389c-4497-47fe-daaa-5326dfb57787"
      },
      "source": [
        "from google.colab import drive\n",
        "drive.mount('/content/drive')\n",
        "#!unzip '/content/drive/My Drive/archive (4).zip' -d '/content/drive/My Drive/'\n",
        "master_movie_df = pd.read_csv('drive/My Drive/MoviesOnStreamingPlatforms_updated.csv')"
      ],
      "execution_count": null,
      "outputs": [
        {
          "output_type": "stream",
          "text": [
            "Drive already mounted at /content/drive; to attempt to forcibly remount, call drive.mount(\"/content/drive\", force_remount=True).\n"
          ],
          "name": "stdout"
        }
      ]
    },
    {
      "cell_type": "code",
      "metadata": {
        "colab": {
          "base_uri": "https://localhost:8080/",
          "height": 391
        },
        "id": "_clpQzlQvstM",
        "outputId": "9ee208c8-304e-4a73-877e-93c4f70d493f"
      },
      "source": [
        "netflix_df.head()"
      ],
      "execution_count": null,
      "outputs": [
        {
          "output_type": "execute_result",
          "data": {
            "text/html": [
              "<div>\n",
              "<style scoped>\n",
              "    .dataframe tbody tr th:only-of-type {\n",
              "        vertical-align: middle;\n",
              "    }\n",
              "\n",
              "    .dataframe tbody tr th {\n",
              "        vertical-align: top;\n",
              "    }\n",
              "\n",
              "    .dataframe thead th {\n",
              "        text-align: right;\n",
              "    }\n",
              "</style>\n",
              "<table border=\"1\" class=\"dataframe\">\n",
              "  <thead>\n",
              "    <tr style=\"text-align: right;\">\n",
              "      <th></th>\n",
              "      <th>show_id</th>\n",
              "      <th>type</th>\n",
              "      <th>title</th>\n",
              "      <th>director</th>\n",
              "      <th>cast</th>\n",
              "      <th>country</th>\n",
              "      <th>date_added</th>\n",
              "      <th>release_year</th>\n",
              "      <th>rating</th>\n",
              "      <th>duration</th>\n",
              "      <th>listed_in</th>\n",
              "      <th>description</th>\n",
              "    </tr>\n",
              "  </thead>\n",
              "  <tbody>\n",
              "    <tr>\n",
              "      <th>0</th>\n",
              "      <td>81145628</td>\n",
              "      <td>Movie</td>\n",
              "      <td>Norm of the North: King Sized Adventure</td>\n",
              "      <td>Richard Finn, Tim Maltby</td>\n",
              "      <td>Alan Marriott, Andrew Toth, Brian Dobson, Cole...</td>\n",
              "      <td>United States, India, South Korea, China</td>\n",
              "      <td>September 9, 2019</td>\n",
              "      <td>2019</td>\n",
              "      <td>TV-PG</td>\n",
              "      <td>90 min</td>\n",
              "      <td>Children &amp; Family Movies, Comedies</td>\n",
              "      <td>Before planning an awesome wedding for his gra...</td>\n",
              "    </tr>\n",
              "    <tr>\n",
              "      <th>1</th>\n",
              "      <td>80117401</td>\n",
              "      <td>Movie</td>\n",
              "      <td>Jandino: Whatever it Takes</td>\n",
              "      <td>NaN</td>\n",
              "      <td>Jandino Asporaat</td>\n",
              "      <td>United Kingdom</td>\n",
              "      <td>September 9, 2016</td>\n",
              "      <td>2016</td>\n",
              "      <td>TV-MA</td>\n",
              "      <td>94 min</td>\n",
              "      <td>Stand-Up Comedy</td>\n",
              "      <td>Jandino Asporaat riffs on the challenges of ra...</td>\n",
              "    </tr>\n",
              "    <tr>\n",
              "      <th>2</th>\n",
              "      <td>70234439</td>\n",
              "      <td>TV Show</td>\n",
              "      <td>Transformers Prime</td>\n",
              "      <td>NaN</td>\n",
              "      <td>Peter Cullen, Sumalee Montano, Frank Welker, J...</td>\n",
              "      <td>United States</td>\n",
              "      <td>September 8, 2018</td>\n",
              "      <td>2013</td>\n",
              "      <td>TV-Y7-FV</td>\n",
              "      <td>1 Season</td>\n",
              "      <td>Kids' TV</td>\n",
              "      <td>With the help of three human allies, the Autob...</td>\n",
              "    </tr>\n",
              "    <tr>\n",
              "      <th>3</th>\n",
              "      <td>80058654</td>\n",
              "      <td>TV Show</td>\n",
              "      <td>Transformers: Robots in Disguise</td>\n",
              "      <td>NaN</td>\n",
              "      <td>Will Friedle, Darren Criss, Constance Zimmer, ...</td>\n",
              "      <td>United States</td>\n",
              "      <td>September 8, 2018</td>\n",
              "      <td>2016</td>\n",
              "      <td>TV-Y7</td>\n",
              "      <td>1 Season</td>\n",
              "      <td>Kids' TV</td>\n",
              "      <td>When a prison ship crash unleashes hundreds of...</td>\n",
              "    </tr>\n",
              "    <tr>\n",
              "      <th>4</th>\n",
              "      <td>80125979</td>\n",
              "      <td>Movie</td>\n",
              "      <td>#realityhigh</td>\n",
              "      <td>Fernando Lebrija</td>\n",
              "      <td>Nesta Cooper, Kate Walsh, John Michael Higgins...</td>\n",
              "      <td>United States</td>\n",
              "      <td>September 8, 2017</td>\n",
              "      <td>2017</td>\n",
              "      <td>TV-14</td>\n",
              "      <td>99 min</td>\n",
              "      <td>Comedies</td>\n",
              "      <td>When nerdy high schooler Dani finally attracts...</td>\n",
              "    </tr>\n",
              "  </tbody>\n",
              "</table>\n",
              "</div>"
            ],
            "text/plain": [
              "    show_id  ...                                        description\n",
              "0  81145628  ...  Before planning an awesome wedding for his gra...\n",
              "1  80117401  ...  Jandino Asporaat riffs on the challenges of ra...\n",
              "2  70234439  ...  With the help of three human allies, the Autob...\n",
              "3  80058654  ...  When a prison ship crash unleashes hundreds of...\n",
              "4  80125979  ...  When nerdy high schooler Dani finally attracts...\n",
              "\n",
              "[5 rows x 12 columns]"
            ]
          },
          "metadata": {
            "tags": []
          },
          "execution_count": 5
        }
      ]
    },
    {
      "cell_type": "code",
      "metadata": {
        "colab": {
          "base_uri": "https://localhost:8080/"
        },
        "id": "oUofVnbafQGC",
        "outputId": "8d503160-5419-4f7e-ef0c-30c47e2bac97"
      },
      "source": [
        "netflix_df['title']"
      ],
      "execution_count": null,
      "outputs": [
        {
          "output_type": "execute_result",
          "data": {
            "text/plain": [
              "0           Norm of the North: King Sized Adventure\n",
              "1                        Jandino: Whatever it Takes\n",
              "2                                Transformers Prime\n",
              "3                  Transformers: Robots in Disguise\n",
              "4                                      #realityhigh\n",
              "                           ...                     \n",
              "6229                                   Red vs. Blue\n",
              "6230                                          Maron\n",
              "6231         Little Baby Bum: Nursery Rhyme Friends\n",
              "6232    A Young Doctor's Notebook and Other Stories\n",
              "6233                                        Friends\n",
              "Name: title, Length: 6234, dtype: object"
            ]
          },
          "metadata": {
            "tags": []
          },
          "execution_count": 6
        }
      ]
    },
    {
      "cell_type": "code",
      "metadata": {
        "colab": {
          "base_uri": "https://localhost:8080/"
        },
        "id": "A589z_jqwXtp",
        "outputId": "64155c8e-21bc-4ade-b7ca-6d786a9a8e6c"
      },
      "source": [
        "netflix_df.info()"
      ],
      "execution_count": null,
      "outputs": [
        {
          "output_type": "stream",
          "text": [
            "<class 'pandas.core.frame.DataFrame'>\n",
            "RangeIndex: 6234 entries, 0 to 6233\n",
            "Data columns (total 12 columns):\n",
            " #   Column        Non-Null Count  Dtype \n",
            "---  ------        --------------  ----- \n",
            " 0   show_id       6234 non-null   int64 \n",
            " 1   type          6234 non-null   object\n",
            " 2   title         6234 non-null   object\n",
            " 3   director      4265 non-null   object\n",
            " 4   cast          5664 non-null   object\n",
            " 5   country       5758 non-null   object\n",
            " 6   date_added    6223 non-null   object\n",
            " 7   release_year  6234 non-null   int64 \n",
            " 8   rating        6224 non-null   object\n",
            " 9   duration      6234 non-null   object\n",
            " 10  listed_in     6234 non-null   object\n",
            " 11  description   6234 non-null   object\n",
            "dtypes: int64(2), object(10)\n",
            "memory usage: 584.6+ KB\n"
          ],
          "name": "stdout"
        }
      ]
    },
    {
      "cell_type": "code",
      "metadata": {
        "colab": {
          "base_uri": "https://localhost:8080/"
        },
        "id": "qYSO6XH0v-9y",
        "outputId": "9cf176b2-8a89-468d-fcb6-1152d766fd21"
      },
      "source": [
        "netflix_df.isna().sum()/netflix_df.count()*100"
      ],
      "execution_count": null,
      "outputs": [
        {
          "output_type": "execute_result",
          "data": {
            "text/plain": [
              "show_id          0.000000\n",
              "type             0.000000\n",
              "title            0.000000\n",
              "director        46.166471\n",
              "cast            10.063559\n",
              "country          8.266759\n",
              "date_added       0.176764\n",
              "release_year     0.000000\n",
              "rating           0.160668\n",
              "duration         0.000000\n",
              "listed_in        0.000000\n",
              "description      0.000000\n",
              "dtype: float64"
            ]
          },
          "metadata": {
            "tags": []
          },
          "execution_count": 8
        }
      ]
    },
    {
      "cell_type": "markdown",
      "metadata": {
        "id": "R7FhP41j2jW9"
      },
      "source": [
        "There are 12 columns to work with in this dataset. The director column is 46% empty and poses the greatest limitation in terms of NaN values. Cast and country are 10% and 8% NaN, respectively. However, for our purposes, this may not be significant."
      ]
    },
    {
      "cell_type": "markdown",
      "metadata": {
        "id": "xZ9ioQDbwd4F"
      },
      "source": [
        "#EDA/Data Cleaning/Feature Engineering\n",
        "\n"
      ]
    },
    {
      "cell_type": "markdown",
      "metadata": {
        "id": "gTgunL4K2nTz"
      },
      "source": [
        "Distribution of type\n",
        "\n",
        "The data is about 2/3 movies and 1/3 TV shows. "
      ]
    },
    {
      "cell_type": "code",
      "metadata": {
        "colab": {
          "base_uri": "https://localhost:8080/",
          "height": 677
        },
        "id": "fhkcfxYCWpNK",
        "outputId": "fecc1bb0-8a27-4f48-e3e0-878ea8b6c6d3"
      },
      "source": [
        "figure = plt.figure(figsize=(10,10))\n",
        "sns.countplot(netflix_df['type'])"
      ],
      "execution_count": null,
      "outputs": [
        {
          "output_type": "stream",
          "text": [
            "/usr/local/lib/python3.6/dist-packages/seaborn/_decorators.py:43: FutureWarning: Pass the following variable as a keyword arg: x. From version 0.12, the only valid positional argument will be `data`, and passing other arguments without an explicit keyword will result in an error or misinterpretation.\n",
            "  FutureWarning\n"
          ],
          "name": "stderr"
        },
        {
          "output_type": "execute_result",
          "data": {
            "text/plain": [
              "<matplotlib.axes._subplots.AxesSubplot at 0x7f664fa48860>"
            ]
          },
          "metadata": {
            "tags": []
          },
          "execution_count": 9
        },
        {
          "output_type": "display_data",
          "data": {
            "image/png": "[encoded data removed]",
            "text/plain": [
              "<Figure size 720x720 with 1 Axes>"
            ]
          },
          "metadata": {
            "tags": []
          }
        }
      ]
    },
    {
      "cell_type": "markdown",
      "metadata": {
        "id": "yBudb5ZN5zGb"
      },
      "source": [
        "Distribution of rating.\n",
        "\n",
        "The largest group of ratings is TV-MA. An interesting point to note is that only 1017 'Movies' are rated with the movie style rating system: G, PG, PG-13, R, and NC-17. This means the remaining 'Movies' must be rated with the TV rating system."
      ]
    },
    {
      "cell_type": "code",
      "metadata": {
        "colab": {
          "base_uri": "https://localhost:8080/",
          "height": 667
        },
        "id": "fTfoVbF5WpR0",
        "outputId": "73228e3e-5a0e-4881-b7b1-d00cd97d2fc0"
      },
      "source": [
        "figure = plt.figure(figsize=(10,10))\n",
        "sns.countplot(x = netflix_df['rating'].dropna(), order=netflix_df['rating'].dropna().value_counts().index)\n",
        "plt.xticks(rotation=45)"
      ],
      "execution_count": null,
      "outputs": [
        {
          "output_type": "execute_result",
          "data": {
            "text/plain": [
              "(array([ 0,  1,  2,  3,  4,  5,  6,  7,  8,  9, 10, 11, 12, 13]),\n",
              " <a list of 14 Text major ticklabel objects>)"
            ]
          },
          "metadata": {
            "tags": []
          },
          "execution_count": 10
        },
        {
          "output_type": "display_data",
          "data": {
            "image/png": "[encoded data removed]",
            "text/plain": [
              "<Figure size 720x720 with 1 Axes>"
            ]
          },
          "metadata": {
            "tags": []
          }
        }
      ]
    },
    {
      "cell_type": "code",
      "metadata": {
        "colab": {
          "base_uri": "https://localhost:8080/"
        },
        "id": "coLVtVeR7rwF",
        "outputId": "a2063ea8-3828-4915-e42b-7138296dbc6c"
      },
      "source": [
        "netflix_df['rating'].dropna().unique()"
      ],
      "execution_count": null,
      "outputs": [
        {
          "output_type": "execute_result",
          "data": {
            "text/plain": [
              "array(['TV-PG', 'TV-MA', 'TV-Y7-FV', 'TV-Y7', 'TV-14', 'R', 'TV-Y', 'NR',\n",
              "       'PG-13', 'TV-G', 'PG', 'G', 'UR', 'NC-17'], dtype=object)"
            ]
          },
          "metadata": {
            "tags": []
          },
          "execution_count": 11
        }
      ]
    },
    {
      "cell_type": "code",
      "metadata": {
        "colab": {
          "base_uri": "https://localhost:8080/"
        },
        "id": "kDZQ9OxV7sxf",
        "outputId": "e2850077-5f2d-4521-bedc-e6298782c328"
      },
      "source": [
        "len(netflix_df[netflix_df['rating'].isin(['NC-17','R', 'PG-13', 'PG', 'G'])])"
      ],
      "execution_count": null,
      "outputs": [
        {
          "output_type": "execute_result",
          "data": {
            "text/plain": [
              "1017"
            ]
          },
          "metadata": {
            "tags": []
          },
          "execution_count": 12
        }
      ]
    },
    {
      "cell_type": "markdown",
      "metadata": {
        "id": "ooSjB7LveseV"
      },
      "source": [
        "#Recommender 1 - netflix_df\n",
        "\n",
        "### Content Based Filtering \n",
        "\n",
        "In this recommender system I use cast, director, listen_in(genre), description, and rating. More of the columns could be used with some minor changes to the code. I join all these features into one string per movie title and then Rake() them to get the important words. I use count vectorization and cosine similarity on the Raked bag of words to get vectorized data. That data is then run through a funtion, recommend_movie(), which returns a list of 10 movies that most closely resemble the imput based on the characteristics used in the program. "
      ]
    },
    {
      "cell_type": "code",
      "metadata": {
        "id": "Gxy4lV_ZdziN"
      },
      "source": [
        "# Features: cast, director, listen_in(genre), description\n",
        "# Target: title\n",
        "df = netflix_df.copy()\n",
        "df['director'] = df['director'].fillna('')\n",
        "#df['director'] = df['director'].apply(lambda x: x.repalce(',', ' '))\n",
        "df['cast'] = df['cast'].fillna('')\n",
        "#df['cast'] = df['cast'].apply(lambda x: x.repalce(',', ' '))\n",
        "df['rating'] = df['rating'].fillna('')\n",
        "#df['rating'] = df['rating'].apply(lambda x: x.repalce('-', ''))\n",
        "#df['listed_in'] = df['listed_in'].apply(lambda x: x.repalce('-', ''))\n",
        "df = df.astype(str)\n",
        "\n",
        "#everything needs to be lowercase to avoid duplications\n",
        "\n",
        "df['director'] = df['director'].str.lower()\n",
        "df['cast'] = df['cast'].str.lower()\n",
        "df['rating'] = df['rating'].str.lower()\n",
        "df['type'] = df['type'].str.lower()\n",
        "df['listed_in'] = df['listed_in'].str.lower()\n",
        "\n",
        "#merge the names of cast members and directors into 1 terms. This will avoid situations where the wrong name is related in the algorithm.\n",
        "#i.e. if several actors share the same first or last name. \n",
        "\n",
        "df['cast'] = df['cast'].apply(lambda x: x.replace(' ',''))\n",
        "df['director'] = df['director'].apply(lambda x: x.replace(' ',''))\n",
        "\n",
        "df['new_col'] = df[['director', 'cast', 'listed_in', 'rating', 'description']].agg(' '.join, axis = 1)\n",
        "\n",
        "#------\n",
        "df['key_words'] = \"\"\n",
        "for index, row in df.iterrows():\n",
        "    plot = row['new_col']\n",
        "\n",
        "    # instantiating Rake, by default it uses english stopwords from NLTK\n",
        "    # and discards all puntuation characters as well\n",
        "    r = Rake()\n",
        "\n",
        "    # extracting the words by passing the text\n",
        "    r.extract_keywords_from_text(plot)\n",
        "\n",
        "    # getting the dictionary whith key words as keys and their scores as values\n",
        "    key_words_dict_scores = r.get_word_degrees()\n",
        "\n",
        "    # assigning the key words to the new column for the corresponding movie\n",
        "    row['key_words'] = list(key_words_dict_scores.keys())\n",
        "\n",
        "    # casting 'kew_words' to string\n",
        "    s = row['key_words']\n",
        "    listtojoin = ' '.join([str(elem) for elem in s])\n",
        "    row['key_words'] = listtojoin\n",
        "\n",
        "#df['bag_of_words'] = df[['type', 'cast', 'director', 'listed_in', 'key_words']].agg(''.join, axis=1)\n",
        "netflix_bag_df = df[['title', 'key_words']]\n",
        "#test_df.head()\n",
        "\n",
        "\n",
        "#------\n",
        "# instantiating and generating the count matrix\n",
        "count = CountVectorizer()\n",
        "netflix_count_matrix = count.fit_transform(netflix_bag_df['key_words'])\n",
        "\n",
        "# generating the cosine similarity matrix\n",
        "# To compute similarity between the user and item, we simply take the cosine similarity between the user vector and the item vector. \n",
        "# This gives us user-item similarity. This is useful in this case because the feature vectors are so close to the target vector.\n",
        "netflix_cosine_sim = cosine_similarity(netflix_count_matrix, netflix_count_matrix)\n",
        "\n",
        "\n",
        "#------\n",
        "# creating a Series for the movie titles so they are associated to an ordered numerical\n",
        "# list I will use in the function to match the indexes\n",
        "indices = pd.Series(netflix_bag_df['title'])\n",
        "#  defining the function that takes in movie title \n",
        "# as input and returns the top 10 recommended movies\n",
        "def netflix_count_recommend_movie(name):\n",
        "    # initializing the empty list of recommended movies\n",
        "    movie=[]\n",
        "     # gettin the index of the movie that matches the title\n",
        "    idx = indices[indices == name].index[0]\n",
        "    # creating a Series with the similarity scores in descending order\n",
        "    sort_index = pd.Series(netflix_cosine_sim[idx]).sort_values(ascending = False)\n",
        "    # getting the indexes of the 10 most similar movies\n",
        "    top_10 = sort_index.iloc[1:11]\n",
        "    # populating the list with the titles of the best 10 matching movies\n",
        "    for i in top_10.index:\n",
        "        movie.append(indices[i])\n",
        "    return movie\n",
        "\n",
        "\n",
        "#-------\n",
        "\n",
        "tf_idf_df = df[['title', 'key_words']]\n",
        "\n",
        "\n",
        "vectorizer = TfidfVectorizer()\n",
        "netflix_vectors = vectorizer.fit_transform(tf_idf_df['key_words'])\n",
        "\n",
        "netflix_tfidf_sim = cosine_similarity(netflix_vectors, netflix_vectors)\n",
        "#feature_names = vectorizer.get_feature_names\n",
        "#dense = vectors.todense()\n",
        "#denselist = dense.tolist()\n",
        "#tf_df = pd.DataFrame(denselist, columns=feature_names)\n",
        "#tf_df\n",
        "indices = pd.Series(tf_idf_df['title'])\n",
        "#  defining the function that takes in movie title \n",
        "# as input and returns the top 10 recommended movies\n",
        "def netflix_tfidf_recommend_movie(name):\n",
        "    # initializing the empty list of recommended movies\n",
        "    movie=[]\n",
        "     # gettin the index of the movie that matches the title\n",
        "    idx = indices[indices == name].index[0]\n",
        "    # creating a Series with the similarity scores in descending order\n",
        "    sort_index = pd.Series(netflix_tfidf_sim[idx]).sort_values(ascending = False)\n",
        "    # getting the indexes of the 10 most similar movies\n",
        "    top_10 = sort_index.iloc[1:11]\n",
        "    # populating the list with the titles of the best 10 matching movies\n",
        "    for i in top_10.index:\n",
        "        movie.append(indices[i])\n",
        "    return movie"
      ],
      "execution_count": null,
      "outputs": []
    },
    {
      "cell_type": "code",
      "metadata": {
        "colab": {
          "base_uri": "https://localhost:8080/",
          "height": 204
        },
        "id": "Py1LKUIt3xTk",
        "outputId": "498b6ae8-31b4-4b0e-e3f4-fba8a75164d2"
      },
      "source": [
        "netflix_bag_df.head()"
      ],
      "execution_count": null,
      "outputs": [
        {
          "output_type": "execute_result",
          "data": {
            "text/html": [
              "<div>\n",
              "<style scoped>\n",
              "    .dataframe tbody tr th:only-of-type {\n",
              "        vertical-align: middle;\n",
              "    }\n",
              "\n",
              "    .dataframe tbody tr th {\n",
              "        vertical-align: top;\n",
              "    }\n",
              "\n",
              "    .dataframe thead th {\n",
              "        text-align: right;\n",
              "    }\n",
              "</style>\n",
              "<table border=\"1\" class=\"dataframe\">\n",
              "  <thead>\n",
              "    <tr style=\"text-align: right;\">\n",
              "      <th></th>\n",
              "      <th>title</th>\n",
              "      <th>key_words</th>\n",
              "    </tr>\n",
              "  </thead>\n",
              "  <tbody>\n",
              "    <tr>\n",
              "      <th>0</th>\n",
              "      <td>Norm of the North: King Sized Adventure</td>\n",
              "      <td>colehoward michaeldobson children grandfather ...</td>\n",
              "    </tr>\n",
              "    <tr>\n",
              "      <th>1</th>\n",
              "      <td>Jandino: Whatever it Takes</td>\n",
              "      <td>challenges audience sex fire jandinoasporaat s...</td>\n",
              "    </tr>\n",
              "    <tr>\n",
              "      <th>2</th>\n",
              "      <td>Transformers Prime</td>\n",
              "      <td>decepticons kevinmichaelrichardson y7 autobots...</td>\n",
              "    </tr>\n",
              "    <tr>\n",
              "      <th>3</th>\n",
              "      <td>Transformers: Robots in Disguise</td>\n",
              "      <td>decepticons stuartallan petercullen kids khary...</td>\n",
              "    </tr>\n",
              "    <tr>\n",
              "      <th>4</th>\n",
              "      <td>#realityhigh</td>\n",
              "      <td>longtime crush lands patrickdavis comedies tv ...</td>\n",
              "    </tr>\n",
              "  </tbody>\n",
              "</table>\n",
              "</div>"
            ],
            "text/plain": [
              "                                     title                                          key_words\n",
              "0  Norm of the North: King Sized Adventure  colehoward michaeldobson children grandfather ...\n",
              "1               Jandino: Whatever it Takes  challenges audience sex fire jandinoasporaat s...\n",
              "2                       Transformers Prime  decepticons kevinmichaelrichardson y7 autobots...\n",
              "3         Transformers: Robots in Disguise  decepticons stuartallan petercullen kids khary...\n",
              "4                             #realityhigh  longtime crush lands patrickdavis comedies tv ..."
            ]
          },
          "metadata": {
            "tags": []
          },
          "execution_count": 9
        }
      ]
    },
    {
      "cell_type": "code",
      "metadata": {
        "colab": {
          "base_uri": "https://localhost:8080/"
        },
        "id": "tRK-e8Nt4Nbr",
        "outputId": "50b0ab65-e283-4098-d4f5-71a2c5c7dd5b"
      },
      "source": [
        "netflix_cosine_sim"
      ],
      "execution_count": null,
      "outputs": [
        {
          "output_type": "execute_result",
          "data": {
            "text/plain": [
              "array([[1.        , 0.04222003, 0.03350126, ..., 0.08989331, 0.06700252,\n",
              "        0.06700252],\n",
              "       [0.04222003, 1.        , 0.09335201, ..., 0.        , 0.046676  ,\n",
              "        0.046676  ],\n",
              "       [0.03350126, 0.09335201, 1.        , ..., 0.        , 0.03703704,\n",
              "        0.03703704],\n",
              "       ...,\n",
              "       [0.08989331, 0.        , 0.        , ..., 1.        , 0.        ,\n",
              "        0.        ],\n",
              "       [0.06700252, 0.046676  , 0.03703704, ..., 0.        , 1.        ,\n",
              "        0.07407407],\n",
              "       [0.06700252, 0.046676  , 0.03703704, ..., 0.        , 0.07407407,\n",
              "        1.        ]])"
            ]
          },
          "metadata": {
            "tags": []
          },
          "execution_count": 10
        }
      ]
    },
    {
      "cell_type": "code",
      "metadata": {
        "colab": {
          "base_uri": "https://localhost:8080/"
        },
        "id": "gPbIHAkMdzlf",
        "outputId": "2f95caac-5f08-4184-f0f7-b6b3343defa2"
      },
      "source": [
        "netflix_count_recommend_movie('Transformers Prime')"
      ],
      "execution_count": null,
      "outputs": [
        {
          "output_type": "execute_result",
          "data": {
            "text/plain": [
              "['Transformers: Robots in Disguise',\n",
              " 'All Hail King Julien: Exiled',\n",
              " 'Miniforce X',\n",
              " 'Kipo and the Age of Wonderbeasts',\n",
              " 'Kulipari: Dream Walker',\n",
              " 'We Bare Bears',\n",
              " 'Kulipari: An Army of Frogs',\n",
              " 'Tobot',\n",
              " 'Motu Patlu: King of Kings',\n",
              " 'Power Rangers Ninja Steel']"
            ]
          },
          "metadata": {
            "tags": []
          },
          "execution_count": 6
        }
      ]
    },
    {
      "cell_type": "code",
      "metadata": {
        "colab": {
          "base_uri": "https://localhost:8080/"
        },
        "id": "lKSnPxAEYBBa",
        "outputId": "227751f4-6457-420e-ed0d-270ed9f3e097"
      },
      "source": [
        "netflix_tfidf_recommend_movie('Transformers Prime')"
      ],
      "execution_count": null,
      "outputs": [
        {
          "output_type": "execute_result",
          "data": {
            "text/plain": [
              "['Transformers: Robots in Disguise',\n",
              " 'All Hail King Julien: Exiled',\n",
              " 'Kulipari: Dream Walker',\n",
              " 'Kulipari: An Army of Frogs',\n",
              " 'Kipo and the Age of Wonderbeasts',\n",
              " 'Miniforce X',\n",
              " '3Below: Tales of Arcadia',\n",
              " 'Voltron: Legendary Defender',\n",
              " 'LEGO: Marvel Super Heroes: Maximum Overload',\n",
              " 'Transformers: Rescue Bots']"
            ]
          },
          "metadata": {
            "tags": []
          },
          "execution_count": 29
        }
      ]
    },
    {
      "cell_type": "markdown",
      "metadata": {
        "id": "gSCfXUZdNQaj"
      },
      "source": [
        "### K-Means\n",
        "\n",
        "K-Means does not perform well with this model. However, this should not be too concerning as the vectorized data ultimately produces tons of sparse data and it would be difficult for this model to effectively cluster them. "
      ]
    },
    {
      "cell_type": "code",
      "metadata": {
        "colab": {
          "base_uri": "https://localhost:8080/"
        },
        "id": "7MYHQAr8K9du",
        "outputId": "82f35252-452a-42bb-ec7a-3ae5c762d981"
      },
      "source": [
        "#Euclidean, 3 \n",
        "y = netflix_bag_df['title']\n",
        "X = netflix_cosine_sim\n",
        "\n",
        "labels = KMeans(n_clusters=3, random_state=123).fit_predict(X)\n",
        "print(metrics.silhouette_score(X, labels, metric='euclidean'))"
      ],
      "execution_count": null,
      "outputs": [
        {
          "output_type": "stream",
          "text": [
            "0.20037846896640196\n"
          ],
          "name": "stdout"
        }
      ]
    },
    {
      "cell_type": "code",
      "metadata": {
        "colab": {
          "base_uri": "https://localhost:8080/"
        },
        "id": "6VaZn2UNNPSV",
        "outputId": "13a6790d-53fa-410e-dda6-1402c3383e04"
      },
      "source": [
        "y = netflix_bag_df['title']\n",
        "X = netflix_tfidf_sim\n",
        "\n",
        "labels = KMeans(n_clusters=3, random_state=123).fit_predict(X)\n",
        "print(metrics.silhouette_score(X, labels, metric='euclidean'))"
      ],
      "execution_count": null,
      "outputs": [
        {
          "output_type": "stream",
          "text": [
            "0.023899239580718965\n"
          ],
          "name": "stdout"
        }
      ]
    },
    {
      "cell_type": "code",
      "metadata": {
        "colab": {
          "base_uri": "https://localhost:8080/"
        },
        "id": "vpl7FponPzB0",
        "outputId": "ff72f182-0e89-41ac-8349-8d19d8d1b5fa"
      },
      "source": [
        "#Euclidean,5 \n",
        "y = netflix_bag_df['title']\n",
        "X = netflix_cosine_sim\n",
        "\n",
        "labels = KMeans(n_clusters=5, random_state=123).fit_predict(X)\n",
        "print(metrics.silhouette_score(X, labels, metric='euclidean'))"
      ],
      "execution_count": null,
      "outputs": [
        {
          "output_type": "stream",
          "text": [
            "0.18104583182655443\n"
          ],
          "name": "stdout"
        }
      ]
    },
    {
      "cell_type": "code",
      "metadata": {
        "colab": {
          "base_uri": "https://localhost:8080/"
        },
        "id": "R1FwQVcZPzGA",
        "outputId": "21ee66f8-d8e7-4b0d-8ed9-80cde4755d06"
      },
      "source": [
        "y = netflix_bag_df['title']\n",
        "X = netflix_tfidf_sim\n",
        "\n",
        "labels = KMeans(n_clusters=5, random_state=123).fit_predict(X)\n",
        "print(metrics.silhouette_score(X, labels, metric='euclidean'))"
      ],
      "execution_count": null,
      "outputs": [
        {
          "output_type": "stream",
          "text": [
            "0.026558556012244296\n"
          ],
          "name": "stdout"
        }
      ]
    },
    {
      "cell_type": "code",
      "metadata": {
        "colab": {
          "base_uri": "https://localhost:8080/"
        },
        "id": "4ge55-K2Njxf",
        "outputId": "2a5932de-aa38-468f-cfb4-94dd07bb9c63"
      },
      "source": [
        "#Cosine, 3\n",
        "y = netflix_bag_df['title']\n",
        "X = netflix_cosine_sim\n",
        "\n",
        "labels = KMeans(n_clusters=3, random_state=123).fit_predict(X)\n",
        "print(metrics.silhouette_score(X, labels, metric='cosine'))"
      ],
      "execution_count": null,
      "outputs": [
        {
          "output_type": "stream",
          "text": [
            "0.07908668955724525\n"
          ],
          "name": "stdout"
        }
      ]
    },
    {
      "cell_type": "code",
      "metadata": {
        "colab": {
          "base_uri": "https://localhost:8080/"
        },
        "id": "0LypL1iiNofx",
        "outputId": "c4b8d498-e6ba-4d3b-806c-4b14beb8b15c"
      },
      "source": [
        "y = netflix_bag_df['title']\n",
        "X = netflix_tfidf_sim\n",
        "\n",
        "labels = KMeans(n_clusters=3, random_state=123).fit_predict(X)\n",
        "print(metrics.silhouette_score(X, labels, metric='cosine'))"
      ],
      "execution_count": null,
      "outputs": [
        {
          "output_type": "stream",
          "text": [
            "0.03821377141953984\n"
          ],
          "name": "stdout"
        }
      ]
    },
    {
      "cell_type": "code",
      "metadata": {
        "colab": {
          "base_uri": "https://localhost:8080/"
        },
        "id": "2obWHUs-QONV",
        "outputId": "3403d6b7-d616-44d5-f606-4645f8e886a9"
      },
      "source": [
        "#Cosine, 5\n",
        "y = netflix_bag_df['title']\n",
        "X = netflix_cosine_sim\n",
        "\n",
        "labels = KMeans(n_clusters=5, random_state=123).fit_predict(X)\n",
        "print(metrics.silhouette_score(X, labels, metric='cosine'))"
      ],
      "execution_count": null,
      "outputs": [
        {
          "output_type": "stream",
          "text": [
            "0.09380629221143819\n"
          ],
          "name": "stdout"
        }
      ]
    },
    {
      "cell_type": "code",
      "metadata": {
        "colab": {
          "base_uri": "https://localhost:8080/"
        },
        "id": "Ky_pJaq7QOT4",
        "outputId": "75848fde-0b0b-4fb7-e92e-3a5f4319a9a7"
      },
      "source": [
        "y = netflix_bag_df['title']\n",
        "X = netflix_tfidf_sim\n",
        "\n",
        "labels = KMeans(n_clusters=5, random_state=123).fit_predict(X)\n",
        "print(metrics.silhouette_score(X, labels, metric='cosine'))"
      ],
      "execution_count": null,
      "outputs": [
        {
          "output_type": "stream",
          "text": [
            "0.039471418440300395\n"
          ],
          "name": "stdout"
        }
      ]
    },
    {
      "cell_type": "markdown",
      "metadata": {
        "id": "2AEEiTB8b7U_"
      },
      "source": [
        "###Hierarchical Clustering"
      ]
    },
    {
      "cell_type": "code",
      "metadata": {
        "colab": {
          "base_uri": "https://localhost:8080/"
        },
        "id": "2tFf56xNb_jU",
        "outputId": "e5e5fbcb-eff3-4039-ef85-5ab5db29ad5e"
      },
      "source": [
        "#Complete - Cosine - 3\n",
        "y = netflix_bag_df['title']\n",
        "X = netflix_cosine_sim\n",
        "\n",
        "agg_cluster = AgglomerativeClustering(linkage='complete', \n",
        "                                      affinity='cosine',\n",
        "                                      n_clusters=3)\n",
        "\n",
        "clusters = agg_cluster.fit_predict(X)\n",
        "\n",
        "print(metrics.silhouette_score(X, clusters, metric='euclidean'))"
      ],
      "execution_count": null,
      "outputs": [
        {
          "output_type": "stream",
          "text": [
            "0.17494884264607038\n"
          ],
          "name": "stdout"
        }
      ]
    },
    {
      "cell_type": "code",
      "metadata": {
        "colab": {
          "base_uri": "https://localhost:8080/"
        },
        "id": "r2Q9Q_KEb_mr",
        "outputId": "80dea4b3-7594-4dab-df31-350c7de61b00"
      },
      "source": [
        "#Complete - Euclidean - 3\n",
        "y = netflix_bag_df['title']\n",
        "X = netflix_cosine_sim\n",
        "\n",
        "agg_cluster = AgglomerativeClustering(linkage='complete', \n",
        "                                      affinity='euclidean',\n",
        "                                      n_clusters=3)\n",
        "\n",
        "clusters = agg_cluster.fit_predict(X)\n",
        "\n",
        "print(metrics.silhouette_score(X, clusters, metric='euclidean'))"
      ],
      "execution_count": null,
      "outputs": [
        {
          "output_type": "stream",
          "text": [
            "0.15506021168604642\n"
          ],
          "name": "stdout"
        }
      ]
    },
    {
      "cell_type": "code",
      "metadata": {
        "colab": {
          "base_uri": "https://localhost:8080/"
        },
        "id": "YyOOSYtEb_pQ",
        "outputId": "f239262d-aff3-4b39-fddc-40749c23241f"
      },
      "source": [
        "#Complete - Manhattan - 3\n",
        "y = netflix_bag_df['title']\n",
        "X = netflix_cosine_sim\n",
        "\n",
        "agg_cluster = AgglomerativeClustering(linkage='complete', \n",
        "                                      affinity='manhattan',\n",
        "                                      n_clusters=3)\n",
        "\n",
        "clusters = agg_cluster.fit_predict(X)\n",
        "\n",
        "print(metrics.silhouette_score(X, clusters, metric='euclidean'))"
      ],
      "execution_count": null,
      "outputs": [
        {
          "output_type": "stream",
          "text": [
            "0.11119736378169953\n"
          ],
          "name": "stdout"
        }
      ]
    },
    {
      "cell_type": "code",
      "metadata": {
        "colab": {
          "base_uri": "https://localhost:8080/"
        },
        "id": "1BwClwgWdzGH",
        "outputId": "94626a1a-2030-426f-cd31-cdd0515089cf"
      },
      "source": [
        "#Ward - Euclidean - 3\n",
        "y = netflix_bag_df['title']\n",
        "X = netflix_cosine_sim\n",
        "\n",
        "agg_cluster = AgglomerativeClustering(linkage='ward', \n",
        "                                      affinity='euclidean',\n",
        "                                      n_clusters=3)\n",
        "\n",
        "clusters = agg_cluster.fit_predict(X)\n",
        "\n",
        "print(metrics.silhouette_score(X, clusters, metric='euclidean'))"
      ],
      "execution_count": null,
      "outputs": [
        {
          "output_type": "stream",
          "text": [
            "0.17244136716783112\n"
          ],
          "name": "stdout"
        }
      ]
    },
    {
      "cell_type": "code",
      "metadata": {
        "colab": {
          "base_uri": "https://localhost:8080/"
        },
        "id": "K-OrHkgFeHF8",
        "outputId": "1c6846f3-68db-4887-a38e-d74c8a09d874"
      },
      "source": [
        "#Average - Cosine - 3\n",
        "y = netflix_bag_df['title']\n",
        "X = netflix_cosine_sim\n",
        "\n",
        "agg_cluster = AgglomerativeClustering(linkage='average', \n",
        "                                      affinity='cosine',\n",
        "                                      n_clusters=3)\n",
        "\n",
        "clusters = agg_cluster.fit_predict(X)\n",
        "\n",
        "print(metrics.silhouette_score(X, clusters, metric='euclidean'))"
      ],
      "execution_count": null,
      "outputs": [
        {
          "output_type": "stream",
          "text": [
            "0.17580392000829234\n"
          ],
          "name": "stdout"
        }
      ]
    },
    {
      "cell_type": "code",
      "metadata": {
        "id": "RzKzW-OAeHJb",
        "colab": {
          "base_uri": "https://localhost:8080/"
        },
        "outputId": "d0af0b6b-3369-4516-9321-b660b4abc5d5"
      },
      "source": [
        "#Average - Euclidean - 3\n",
        "y = netflix_bag_df['title']\n",
        "X = netflix_cosine_sim\n",
        "\n",
        "agg_cluster = AgglomerativeClustering(linkage='average', \n",
        "                                      affinity='euclidean',\n",
        "                                      n_clusters=3)\n",
        "\n",
        "clusters = agg_cluster.fit_predict(X)\n",
        "\n",
        "print(metrics.silhouette_score(X, clusters, metric='euclidean'))"
      ],
      "execution_count": null,
      "outputs": [
        {
          "output_type": "stream",
          "text": [
            "0.15561903270015973\n"
          ],
          "name": "stdout"
        }
      ]
    },
    {
      "cell_type": "code",
      "metadata": {
        "id": "glsP7EbYeHNR"
      },
      "source": [
        "#Average - Manhattan - 3\n",
        "y = netflix_bag_df['title']\n",
        "X = netflix_cosine_sim\n",
        "\n",
        "agg_cluster = AgglomerativeClustering(linkage='average', \n",
        "                                      affinity='manhattan',\n",
        "                                      n_clusters=3)\n",
        "\n",
        "clusters = agg_cluster.fit_predict(X)\n",
        "\n",
        "print(metrics.silhouette_score(X, clusters, metric='euclidean'))"
      ],
      "execution_count": null,
      "outputs": []
    },
    {
      "cell_type": "markdown",
      "metadata": {
        "id": "xgTYXybSfUwz"
      },
      "source": [
        "### Denrogram\n",
        "\n",
        "The dendrogram of the tf_idf data doese show some promise. There are a large number of groups which could be used as the base for a recommendation. However, the number of members in each group is highly varied."
      ]
    },
    {
      "cell_type": "code",
      "metadata": {
        "colab": {
          "base_uri": "https://localhost:8080/"
        },
        "id": "KZx1V8uffdzo",
        "outputId": "2544c5a4-0566-46e2-fbad-50593224460c"
      },
      "source": [
        "y = netflix_bag_df['title']\n",
        "X = netflix_cosine_sim\n",
        "plt.figure(figsize=(20,10))\n",
        "dendrogram(linkage(X, method='complete'))\n",
        "plt.show()"
      ],
      "execution_count": null,
      "outputs": [
        {
          "output_type": "display_data",
          "data": {
            "image/png": "[encoded data removed]",
            "text/plain": [
              "<Figure size 1440x720 with 1 Axes>"
            ]
          },
          "metadata": {
            "tags": []
          }
        }
      ]
    },
    {
      "cell_type": "code",
      "metadata": {
        "colab": {
          "base_uri": "https://localhost:8080/"
        },
        "id": "JnGC7MlLfd3m",
        "outputId": "388d681f-ac84-4cbc-da1a-32d6ea602696"
      },
      "source": [
        "y = netflix_bag_df['title']\n",
        "X = netflix_tfidf_sim\n",
        "plt.figure(figsize=(20,10))\n",
        "dendrogram(linkage(X, method='complete'))\n",
        "plt.show()\n",
        "\n",
        "#The dendrogram on the TF-IDF vectorized data seems to have outperformed the dendrogram on the count vectorized data as it gives us \n",
        "# a larger number of groups to pull from for a recommendation. "
      ],
      "execution_count": null,
      "outputs": [
        {
          "output_type": "display_data",
          "data": {
            "image/png": "[encoded data removed]",
            "text/plain": [
              "<Figure size 1440x720 with 1 Axes>"
            ]
          },
          "metadata": {
            "tags": []
          }
        }
      ]
    },
    {
      "cell_type": "markdown",
      "metadata": {
        "id": "MX1OWmZ7f8HB"
      },
      "source": [
        "### DBSCAN\n",
        "\n",
        "DBSCAN completely fails to function. It is unable to draw any distinction between the movie titles and groups them all into one group. "
      ]
    },
    {
      "cell_type": "code",
      "metadata": {
        "colab": {
          "base_uri": "https://localhost:8080/",
          "height": 341
        },
        "id": "RgLMpSxhfd6I",
        "outputId": "050fd1d0-a720-4875-ff70-9f7438a1bb87"
      },
      "source": [
        "y = netflix_bag_df['title']\n",
        "X = netflix_cosine_sim\n",
        "\n",
        "dbscan_cluster = DBSCAN(eps=1, min_samples=5)\n",
        "\n",
        "# Fit model\n",
        "clusters = dbscan_cluster.fit_predict(X)\n",
        "print(metrics.silhouette_score(X, clusters, metric='euclidean'))\n",
        "#This model is resulting in only 1 cluster. That is why I am geting this output."
      ],
      "execution_count": null,
      "outputs": [
        {
          "output_type": "error",
          "ename": "ValueError",
          "evalue": "ignored",
          "traceback": [
            "\u001b[0;31m---------------------------------------------------------------------------\u001b[0m",
            "\u001b[0;31mValueError\u001b[0m                                Traceback (most recent call last)",
            "\u001b[0;32m<ipython-input-17-a825013a31b2>\u001b[0m in \u001b[0;36m<module>\u001b[0;34m()\u001b[0m\n\u001b[1;32m      6\u001b[0m \u001b[0;31m# Fit model\u001b[0m\u001b[0;34m\u001b[0m\u001b[0;34m\u001b[0m\u001b[0;34m\u001b[0m\u001b[0m\n\u001b[1;32m      7\u001b[0m \u001b[0mclusters\u001b[0m \u001b[0;34m=\u001b[0m \u001b[0mdbscan_cluster\u001b[0m\u001b[0;34m.\u001b[0m\u001b[0mfit_predict\u001b[0m\u001b[0;34m(\u001b[0m\u001b[0mX\u001b[0m\u001b[0;34m)\u001b[0m\u001b[0;34m\u001b[0m\u001b[0;34m\u001b[0m\u001b[0m\n\u001b[0;32m----> 8\u001b[0;31m \u001b[0mprint\u001b[0m\u001b[0;34m(\u001b[0m\u001b[0mmetrics\u001b[0m\u001b[0;34m.\u001b[0m\u001b[0msilhouette_score\u001b[0m\u001b[0;34m(\u001b[0m\u001b[0mX\u001b[0m\u001b[0;34m,\u001b[0m \u001b[0mclusters\u001b[0m\u001b[0;34m,\u001b[0m \u001b[0mmetric\u001b[0m\u001b[0;34m=\u001b[0m\u001b[0;34m'euclidean'\u001b[0m\u001b[0;34m)\u001b[0m\u001b[0;34m)\u001b[0m\u001b[0;34m\u001b[0m\u001b[0;34m\u001b[0m\u001b[0m\n\u001b[0m",
            "\u001b[0;32m/usr/local/lib/python3.6/dist-packages/sklearn/metrics/cluster/_unsupervised.py\u001b[0m in \u001b[0;36msilhouette_score\u001b[0;34m(X, labels, metric, sample_size, random_state, **kwds)\u001b[0m\n\u001b[1;32m    115\u001b[0m         \u001b[0;32melse\u001b[0m\u001b[0;34m:\u001b[0m\u001b[0;34m\u001b[0m\u001b[0;34m\u001b[0m\u001b[0m\n\u001b[1;32m    116\u001b[0m             \u001b[0mX\u001b[0m\u001b[0;34m,\u001b[0m \u001b[0mlabels\u001b[0m \u001b[0;34m=\u001b[0m \u001b[0mX\u001b[0m\u001b[0;34m[\u001b[0m\u001b[0mindices\u001b[0m\u001b[0;34m]\u001b[0m\u001b[0;34m,\u001b[0m \u001b[0mlabels\u001b[0m\u001b[0;34m[\u001b[0m\u001b[0mindices\u001b[0m\u001b[0;34m]\u001b[0m\u001b[0;34m\u001b[0m\u001b[0;34m\u001b[0m\u001b[0m\n\u001b[0;32m--> 117\u001b[0;31m     \u001b[0;32mreturn\u001b[0m \u001b[0mnp\u001b[0m\u001b[0;34m.\u001b[0m\u001b[0mmean\u001b[0m\u001b[0;34m(\u001b[0m\u001b[0msilhouette_samples\u001b[0m\u001b[0;34m(\u001b[0m\u001b[0mX\u001b[0m\u001b[0;34m,\u001b[0m \u001b[0mlabels\u001b[0m\u001b[0;34m,\u001b[0m \u001b[0mmetric\u001b[0m\u001b[0;34m=\u001b[0m\u001b[0mmetric\u001b[0m\u001b[0;34m,\u001b[0m \u001b[0;34m**\u001b[0m\u001b[0mkwds\u001b[0m\u001b[0;34m)\u001b[0m\u001b[0;34m)\u001b[0m\u001b[0;34m\u001b[0m\u001b[0;34m\u001b[0m\u001b[0m\n\u001b[0m\u001b[1;32m    118\u001b[0m \u001b[0;34m\u001b[0m\u001b[0m\n\u001b[1;32m    119\u001b[0m \u001b[0;34m\u001b[0m\u001b[0m\n",
            "\u001b[0;32m/usr/local/lib/python3.6/dist-packages/sklearn/metrics/cluster/_unsupervised.py\u001b[0m in \u001b[0;36msilhouette_samples\u001b[0;34m(X, labels, metric, **kwds)\u001b[0m\n\u001b[1;32m    226\u001b[0m     \u001b[0mn_samples\u001b[0m \u001b[0;34m=\u001b[0m \u001b[0mlen\u001b[0m\u001b[0;34m(\u001b[0m\u001b[0mlabels\u001b[0m\u001b[0;34m)\u001b[0m\u001b[0;34m\u001b[0m\u001b[0;34m\u001b[0m\u001b[0m\n\u001b[1;32m    227\u001b[0m     \u001b[0mlabel_freqs\u001b[0m \u001b[0;34m=\u001b[0m \u001b[0mnp\u001b[0m\u001b[0;34m.\u001b[0m\u001b[0mbincount\u001b[0m\u001b[0;34m(\u001b[0m\u001b[0mlabels\u001b[0m\u001b[0;34m)\u001b[0m\u001b[0;34m\u001b[0m\u001b[0;34m\u001b[0m\u001b[0m\n\u001b[0;32m--> 228\u001b[0;31m     \u001b[0mcheck_number_of_labels\u001b[0m\u001b[0;34m(\u001b[0m\u001b[0mlen\u001b[0m\u001b[0;34m(\u001b[0m\u001b[0mle\u001b[0m\u001b[0;34m.\u001b[0m\u001b[0mclasses_\u001b[0m\u001b[0;34m)\u001b[0m\u001b[0;34m,\u001b[0m \u001b[0mn_samples\u001b[0m\u001b[0;34m)\u001b[0m\u001b[0;34m\u001b[0m\u001b[0;34m\u001b[0m\u001b[0m\n\u001b[0m\u001b[1;32m    229\u001b[0m \u001b[0;34m\u001b[0m\u001b[0m\n\u001b[1;32m    230\u001b[0m     \u001b[0mkwds\u001b[0m\u001b[0;34m[\u001b[0m\u001b[0;34m'metric'\u001b[0m\u001b[0;34m]\u001b[0m \u001b[0;34m=\u001b[0m \u001b[0mmetric\u001b[0m\u001b[0;34m\u001b[0m\u001b[0;34m\u001b[0m\u001b[0m\n",
            "\u001b[0;32m/usr/local/lib/python3.6/dist-packages/sklearn/metrics/cluster/_unsupervised.py\u001b[0m in \u001b[0;36mcheck_number_of_labels\u001b[0;34m(n_labels, n_samples)\u001b[0m\n\u001b[1;32m     33\u001b[0m     \u001b[0;32mif\u001b[0m \u001b[0;32mnot\u001b[0m \u001b[0;36m1\u001b[0m \u001b[0;34m<\u001b[0m \u001b[0mn_labels\u001b[0m \u001b[0;34m<\u001b[0m \u001b[0mn_samples\u001b[0m\u001b[0;34m:\u001b[0m\u001b[0;34m\u001b[0m\u001b[0;34m\u001b[0m\u001b[0m\n\u001b[1;32m     34\u001b[0m         raise ValueError(\"Number of labels is %d. Valid values are 2 \"\n\u001b[0;32m---> 35\u001b[0;31m                          \"to n_samples - 1 (inclusive)\" % n_labels)\n\u001b[0m\u001b[1;32m     36\u001b[0m \u001b[0;34m\u001b[0m\u001b[0m\n\u001b[1;32m     37\u001b[0m \u001b[0;34m\u001b[0m\u001b[0m\n",
            "\u001b[0;31mValueError\u001b[0m: Number of labels is 1. Valid values are 2 to n_samples - 1 (inclusive)"
          ]
        }
      ]
    },
    {
      "cell_type": "code",
      "metadata": {
        "colab": {
          "base_uri": "https://localhost:8080/",
          "height": 341
        },
        "id": "hEKhXTjVgOSk",
        "outputId": "e15b2db1-421b-47c7-c43b-0a5cf8cc5cdf"
      },
      "source": [
        "y = netflix_bag_df['title']\n",
        "X = netflix_tfidf_sim\n",
        "dbscan_cluster = DBSCAN(eps=1, min_samples=5)\n",
        "\n",
        "# Fit model\n",
        "clusters = dbscan_cluster.fit_predict(X)\n",
        "print(metrics.silhouette_score(X, clusters, metric='euclidean'))"
      ],
      "execution_count": null,
      "outputs": [
        {
          "output_type": "error",
          "ename": "ValueError",
          "evalue": "ignored",
          "traceback": [
            "\u001b[0;31m---------------------------------------------------------------------------\u001b[0m",
            "\u001b[0;31mValueError\u001b[0m                                Traceback (most recent call last)",
            "\u001b[0;32m<ipython-input-18-5eec944dcc4f>\u001b[0m in \u001b[0;36m<module>\u001b[0;34m()\u001b[0m\n\u001b[1;32m      5\u001b[0m \u001b[0;31m# Fit model\u001b[0m\u001b[0;34m\u001b[0m\u001b[0;34m\u001b[0m\u001b[0;34m\u001b[0m\u001b[0m\n\u001b[1;32m      6\u001b[0m \u001b[0mclusters\u001b[0m \u001b[0;34m=\u001b[0m \u001b[0mdbscan_cluster\u001b[0m\u001b[0;34m.\u001b[0m\u001b[0mfit_predict\u001b[0m\u001b[0;34m(\u001b[0m\u001b[0mX\u001b[0m\u001b[0;34m)\u001b[0m\u001b[0;34m\u001b[0m\u001b[0;34m\u001b[0m\u001b[0m\n\u001b[0;32m----> 7\u001b[0;31m \u001b[0mprint\u001b[0m\u001b[0;34m(\u001b[0m\u001b[0mmetrics\u001b[0m\u001b[0;34m.\u001b[0m\u001b[0msilhouette_score\u001b[0m\u001b[0;34m(\u001b[0m\u001b[0mX\u001b[0m\u001b[0;34m,\u001b[0m \u001b[0mclusters\u001b[0m\u001b[0;34m,\u001b[0m \u001b[0mmetric\u001b[0m\u001b[0;34m=\u001b[0m\u001b[0;34m'euclidean'\u001b[0m\u001b[0;34m)\u001b[0m\u001b[0;34m)\u001b[0m\u001b[0;34m\u001b[0m\u001b[0;34m\u001b[0m\u001b[0m\n\u001b[0m",
            "\u001b[0;32m/usr/local/lib/python3.6/dist-packages/sklearn/metrics/cluster/_unsupervised.py\u001b[0m in \u001b[0;36msilhouette_score\u001b[0;34m(X, labels, metric, sample_size, random_state, **kwds)\u001b[0m\n\u001b[1;32m    115\u001b[0m         \u001b[0;32melse\u001b[0m\u001b[0;34m:\u001b[0m\u001b[0;34m\u001b[0m\u001b[0;34m\u001b[0m\u001b[0m\n\u001b[1;32m    116\u001b[0m             \u001b[0mX\u001b[0m\u001b[0;34m,\u001b[0m \u001b[0mlabels\u001b[0m \u001b[0;34m=\u001b[0m \u001b[0mX\u001b[0m\u001b[0;34m[\u001b[0m\u001b[0mindices\u001b[0m\u001b[0;34m]\u001b[0m\u001b[0;34m,\u001b[0m \u001b[0mlabels\u001b[0m\u001b[0;34m[\u001b[0m\u001b[0mindices\u001b[0m\u001b[0;34m]\u001b[0m\u001b[0;34m\u001b[0m\u001b[0;34m\u001b[0m\u001b[0m\n\u001b[0;32m--> 117\u001b[0;31m     \u001b[0;32mreturn\u001b[0m \u001b[0mnp\u001b[0m\u001b[0;34m.\u001b[0m\u001b[0mmean\u001b[0m\u001b[0;34m(\u001b[0m\u001b[0msilhouette_samples\u001b[0m\u001b[0;34m(\u001b[0m\u001b[0mX\u001b[0m\u001b[0;34m,\u001b[0m \u001b[0mlabels\u001b[0m\u001b[0;34m,\u001b[0m \u001b[0mmetric\u001b[0m\u001b[0;34m=\u001b[0m\u001b[0mmetric\u001b[0m\u001b[0;34m,\u001b[0m \u001b[0;34m**\u001b[0m\u001b[0mkwds\u001b[0m\u001b[0;34m)\u001b[0m\u001b[0;34m)\u001b[0m\u001b[0;34m\u001b[0m\u001b[0;34m\u001b[0m\u001b[0m\n\u001b[0m\u001b[1;32m    118\u001b[0m \u001b[0;34m\u001b[0m\u001b[0m\n\u001b[1;32m    119\u001b[0m \u001b[0;34m\u001b[0m\u001b[0m\n",
            "\u001b[0;32m/usr/local/lib/python3.6/dist-packages/sklearn/metrics/cluster/_unsupervised.py\u001b[0m in \u001b[0;36msilhouette_samples\u001b[0;34m(X, labels, metric, **kwds)\u001b[0m\n\u001b[1;32m    226\u001b[0m     \u001b[0mn_samples\u001b[0m \u001b[0;34m=\u001b[0m \u001b[0mlen\u001b[0m\u001b[0;34m(\u001b[0m\u001b[0mlabels\u001b[0m\u001b[0;34m)\u001b[0m\u001b[0;34m\u001b[0m\u001b[0;34m\u001b[0m\u001b[0m\n\u001b[1;32m    227\u001b[0m     \u001b[0mlabel_freqs\u001b[0m \u001b[0;34m=\u001b[0m \u001b[0mnp\u001b[0m\u001b[0;34m.\u001b[0m\u001b[0mbincount\u001b[0m\u001b[0;34m(\u001b[0m\u001b[0mlabels\u001b[0m\u001b[0;34m)\u001b[0m\u001b[0;34m\u001b[0m\u001b[0;34m\u001b[0m\u001b[0m\n\u001b[0;32m--> 228\u001b[0;31m     \u001b[0mcheck_number_of_labels\u001b[0m\u001b[0;34m(\u001b[0m\u001b[0mlen\u001b[0m\u001b[0;34m(\u001b[0m\u001b[0mle\u001b[0m\u001b[0;34m.\u001b[0m\u001b[0mclasses_\u001b[0m\u001b[0;34m)\u001b[0m\u001b[0;34m,\u001b[0m \u001b[0mn_samples\u001b[0m\u001b[0;34m)\u001b[0m\u001b[0;34m\u001b[0m\u001b[0;34m\u001b[0m\u001b[0m\n\u001b[0m\u001b[1;32m    229\u001b[0m \u001b[0;34m\u001b[0m\u001b[0m\n\u001b[1;32m    230\u001b[0m     \u001b[0mkwds\u001b[0m\u001b[0;34m[\u001b[0m\u001b[0;34m'metric'\u001b[0m\u001b[0;34m]\u001b[0m \u001b[0;34m=\u001b[0m \u001b[0mmetric\u001b[0m\u001b[0;34m\u001b[0m\u001b[0;34m\u001b[0m\u001b[0m\n",
            "\u001b[0;32m/usr/local/lib/python3.6/dist-packages/sklearn/metrics/cluster/_unsupervised.py\u001b[0m in \u001b[0;36mcheck_number_of_labels\u001b[0;34m(n_labels, n_samples)\u001b[0m\n\u001b[1;32m     33\u001b[0m     \u001b[0;32mif\u001b[0m \u001b[0;32mnot\u001b[0m \u001b[0;36m1\u001b[0m \u001b[0;34m<\u001b[0m \u001b[0mn_labels\u001b[0m \u001b[0;34m<\u001b[0m \u001b[0mn_samples\u001b[0m\u001b[0;34m:\u001b[0m\u001b[0;34m\u001b[0m\u001b[0;34m\u001b[0m\u001b[0m\n\u001b[1;32m     34\u001b[0m         raise ValueError(\"Number of labels is %d. Valid values are 2 \"\n\u001b[0;32m---> 35\u001b[0;31m                          \"to n_samples - 1 (inclusive)\" % n_labels)\n\u001b[0m\u001b[1;32m     36\u001b[0m \u001b[0;34m\u001b[0m\u001b[0m\n\u001b[1;32m     37\u001b[0m \u001b[0;34m\u001b[0m\u001b[0m\n",
            "\u001b[0;31mValueError\u001b[0m: Number of labels is 1. Valid values are 2 to n_samples - 1 (inclusive)"
          ]
        }
      ]
    },
    {
      "cell_type": "markdown",
      "metadata": {
        "id": "pV1cjbE4ghSd"
      },
      "source": [
        "### Gaussian Mixture Models"
      ]
    },
    {
      "cell_type": "code",
      "metadata": {
        "colab": {
          "base_uri": "https://localhost:8080/"
        },
        "id": "nxFuH0fVgtOZ",
        "outputId": "811a4f75-039b-4e0a-ca29-66fb39900134"
      },
      "source": [
        "y = netflix_bag_df['title']\n",
        "X = netflix_cosine_sim\n",
        "\n",
        "gmm_cluster = GaussianMixture(n_components=3, random_state=123)\n",
        "\n",
        "clusters = gmm_cluster.fit_predict(X)\n",
        "\n",
        "print(metrics.silhouette_score(X, clusters, metric='euclidean'))"
      ],
      "execution_count": null,
      "outputs": [
        {
          "output_type": "stream",
          "text": [
            "0.20093508274323993\n"
          ],
          "name": "stdout"
        }
      ]
    },
    {
      "cell_type": "code",
      "metadata": {
        "colab": {
          "base_uri": "https://localhost:8080/"
        },
        "id": "gJ3Pb6-YgtRx",
        "outputId": "c6728f92-8c71-4adf-c11f-1d8b32c2fbd8"
      },
      "source": [
        "y = netflix_bag_df['title']\n",
        "X = netflix_tfidf_sim\n",
        "gmm_cluster = GaussianMixture(n_components=3, random_state=123)\n",
        "\n",
        "clusters = gmm_cluster.fit_predict(X)\n",
        "\n",
        "print(metrics.silhouette_score(X, clusters, metric='euclidean'))"
      ],
      "execution_count": null,
      "outputs": [
        {
          "output_type": "stream",
          "text": [
            "0.02202162759979657\n"
          ],
          "name": "stdout"
        }
      ]
    },
    {
      "cell_type": "markdown",
      "metadata": {
        "id": "g_XU8nj7UhjL"
      },
      "source": [
        "#Recommender 1 conclusion\n",
        "\n",
        "The unsupervised tools do not perform well for this task. One problem is in the data type of the 'title' as well as the nature of the data in that column. It is a string, which is not ideal, or even useful, for these models. \n",
        "\n",
        "A further problem is what mean by the concept 'group.' In the models provided, the underlying supposition is that there is a group to place the data into. The iris model is a prime example of what is meant by this. There are definitive groups for the data to be split into. With this movie data those groups do not exist. There is not ‘correct’ group to place the movies into as what I am trying to do is group movies based on their similarity to a given movie. \n",
        "\n",
        "The best way to evaluate the performance of this recommender is to do some research on the recommended titles and assess how similar they are to the original input. \n",
        "\n",
        "One thing to bear in mind about this data is that there is no metric to determine popularity. However, popularity would be a useful piece of information in making a recommender system. It would probably not be super useful to recommend a blockbuster film as most people will have already heard of them and may already have looked them up. An ideal system recommends movies that are similar to the input but not super popular. This way the system increases the likelihood of recommending a movie that the user has not heard of but may be interested in. \n"
      ]
    }
  ]
}