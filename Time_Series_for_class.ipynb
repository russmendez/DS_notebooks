{
  "nbformat": 4,
  "nbformat_minor": 0,
  "metadata": {
    "colab": {
      "name": "Time Series for class.ipynb",
      "provenance": [],
      "collapsed_sections": [
        "Au4OgSAkcJ38",
        "A5wQaBKPOG8g",
        "UCJF1FM0O3Qj"
      ],
      "authorship_tag": "ABX9TyNSal3Jhaiex5HguT121iZr",
      "include_colab_link": true
    },
    "kernelspec": {
      "name": "python3",
      "display_name": "Python 3"
    },
    "language_info": {
      "name": "python"
    }
  },
  "cells": [
    {
      "cell_type": "markdown",
      "metadata": {
        "id": "view-in-github",
        "colab_type": "text"
      },
      "source": [
        "<a href=\"https://colab.research.google.com/github/russmendez/DS_notebooks/blob/master/Time_Series_for_class.ipynb\" target=\"_parent\"><img src=\"https://colab.research.google.com/assets/colab-badge.svg\" alt=\"Open In Colab\"/></a>"
      ]
    },
    {
      "cell_type": "markdown",
      "metadata": {
        "id": "HG8baxCGN3PF"
      },
      "source": [
        "#Time Series"
      ]
    },
    {
      "cell_type": "markdown",
      "metadata": {
        "id": "Au4OgSAkcJ38"
      },
      "source": [
        "### Seasonality"
      ]
    },
    {
      "cell_type": "code",
      "metadata": {
        "id": "IItCfmUvV1X-"
      },
      "source": [
        "import numpy as np\n",
        "import pandas as pd\n",
        "import scipy\n",
        "from datetime import datetime\n",
        "import datetime as dt\n",
        "import matplotlib.pyplot as plt\n",
        "%matplotlib inline"
      ],
      "execution_count": 2,
      "outputs": []
    },
    {
      "cell_type": "code",
      "metadata": {
        "id": "E5VI31tGIcUo"
      },
      "source": [
        "learning_progress = pd.DataFrame()\n",
        "\n",
        "# Add a range of 100 dates, starting January 1, 2017.\n",
        "learning_progress['date'] = pd.date_range(start='2017-01-01', periods=100)\n",
        "\n",
        "# Add linearly increasing `knowledge` and oscillating `confidence`.\n",
        "learning_progress['knowledge'] = np.arange(0, 100)\n",
        "learning_progress['confidence'] = 180+(10 * np.cos(np.arange(0, 100) * np.pi / 7) + np.arange(0, 100))"
      ],
      "execution_count": 3,
      "outputs": []
    },
    {
      "cell_type": "code",
      "metadata": {
        "colab": {
          "base_uri": "https://localhost:8080/",
          "height": 312
        },
        "id": "UKxHjdnkIerw",
        "outputId": "cd5e79bc-923f-4bf0-d16d-94010d61669b"
      },
      "source": [
        "plt.scatter(learning_progress.knowledge, learning_progress.confidence)\n",
        "plt.xlabel('knowlege')\n",
        "plt.ylabel('confidence')\n",
        "plt.title('Scatter Plot')"
      ],
      "execution_count": 6,
      "outputs": [
        {
          "output_type": "execute_result",
          "data": {
            "text/plain": [
              "Text(0.5, 1.0, 'Scatter Plot')"
            ]
          },
          "metadata": {
            "tags": []
          },
          "execution_count": 6
        },
        {
          "output_type": "display_data",
          "data": {
            "image/png": "[encoded data removed]",
            "text/plain": [
              "<Figure size 432x288 with 1 Axes>"
            ]
          },
          "metadata": {
            "tags": [],
            "needs_background": "light"
          }
        }
      ]
    },
    {
      "cell_type": "code",
      "metadata": {
        "colab": {
          "base_uri": "https://localhost:8080/",
          "height": 419
        },
        "id": "c7O14bvXIkk4",
        "outputId": "1ef3e500-c71c-41dc-bb98-46ef7d021080"
      },
      "source": [
        "learning_progress"
      ],
      "execution_count": null,
      "outputs": [
        {
          "output_type": "execute_result",
          "data": {
            "text/html": [
              "<div>\n",
              "<style scoped>\n",
              "    .dataframe tbody tr th:only-of-type {\n",
              "        vertical-align: middle;\n",
              "    }\n",
              "\n",
              "    .dataframe tbody tr th {\n",
              "        vertical-align: top;\n",
              "    }\n",
              "\n",
              "    .dataframe thead th {\n",
              "        text-align: right;\n",
              "    }\n",
              "</style>\n",
              "<table border=\"1\" class=\"dataframe\">\n",
              "  <thead>\n",
              "    <tr style=\"text-align: right;\">\n",
              "      <th></th>\n",
              "      <th>date</th>\n",
              "      <th>knowledge</th>\n",
              "      <th>confidence</th>\n",
              "    </tr>\n",
              "  </thead>\n",
              "  <tbody>\n",
              "    <tr>\n",
              "      <th>0</th>\n",
              "      <td>2017-01-01</td>\n",
              "      <td>0</td>\n",
              "      <td>170.000000</td>\n",
              "    </tr>\n",
              "    <tr>\n",
              "      <th>1</th>\n",
              "      <td>2017-01-02</td>\n",
              "      <td>1</td>\n",
              "      <td>169.990311</td>\n",
              "    </tr>\n",
              "    <tr>\n",
              "      <th>2</th>\n",
              "      <td>2017-01-03</td>\n",
              "      <td>2</td>\n",
              "      <td>171.765102</td>\n",
              "    </tr>\n",
              "    <tr>\n",
              "      <th>3</th>\n",
              "      <td>2017-01-04</td>\n",
              "      <td>3</td>\n",
              "      <td>174.774791</td>\n",
              "    </tr>\n",
              "    <tr>\n",
              "      <th>4</th>\n",
              "      <td>2017-01-05</td>\n",
              "      <td>4</td>\n",
              "      <td>178.225209</td>\n",
              "    </tr>\n",
              "    <tr>\n",
              "      <th>...</th>\n",
              "      <td>...</td>\n",
              "      <td>...</td>\n",
              "      <td>...</td>\n",
              "    </tr>\n",
              "    <tr>\n",
              "      <th>95</th>\n",
              "      <td>2017-04-06</td>\n",
              "      <td>95</td>\n",
              "      <td>82.774791</td>\n",
              "    </tr>\n",
              "    <tr>\n",
              "      <th>96</th>\n",
              "      <td>2017-04-07</td>\n",
              "      <td>96</td>\n",
              "      <td>77.765102</td>\n",
              "    </tr>\n",
              "    <tr>\n",
              "      <th>97</th>\n",
              "      <td>2017-04-08</td>\n",
              "      <td>97</td>\n",
              "      <td>73.990311</td>\n",
              "    </tr>\n",
              "    <tr>\n",
              "      <th>98</th>\n",
              "      <td>2017-04-09</td>\n",
              "      <td>98</td>\n",
              "      <td>72.000000</td>\n",
              "    </tr>\n",
              "    <tr>\n",
              "      <th>99</th>\n",
              "      <td>2017-04-10</td>\n",
              "      <td>99</td>\n",
              "      <td>71.990311</td>\n",
              "    </tr>\n",
              "  </tbody>\n",
              "</table>\n",
              "<p>100 rows × 3 columns</p>\n",
              "</div>"
            ],
            "text/plain": [
              "         date  knowledge  confidence\n",
              "0  2017-01-01          0  170.000000\n",
              "1  2017-01-02          1  169.990311\n",
              "2  2017-01-03          2  171.765102\n",
              "3  2017-01-04          3  174.774791\n",
              "4  2017-01-05          4  178.225209\n",
              "..        ...        ...         ...\n",
              "95 2017-04-06         95   82.774791\n",
              "96 2017-04-07         96   77.765102\n",
              "97 2017-04-08         97   73.990311\n",
              "98 2017-04-09         98   72.000000\n",
              "99 2017-04-10         99   71.990311\n",
              "\n",
              "[100 rows x 3 columns]"
            ]
          },
          "metadata": {
            "tags": []
          },
          "execution_count": 7
        }
      ]
    },
    {
      "cell_type": "code",
      "metadata": {
        "colab": {
          "base_uri": "https://localhost:8080/",
          "height": 344
        },
        "id": "Mx-5LTd8IyCP",
        "outputId": "bb790e12-38dc-4133-a44c-c9107e9002e1"
      },
      "source": [
        "plt.plot(learning_progress.date, learning_progress.knowledge, '--')\n",
        "plt.plot(learning_progress.date, learning_progress.confidence, 'o-')\n",
        "plt.xticks(rotation=60)\n",
        "plt.legend(loc = (.01,.8))\n",
        "plt.title('Time Series Linear Plots')\n",
        "plt.show()"
      ],
      "execution_count": 5,
      "outputs": [
        {
          "output_type": "stream",
          "text": [
            "No handles with labels found to put in legend.\n"
          ],
          "name": "stderr"
        },
        {
          "output_type": "display_data",
          "data": {
            "image/png": "[encoded data removed]",
            "text/plain": [
              "<Figure size 432x288 with 1 Axes>"
            ]
          },
          "metadata": {
            "tags": [],
            "needs_background": "light"
          }
        }
      ]
    },
    {
      "cell_type": "markdown",
      "metadata": {
        "id": "A5wQaBKPOG8g"
      },
      "source": [
        "### Linear Trends"
      ]
    },
    {
      "cell_type": "code",
      "metadata": {
        "colab": {
          "base_uri": "https://localhost:8080/"
        },
        "id": "0z7DN---OLnl",
        "outputId": "adfffe1a-dce3-4ad9-f7f3-cbb0542e9755"
      },
      "source": [
        "from sklearn import linear_model\n",
        "lm = linear_model.LinearRegression()\n",
        "\n",
        "# Note that for scikit-learn, you must convert your data to numeric.\n",
        "X = pd.DataFrame(pd.to_numeric(learning_progress['date']))\n",
        "Y = learning_progress['confidence']\n",
        "lm.fit(X, Y)\n",
        "lm.score(X, Y)"
      ],
      "execution_count": 7,
      "outputs": [
        {
          "output_type": "execute_result",
          "data": {
            "text/plain": [
              "0.9431566970528265"
            ]
          },
          "metadata": {
            "tags": []
          },
          "execution_count": 7
        }
      ]
    },
    {
      "cell_type": "code",
      "metadata": {
        "colab": {
          "base_uri": "https://localhost:8080/"
        },
        "id": "kAvnZJibLwTm",
        "outputId": "2365f7be-5ae4-4e26-ccf2-0889131a587f"
      },
      "source": [
        "lm.coef_[0]"
      ],
      "execution_count": 8,
      "outputs": [
        {
          "output_type": "execute_result",
          "data": {
            "text/plain": [
              "1.1635327364626975e-14"
            ]
          },
          "metadata": {
            "tags": []
          },
          "execution_count": 8
        }
      ]
    },
    {
      "cell_type": "code",
      "metadata": {
        "colab": {
          "base_uri": "https://localhost:8080/"
        },
        "id": "epXntTH3OFj2",
        "outputId": "327f4be4-68c8-4e5f-d514-f3493b30fac6"
      },
      "source": [
        "# Convert coefficient from nanoseconds to days.\n",
        "lm.coef_[0] * 1000000000 * 24 * 60 * 60\n",
        "\n",
        "# scikit-learn requires all values to be numeric. pd.to_numeric can change datetime objects, but it converts them into nanoseconds\n",
        "# since the 'epoch time', Jan 1, 1970. This will make the numbers more meaningful."
      ],
      "execution_count": 9,
      "outputs": [
        {
          "output_type": "execute_result",
          "data": {
            "text/plain": [
              "1.0052922843037708"
            ]
          },
          "metadata": {
            "tags": []
          },
          "execution_count": 9
        }
      ]
    },
    {
      "cell_type": "code",
      "metadata": {
        "id": "v2bQHyuFOu7l"
      },
      "source": [
        "# For the class: What does this coefficient mean?"
      ],
      "execution_count": null,
      "outputs": []
    },
    {
      "cell_type": "markdown",
      "metadata": {
        "id": "UCJF1FM0O3Qj"
      },
      "source": [
        "###Indicators and Oscillators\n",
        "\n",
        "Trends represent an average over the entire period of time. In time series you are not simply looking for trends but patterns of seasonality. Two common tools used for this are indicators and oscillators."
      ]
    },
    {
      "cell_type": "code",
      "metadata": {
        "colab": {
          "base_uri": "https://localhost:8080/",
          "height": 327
        },
        "id": "GXuIROynQrQw",
        "outputId": "387438e8-03f7-4895-c1fa-3a9d929231c8"
      },
      "source": [
        "plt.plot(learning_progress.date, learning_progress.confidence)\n",
        "plt.xticks(rotation=60)\n",
        "plt.title('Time Series Linear Plots')\n",
        "plt.show()\n",
        "\n",
        "#For the class: What sort of pattern does this follow?"
      ],
      "execution_count": 10,
      "outputs": [
        {
          "output_type": "display_data",
          "data": {
            "image/png": "[encoded data removed]",
            "text/plain": [
              "<Figure size 432x288 with 1 Axes>"
            ]
          },
          "metadata": {
            "tags": [],
            "needs_background": "light"
          }
        }
      ]
    },
    {
      "cell_type": "code",
      "metadata": {
        "colab": {
          "base_uri": "https://localhost:8080/",
          "height": 419
        },
        "id": "jDy4G7ANEG7E",
        "outputId": "3d6c208a-4d90-49a0-f618-ccd5e60cc081"
      },
      "source": [
        "learning_progress"
      ],
      "execution_count": null,
      "outputs": [
        {
          "output_type": "execute_result",
          "data": {
            "text/html": [
              "<div>\n",
              "<style scoped>\n",
              "    .dataframe tbody tr th:only-of-type {\n",
              "        vertical-align: middle;\n",
              "    }\n",
              "\n",
              "    .dataframe tbody tr th {\n",
              "        vertical-align: top;\n",
              "    }\n",
              "\n",
              "    .dataframe thead th {\n",
              "        text-align: right;\n",
              "    }\n",
              "</style>\n",
              "<table border=\"1\" class=\"dataframe\">\n",
              "  <thead>\n",
              "    <tr style=\"text-align: right;\">\n",
              "      <th></th>\n",
              "      <th>date</th>\n",
              "      <th>knowledge</th>\n",
              "      <th>confidence</th>\n",
              "    </tr>\n",
              "  </thead>\n",
              "  <tbody>\n",
              "    <tr>\n",
              "      <th>0</th>\n",
              "      <td>2017-01-01</td>\n",
              "      <td>0</td>\n",
              "      <td>170.000000</td>\n",
              "    </tr>\n",
              "    <tr>\n",
              "      <th>1</th>\n",
              "      <td>2017-01-02</td>\n",
              "      <td>1</td>\n",
              "      <td>169.990311</td>\n",
              "    </tr>\n",
              "    <tr>\n",
              "      <th>2</th>\n",
              "      <td>2017-01-03</td>\n",
              "      <td>2</td>\n",
              "      <td>171.765102</td>\n",
              "    </tr>\n",
              "    <tr>\n",
              "      <th>3</th>\n",
              "      <td>2017-01-04</td>\n",
              "      <td>3</td>\n",
              "      <td>174.774791</td>\n",
              "    </tr>\n",
              "    <tr>\n",
              "      <th>4</th>\n",
              "      <td>2017-01-05</td>\n",
              "      <td>4</td>\n",
              "      <td>178.225209</td>\n",
              "    </tr>\n",
              "    <tr>\n",
              "      <th>...</th>\n",
              "      <td>...</td>\n",
              "      <td>...</td>\n",
              "      <td>...</td>\n",
              "    </tr>\n",
              "    <tr>\n",
              "      <th>95</th>\n",
              "      <td>2017-04-06</td>\n",
              "      <td>95</td>\n",
              "      <td>82.774791</td>\n",
              "    </tr>\n",
              "    <tr>\n",
              "      <th>96</th>\n",
              "      <td>2017-04-07</td>\n",
              "      <td>96</td>\n",
              "      <td>77.765102</td>\n",
              "    </tr>\n",
              "    <tr>\n",
              "      <th>97</th>\n",
              "      <td>2017-04-08</td>\n",
              "      <td>97</td>\n",
              "      <td>73.990311</td>\n",
              "    </tr>\n",
              "    <tr>\n",
              "      <th>98</th>\n",
              "      <td>2017-04-09</td>\n",
              "      <td>98</td>\n",
              "      <td>72.000000</td>\n",
              "    </tr>\n",
              "    <tr>\n",
              "      <th>99</th>\n",
              "      <td>2017-04-10</td>\n",
              "      <td>99</td>\n",
              "      <td>71.990311</td>\n",
              "    </tr>\n",
              "  </tbody>\n",
              "</table>\n",
              "<p>100 rows × 3 columns</p>\n",
              "</div>"
            ],
            "text/plain": [
              "         date  knowledge  confidence\n",
              "0  2017-01-01          0  170.000000\n",
              "1  2017-01-02          1  169.990311\n",
              "2  2017-01-03          2  171.765102\n",
              "3  2017-01-04          3  174.774791\n",
              "4  2017-01-05          4  178.225209\n",
              "..        ...        ...         ...\n",
              "95 2017-04-06         95   82.774791\n",
              "96 2017-04-07         96   77.765102\n",
              "97 2017-04-08         97   73.990311\n",
              "98 2017-04-09         98   72.000000\n",
              "99 2017-04-10         99   71.990311\n",
              "\n",
              "[100 rows x 3 columns]"
            ]
          },
          "metadata": {
            "tags": []
          },
          "execution_count": 5
        }
      ]
    },
    {
      "cell_type": "code",
      "metadata": {
        "colab": {
          "base_uri": "https://localhost:8080/"
        },
        "id": "5nOPsizoQrq1",
        "outputId": "8235b1f1-0321-45e3-8d1f-f6bde71d49d4"
      },
      "source": [
        "learning_progress['day_of_week'] = learning_progress.date.apply(\n",
        "    lambda x: str(dt.datetime.weekday(x)))\n",
        "\n",
        "X = pd.get_dummies(learning_progress.day_of_week)\n",
        "X['date'] = pd.to_numeric(learning_progress.date) / (1000000000 * 24 * 60 * 60)\n",
        "Y = learning_progress['confidence']\n",
        "lm.fit(X, Y)\n",
        "lm.score(X, Y)"
      ],
      "execution_count": 11,
      "outputs": [
        {
          "output_type": "execute_result",
          "data": {
            "text/plain": [
              "0.9432516072175562"
            ]
          },
          "metadata": {
            "tags": []
          },
          "execution_count": 11
        }
      ]
    },
    {
      "cell_type": "code",
      "metadata": {
        "colab": {
          "base_uri": "https://localhost:8080/"
        },
        "id": "G-aoGAf5Q4uq",
        "outputId": "97152f87-7f7d-4093-c75f-165d96ab7938"
      },
      "source": [
        "print(X.columns)\n",
        "print(lm.coef_)\n",
        "\n",
        "# Class: When is the confidence of the model highest?"
      ],
      "execution_count": 12,
      "outputs": [
        {
          "output_type": "stream",
          "text": [
            "Index(['0', '1', '2', '3', '4', '5', '6', 'date'], dtype='object')\n",
            "[ 0.41694745 -0.17042941 -0.17573703 -0.18104465 -0.18635228 -0.1916599\n",
            "  0.48827582  1.00530762]\n"
          ],
          "name": "stdout"
        }
      ]
    },
    {
      "cell_type": "code",
      "metadata": {
        "colab": {
          "base_uri": "https://localhost:8080/",
          "height": 419
        },
        "id": "IHb2rwpfQ7cg",
        "outputId": "10268c1f-5710-47fa-e0be-493cf7de807f"
      },
      "source": [
        "X"
      ],
      "execution_count": null,
      "outputs": [
        {
          "output_type": "execute_result",
          "data": {
            "text/html": [
              "<div>\n",
              "<style scoped>\n",
              "    .dataframe tbody tr th:only-of-type {\n",
              "        vertical-align: middle;\n",
              "    }\n",
              "\n",
              "    .dataframe tbody tr th {\n",
              "        vertical-align: top;\n",
              "    }\n",
              "\n",
              "    .dataframe thead th {\n",
              "        text-align: right;\n",
              "    }\n",
              "</style>\n",
              "<table border=\"1\" class=\"dataframe\">\n",
              "  <thead>\n",
              "    <tr style=\"text-align: right;\">\n",
              "      <th></th>\n",
              "      <th>0</th>\n",
              "      <th>1</th>\n",
              "      <th>2</th>\n",
              "      <th>3</th>\n",
              "      <th>4</th>\n",
              "      <th>5</th>\n",
              "      <th>6</th>\n",
              "      <th>date</th>\n",
              "    </tr>\n",
              "  </thead>\n",
              "  <tbody>\n",
              "    <tr>\n",
              "      <th>0</th>\n",
              "      <td>0</td>\n",
              "      <td>0</td>\n",
              "      <td>0</td>\n",
              "      <td>0</td>\n",
              "      <td>0</td>\n",
              "      <td>0</td>\n",
              "      <td>1</td>\n",
              "      <td>17167.0</td>\n",
              "    </tr>\n",
              "    <tr>\n",
              "      <th>1</th>\n",
              "      <td>1</td>\n",
              "      <td>0</td>\n",
              "      <td>0</td>\n",
              "      <td>0</td>\n",
              "      <td>0</td>\n",
              "      <td>0</td>\n",
              "      <td>0</td>\n",
              "      <td>17168.0</td>\n",
              "    </tr>\n",
              "    <tr>\n",
              "      <th>2</th>\n",
              "      <td>0</td>\n",
              "      <td>1</td>\n",
              "      <td>0</td>\n",
              "      <td>0</td>\n",
              "      <td>0</td>\n",
              "      <td>0</td>\n",
              "      <td>0</td>\n",
              "      <td>17169.0</td>\n",
              "    </tr>\n",
              "    <tr>\n",
              "      <th>3</th>\n",
              "      <td>0</td>\n",
              "      <td>0</td>\n",
              "      <td>1</td>\n",
              "      <td>0</td>\n",
              "      <td>0</td>\n",
              "      <td>0</td>\n",
              "      <td>0</td>\n",
              "      <td>17170.0</td>\n",
              "    </tr>\n",
              "    <tr>\n",
              "      <th>4</th>\n",
              "      <td>0</td>\n",
              "      <td>0</td>\n",
              "      <td>0</td>\n",
              "      <td>1</td>\n",
              "      <td>0</td>\n",
              "      <td>0</td>\n",
              "      <td>0</td>\n",
              "      <td>17171.0</td>\n",
              "    </tr>\n",
              "    <tr>\n",
              "      <th>...</th>\n",
              "      <td>...</td>\n",
              "      <td>...</td>\n",
              "      <td>...</td>\n",
              "      <td>...</td>\n",
              "      <td>...</td>\n",
              "      <td>...</td>\n",
              "      <td>...</td>\n",
              "      <td>...</td>\n",
              "    </tr>\n",
              "    <tr>\n",
              "      <th>95</th>\n",
              "      <td>0</td>\n",
              "      <td>0</td>\n",
              "      <td>0</td>\n",
              "      <td>1</td>\n",
              "      <td>0</td>\n",
              "      <td>0</td>\n",
              "      <td>0</td>\n",
              "      <td>17262.0</td>\n",
              "    </tr>\n",
              "    <tr>\n",
              "      <th>96</th>\n",
              "      <td>0</td>\n",
              "      <td>0</td>\n",
              "      <td>0</td>\n",
              "      <td>0</td>\n",
              "      <td>1</td>\n",
              "      <td>0</td>\n",
              "      <td>0</td>\n",
              "      <td>17263.0</td>\n",
              "    </tr>\n",
              "    <tr>\n",
              "      <th>97</th>\n",
              "      <td>0</td>\n",
              "      <td>0</td>\n",
              "      <td>0</td>\n",
              "      <td>0</td>\n",
              "      <td>0</td>\n",
              "      <td>1</td>\n",
              "      <td>0</td>\n",
              "      <td>17264.0</td>\n",
              "    </tr>\n",
              "    <tr>\n",
              "      <th>98</th>\n",
              "      <td>0</td>\n",
              "      <td>0</td>\n",
              "      <td>0</td>\n",
              "      <td>0</td>\n",
              "      <td>0</td>\n",
              "      <td>0</td>\n",
              "      <td>1</td>\n",
              "      <td>17265.0</td>\n",
              "    </tr>\n",
              "    <tr>\n",
              "      <th>99</th>\n",
              "      <td>1</td>\n",
              "      <td>0</td>\n",
              "      <td>0</td>\n",
              "      <td>0</td>\n",
              "      <td>0</td>\n",
              "      <td>0</td>\n",
              "      <td>0</td>\n",
              "      <td>17266.0</td>\n",
              "    </tr>\n",
              "  </tbody>\n",
              "</table>\n",
              "<p>100 rows × 8 columns</p>\n",
              "</div>"
            ],
            "text/plain": [
              "    0  1  2  3  4  5  6     date\n",
              "0   0  0  0  0  0  0  1  17167.0\n",
              "1   1  0  0  0  0  0  0  17168.0\n",
              "2   0  1  0  0  0  0  0  17169.0\n",
              "3   0  0  1  0  0  0  0  17170.0\n",
              "4   0  0  0  1  0  0  0  17171.0\n",
              ".. .. .. .. .. .. .. ..      ...\n",
              "95  0  0  0  1  0  0  0  17262.0\n",
              "96  0  0  0  0  1  0  0  17263.0\n",
              "97  0  0  0  0  0  1  0  17264.0\n",
              "98  0  0  0  0  0  0  1  17265.0\n",
              "99  1  0  0  0  0  0  0  17266.0\n",
              "\n",
              "[100 rows x 8 columns]"
            ]
          },
          "metadata": {
            "tags": []
          },
          "execution_count": 18
        }
      ]
    },
    {
      "cell_type": "code",
      "metadata": {
        "colab": {
          "base_uri": "https://localhost:8080/"
        },
        "id": "WXVp_xopRmRf",
        "outputId": "02345eea-8ed5-4805-a75f-6fc1fa855982"
      },
      "source": [
        "X = pd.DataFrame()\n",
        "X['date'] = pd.to_numeric(learning_progress.date) / (1000000000 * 24 * 60 * 60)\n",
        "\n",
        "# Note that you're subtracting 17,167 from `date`.\n",
        "# This is to normalize it so that it starts at zero.\n",
        "# This aligns the peak of the curve with the start of the cosine function.\n",
        "\n",
        "X['cos_date'] = np.cos((X.date - 17167) * np.pi / 3.5)\n",
        "Y = learning_progress['confidence']\n",
        "lm.fit(X, Y)\n",
        "lm.score(X, Y)"
      ],
      "execution_count": 13,
      "outputs": [
        {
          "output_type": "execute_result",
          "data": {
            "text/plain": [
              "0.9432077395162711"
            ]
          },
          "metadata": {
            "tags": []
          },
          "execution_count": 13
        }
      ]
    },
    {
      "cell_type": "code",
      "metadata": {
        "colab": {
          "base_uri": "https://localhost:8080/"
        },
        "id": "CPOUH4dyRuI7",
        "outputId": "19b7dd92-7957-45a8-c757-e2fe47c3d59e"
      },
      "source": [
        "lm.coef_"
      ],
      "execution_count": 14,
      "outputs": [
        {
          "output_type": "execute_result",
          "data": {
            "text/plain": [
              "array([1.00518266, 0.30084893])"
            ]
          },
          "metadata": {
            "tags": []
          },
          "execution_count": 14
        }
      ]
    },
    {
      "cell_type": "code",
      "metadata": {
        "colab": {
          "base_uri": "https://localhost:8080/",
          "height": 282
        },
        "id": "ZBmVMEE4Rwe4",
        "outputId": "58835b6d-94e3-488d-c214-4e02a1c0b80f"
      },
      "source": [
        "plt.plot(X.date, X.cos_date)"
      ],
      "execution_count": 15,
      "outputs": [
        {
          "output_type": "execute_result",
          "data": {
            "text/plain": [
              "[<matplotlib.lines.Line2D at 0x7f81216def10>]"
            ]
          },
          "metadata": {
            "tags": []
          },
          "execution_count": 15
        },
        {
          "output_type": "display_data",
          "data": {
            "image/png": "[encoded data removed]",
            "text/plain": [
              "<Figure size 432x288 with 1 Axes>"
            ]
          },
          "metadata": {
            "tags": [],
            "needs_background": "light"
          }
        }
      ]
    },
    {
      "cell_type": "markdown",
      "metadata": {
        "id": "cHdSDcIbSC4O"
      },
      "source": [
        "#ARIMA modeling\n",
        "\n",
        "Previously, we looked at indicators and oscillators to explain seasonality. There is another branch of time series modeling and that branch is focused on random movement and consistency rather than seasonality. "
      ]
    },
    {
      "cell_type": "markdown",
      "metadata": {
        "id": "ok-gNfh1apQo"
      },
      "source": [
        "###Stationary \n",
        "Temporal data is said to be stationary when the trends in the data stay consistent outside of absolute time or seasonality. Mathmatically, this means that the mean and variance are constant and the covariance is independent of time. \n",
        "\n",
        "A sine curve, or any graphable equastion, is an example of stationary data becaue the output will always be determined by the input without any varience. A prime example of non-stationary data are stock prices. A growing or diminishing interest in any given stock, say GME, can cause a mass shift in the variance thereby increasing or decreasing the rate of change. \n",
        "\n",
        "In instances of non-stationary data we may still want to look for deterministic patterns. For example, we may want to see if previou values can determine the next value.\n",
        "\n",
        "How is this done? By the use of differencing and ARIMA, autoregressive integrated moving average."
      ]
    },
    {
      "cell_type": "markdown",
      "metadata": {
        "id": "tTll6saHgTKB"
      },
      "source": [
        "### Differencing\n",
        "\n",
        "Conveniently, there is an easy way to make our data stationary and that is differencing. All you have to do in differencing is subtract a term from the term that follows it. "
      ]
    },
    {
      "cell_type": "markdown",
      "metadata": {
        "id": "6Dx53bOpjjFf"
      },
      "source": [
        "###Autoregressive Models\n",
        "Simply put, autogression places the outputs from yesterday into a linear equasion to predict the output for today. \n",
        "\n",
        "*X<sub>time</sub> = &alpha; + &beta;X<sub>time-1</sub> + &epsilon;*\n",
        "\n",
        "Where &alpha; is a constant of adjustment, &beta; is the weight or how much the previous value affects the next value and &epsilon; is the noise term.\n"
      ]
    },
    {
      "cell_type": "code",
      "metadata": {
        "colab": {
          "base_uri": "https://localhost:8080/",
          "height": 281
        },
        "id": "l4SG0nKIRzfA",
        "outputId": "318c84f3-ba80-4417-a665-e8a2dc2a0d7a"
      },
      "source": [
        "alpha = 5\n",
        "beta = .7\n",
        "\n",
        "\n",
        "x_ar = [15]\n",
        "for i in range(500):\n",
        "    y = alpha + beta*x_ar[i-1] \n",
        "    x_ar.append(float(y))\n",
        "\n",
        "plt.plot(x_ar)\n",
        "plt.title('Autoregressive Example')\n",
        "plt.show()"
      ],
      "execution_count": 16,
      "outputs": [
        {
          "output_type": "display_data",
          "data": {
            "image/png": "[encoded data removed]",
            "text/plain": [
              "<Figure size 432x288 with 1 Axes>"
            ]
          },
          "metadata": {
            "tags": [],
            "needs_background": "light"
          }
        }
      ]
    },
    {
      "cell_type": "markdown",
      "metadata": {
        "id": "5Un3cB73o6vn"
      },
      "source": [
        "This is a graph of the random movement generated by the autoregressive model.\n",
        "\n",
        "The order of autoregressive models is denoted *AR(n)*, where *n* represents the lag or how far back you look you look to predict the current value. It is important to note that in autogressive models you do no skip lag terms. So *AR(n)* means the lag terms are the terms *1* through *n*. This example does not model the full complexity of lag terms but will give you the general sense of how they work.\n",
        "\n",
        "Try playing with &alpha; and &beta; to see how they affects the results."
      ]
    },
    {
      "cell_type": "markdown",
      "metadata": {
        "id": "am7UzOEHsG_h"
      },
      "source": [
        "### Moving Average\n",
        "\n",
        "In autoregressive models we looked at the previous term plus some noise to determine the value of the current term. That noise was in fact the error &epsilon;. To understand moving averages we shift our attention from the previous term to the previous error.\n",
        "\n",
        "X<sub>time</sub> = &alpha; + &beta;&epsilon;<sub>time-1</sub> + &epsilon;\n",
        "\n",
        "Note that we no longer consider *X* in the right hand of the equasion. Instead we are focused on the error inherited from the from the previous prediction.\n",
        "\n",
        "Again, we denote the order of the moving average *MA(n)*.\n",
        "\n",
        "Play with the values. How does changing &alpha; or &beta; affect things?"
      ]
    },
    {
      "cell_type": "code",
      "metadata": {
        "colab": {
          "base_uri": "https://localhost:8080/",
          "height": 281
        },
        "id": "jGLuP6JBnmNX",
        "outputId": "06d3552e-5306-4d2c-a480-38044b506b26"
      },
      "source": [
        "alpha = 5\n",
        "beta = .7\n",
        "\n",
        "x_ma = [15]\n",
        "e_t = 0\n",
        "for i in range(500):\n",
        "    e = np.random.randn(1)\n",
        "    y = 1 + .3*e_t + e\n",
        "    x_ma.append(float(y))\n",
        "    e_t=e\n",
        "\n",
        "plt.plot(x_ma)\n",
        "plt.title('Moving Average Example')\n",
        "plt.show()"
      ],
      "execution_count": 17,
      "outputs": [
        {
          "output_type": "display_data",
          "data": {
            "image/png": "[encoded data removed]",
            "text/plain": [
              "<Figure size 432x288 with 1 Axes>"
            ]
          },
          "metadata": {
            "tags": [],
            "needs_background": "light"
          }
        }
      ]
    },
    {
      "cell_type": "markdown",
      "metadata": {
        "id": "HicIWqvsvCTk"
      },
      "source": [
        "###Finding the best order\n",
        "\n",
        "Now we have these two models that look at the at the previous term, *AR(n)*, and previous error, *MA(n)* to predict the current term. They both have an optimal order to use for prediction. However, the order is not always going to be the same for both models. Therefore, we must find the optimal orders and to do so we will use partial autocorrelation. \n",
        "\n",
        "Partial autocorrelation compares a time series with a lagged version itself. The x-axis in the graph below how many steps back the lagged version is to itself. For this reason, the partial autocorrelation at 0 will always be 1, because the time series perfectly correlations to itself. \n",
        "\n",
        "Once we have out terms we will denote the model *ARMA(p,q) where *p* is the order of the autoregressive component *AR(p)* and *q* is the order of the moving average component *MA(q)*."
      ]
    },
    {
      "cell_type": "code",
      "metadata": {
        "colab": {
          "base_uri": "https://localhost:8080/",
          "height": 301
        },
        "id": "c4L6HJfwsxfi",
        "outputId": "d230062c-eec3-4ebd-edb5-09fb680181aa"
      },
      "source": [
        "from statsmodels.tsa.stattools import acf, pacf\n",
        "x_acf = pd.DataFrame(pacf(x_ar))\n",
        "x_acf.plot(kind='bar')\n",
        "plt.title(\"AR(1) PACF\")"
      ],
      "execution_count": null,
      "outputs": [
        {
          "output_type": "execute_result",
          "data": {
            "text/plain": [
              "Text(0.5, 1.0, 'AR(1) PACF')"
            ]
          },
          "metadata": {
            "tags": []
          },
          "execution_count": 39
        },
        {
          "output_type": "display_data",
          "data": {
            "image/png": "[encoded data removed]",
            "text/plain": [
              "<Figure size 432x288 with 1 Axes>"
            ]
          },
          "metadata": {
            "tags": [],
            "needs_background": "light"
          }
        }
      ]
    },
    {
      "cell_type": "code",
      "metadata": {
        "colab": {
          "base_uri": "https://localhost:8080/",
          "height": 301
        },
        "id": "ZBP2rw7E086W",
        "outputId": "653c3c7a-5a83-4c20-ab5c-a76ee6f55c33"
      },
      "source": [
        "x_acf = pd.DataFrame(pacf(x_ma))\n",
        "x_acf.plot(kind='bar')\n",
        "plt.title('MA(1) PACF')"
      ],
      "execution_count": null,
      "outputs": [
        {
          "output_type": "execute_result",
          "data": {
            "text/plain": [
              "Text(0.5, 1.0, 'MA(1) PACF')"
            ]
          },
          "metadata": {
            "tags": []
          },
          "execution_count": 40
        },
        {
          "output_type": "display_data",
          "data": {
            "image/png": "[encoded data removed]",
            "text/plain": [
              "<Figure size 432x288 with 1 Axes>"
            ]
          },
          "metadata": {
            "tags": [],
            "needs_background": "light"
          }
        }
      ]
    },
    {
      "cell_type": "markdown",
      "metadata": {
        "id": "d0bUL9mk3J5r"
      },
      "source": [
        "What do these mean? In this case what we are looking for is a strong autocorrelation. We can ignore the 0 order because this will always be perfect. So then we are looking for the next number that explains the most variance. \n",
        "\n",
        "In this example, we would pick *ARMA(2,1)*"
      ]
    },
    {
      "cell_type": "markdown",
      "metadata": {
        "id": "QgnafoUt8xKh"
      },
      "source": [
        "### Integration\n",
        "\n",
        "What if the *p* and *q* values are high? This is a sign that you may need to apply more differencing. In our final notation *ARIMA(p,d,q)*, *d* represents the level of differnencing (*d=1* will be a simple difference, *d=2* will be the difference of differences and so on). This can be done manually, as done above, or it can be entered into the ARIMA model which we will discuss later. \n",
        "\n"
      ]
    },
    {
      "cell_type": "markdown",
      "metadata": {
        "id": "us7S5_tY94R6"
      },
      "source": [
        "#FRED"
      ]
    },
    {
      "cell_type": "code",
      "metadata": {
        "id": "a2bLdxks5YYB"
      },
      "source": [
        "import numpy as np\n",
        "import pandas as pd\n",
        "import scipy\n",
        "from datetime import datetime\n",
        "import datetime as dt\n",
        "import matplotlib.pyplot as plt\n",
        "%matplotlib inline"
      ],
      "execution_count": null,
      "outputs": []
    },
    {
      "cell_type": "code",
      "metadata": {
        "id": "uL8t-Zr19uB-"
      },
      "source": [
        "sp_data = pd.read_csv('https://tf-assets-prod.s3.amazonaws.com/tf-curric/data-science/SP500_raw.csv')\n",
        "\n",
        "# Convert exchange rate to a number, with coercion to throw `NA` values if conversion not possible\n",
        "sp_data['price'] = pd.to_numeric(sp_data.SP500, errors='coerce')\n",
        "\n",
        "# Remove `NA` values\n",
        "sp_data.dropna(inplace=True)"
      ],
      "execution_count": null,
      "outputs": []
    },
    {
      "cell_type": "code",
      "metadata": {
        "colab": {
          "base_uri": "https://localhost:8080/",
          "height": 204
        },
        "id": "SZPpeXB698UX",
        "outputId": "41d348dc-7300-46d7-b238-bcaa9bbf5a91"
      },
      "source": [
        "sp_data.head()"
      ],
      "execution_count": null,
      "outputs": [
        {
          "output_type": "execute_result",
          "data": {
            "text/html": [
              "<div>\n",
              "<style scoped>\n",
              "    .dataframe tbody tr th:only-of-type {\n",
              "        vertical-align: middle;\n",
              "    }\n",
              "\n",
              "    .dataframe tbody tr th {\n",
              "        vertical-align: top;\n",
              "    }\n",
              "\n",
              "    .dataframe thead th {\n",
              "        text-align: right;\n",
              "    }\n",
              "</style>\n",
              "<table border=\"1\" class=\"dataframe\">\n",
              "  <thead>\n",
              "    <tr style=\"text-align: right;\">\n",
              "      <th></th>\n",
              "      <th>DATE</th>\n",
              "      <th>SP500</th>\n",
              "      <th>price</th>\n",
              "    </tr>\n",
              "  </thead>\n",
              "  <tbody>\n",
              "    <tr>\n",
              "      <th>0</th>\n",
              "      <td>2008-01-02</td>\n",
              "      <td>1447.16</td>\n",
              "      <td>1447.16</td>\n",
              "    </tr>\n",
              "    <tr>\n",
              "      <th>1</th>\n",
              "      <td>2008-01-03</td>\n",
              "      <td>1447.16</td>\n",
              "      <td>1447.16</td>\n",
              "    </tr>\n",
              "    <tr>\n",
              "      <th>2</th>\n",
              "      <td>2008-01-04</td>\n",
              "      <td>1411.63</td>\n",
              "      <td>1411.63</td>\n",
              "    </tr>\n",
              "    <tr>\n",
              "      <th>3</th>\n",
              "      <td>2008-01-07</td>\n",
              "      <td>1416.18</td>\n",
              "      <td>1416.18</td>\n",
              "    </tr>\n",
              "    <tr>\n",
              "      <th>4</th>\n",
              "      <td>2008-01-08</td>\n",
              "      <td>1390.19</td>\n",
              "      <td>1390.19</td>\n",
              "    </tr>\n",
              "  </tbody>\n",
              "</table>\n",
              "</div>"
            ],
            "text/plain": [
              "         DATE    SP500    price\n",
              "0  2008-01-02  1447.16  1447.16\n",
              "1  2008-01-03  1447.16  1447.16\n",
              "2  2008-01-04  1411.63  1411.63\n",
              "3  2008-01-07  1416.18  1416.18\n",
              "4  2008-01-08  1390.19  1390.19"
            ]
          },
          "metadata": {
            "tags": []
          },
          "execution_count": 3
        }
      ]
    },
    {
      "cell_type": "code",
      "metadata": {
        "colab": {
          "base_uri": "https://localhost:8080/",
          "height": 281
        },
        "id": "D1EVIjVY9-Ur",
        "outputId": "f4fedee3-d407-4d1b-ad9a-1398d4c779dd"
      },
      "source": [
        "sp_data.plot()\n",
        "plt.title('S&P500 Time Series')\n",
        "plt.show()"
      ],
      "execution_count": null,
      "outputs": [
        {
          "output_type": "display_data",
          "data": {
            "image/png": "[encoded data removed]",
            "text/plain": [
              "<Figure size 432x288 with 1 Axes>"
            ]
          },
          "metadata": {
            "tags": [],
            "needs_background": "light"
          }
        }
      ]
    },
    {
      "cell_type": "code",
      "metadata": {
        "colab": {
          "base_uri": "https://localhost:8080/",
          "height": 285
        },
        "id": "KaHA6ydD-AMC",
        "outputId": "3506c955-682d-432d-9f5f-6af6e5b8c63a"
      },
      "source": [
        "# Turning the index into the date will make plotting easier \n",
        "sp_data.index = pd.to_datetime(sp_data.DATE)\n",
        "sp_data.plot()\n",
        "plt.title('S&P 500 Time Series')\n",
        "plt.show()"
      ],
      "execution_count": null,
      "outputs": [
        {
          "output_type": "display_data",
          "data": {
            "image/png": "[encoded data removed]",
            "text/plain": [
              "<Figure size 432x288 with 1 Axes>"
            ]
          },
          "metadata": {
            "tags": [],
            "needs_background": "light"
          }
        }
      ]
    },
    {
      "cell_type": "code",
      "metadata": {
        "colab": {
          "base_uri": "https://localhost:8080/",
          "height": 285
        },
        "id": "6XNbnYfH-CaE",
        "outputId": "590c30fa-f5fd-47df-eb74-f18686362c1e"
      },
      "source": [
        "#Differencing \n",
        "sp_data['diff_1'] = sp_data.price - sp_data.price.shift()\n",
        "sp_data.plot(y='diff_1')\n",
        "plt.title('S&P 500 Time Series')\n",
        "plt.show()"
      ],
      "execution_count": null,
      "outputs": [
        {
          "output_type": "display_data",
          "data": {
            "image/png": "[encoded data removed]",
            "text/plain": [
              "<Figure size 432x288 with 1 Axes>"
            ]
          },
          "metadata": {
            "tags": [],
            "needs_background": "light"
          }
        }
      ]
    },
    {
      "cell_type": "code",
      "metadata": {
        "colab": {
          "base_uri": "https://localhost:8080/",
          "height": 335
        },
        "id": "37CaeE7W-Exb",
        "outputId": "66db8ddd-da2a-4ffe-a09f-6d202202f2fa"
      },
      "source": [
        "#PACF for inital time series\n",
        "from statsmodels.tsa.stattools import pacf\n",
        "x_acf = pd.DataFrame(pacf(sp_data.price))\n",
        "x_acf.plot(kind='bar')\n",
        "plt.title(\"S&P PACF\")"
      ],
      "execution_count": null,
      "outputs": [
        {
          "output_type": "stream",
          "text": [
            "/usr/local/lib/python3.7/dist-packages/statsmodels/tools/_testing.py:19: FutureWarning: pandas.util.testing is deprecated. Use the functions in the public API at pandas.testing instead.\n",
            "  import pandas.util.testing as tm\n"
          ],
          "name": "stderr"
        },
        {
          "output_type": "execute_result",
          "data": {
            "text/plain": [
              "Text(0.5, 1.0, 'S&P PACF')"
            ]
          },
          "metadata": {
            "tags": []
          },
          "execution_count": 7
        },
        {
          "output_type": "display_data",
          "data": {
            "image/png": "[encoded data removed]",
            "text/plain": [
              "<Figure size 432x288 with 1 Axes>"
            ]
          },
          "metadata": {
            "tags": [],
            "needs_background": "light"
          }
        }
      ]
    },
    {
      "cell_type": "code",
      "metadata": {
        "colab": {
          "base_uri": "https://localhost:8080/",
          "height": 301
        },
        "id": "Gbxu4gIV-GlF",
        "outputId": "7d517ee2-6703-447e-a017-5e5803c8cac1"
      },
      "source": [
        "#PACF for differenced time series\n",
        "x_acf = pd.DataFrame(pacf(sp_data.diff_1[1:]))\n",
        "x_acf.plot(kind='bar')\n",
        "plt.title(\"S&P 500 Diff PACF\")\n",
        "plt.legend(['difference'])"
      ],
      "execution_count": null,
      "outputs": [
        {
          "output_type": "execute_result",
          "data": {
            "text/plain": [
              "<matplotlib.legend.Legend at 0x7f099c405990>"
            ]
          },
          "metadata": {
            "tags": []
          },
          "execution_count": 8
        },
        {
          "output_type": "display_data",
          "data": {
            "image/png": "[encoded data removed]",
            "text/plain": [
              "<Figure size 432x288 with 1 Axes>"
            ]
          },
          "metadata": {
            "tags": [],
            "needs_background": "light"
          }
        }
      ]
    },
    {
      "cell_type": "markdown",
      "metadata": {
        "id": "-yZ7kI0a-uTy"
      },
      "source": [
        "#ARIMA\n",
        "As a reminder, the ARIMA model takes the arguments in the *(p,d,q)* order.\n",
        "\n",
        "Recall that AR is the past values, I is the differencing, and MA is adjusting to past errors."
      ]
    },
    {
      "cell_type": "code",
      "metadata": {
        "colab": {
          "base_uri": "https://localhost:8080/"
        },
        "id": "nZwrokLf-JOB",
        "outputId": "4d583a98-ec47-48bd-9a30-afa8fa7b8fc9"
      },
      "source": [
        "from statsmodels.tsa.arima_model import ARIMA\n",
        "model = ARIMA(sp_data.price, order=(1,1,1))\n",
        "model_fit = model.fit()\n",
        "print(model_fit.summary())\n",
        "print('Residuals Description')\n",
        "print(model_fit.resid.describe())"
      ],
      "execution_count": null,
      "outputs": [
        {
          "output_type": "stream",
          "text": [
            "/usr/local/lib/python3.7/dist-packages/statsmodels/tsa/base/tsa_model.py:219: ValueWarning: A date index has been provided, but it has no associated frequency information and so will be ignored when e.g. forecasting.\n",
            "  ' ignored when e.g. forecasting.', ValueWarning)\n",
            "/usr/local/lib/python3.7/dist-packages/statsmodels/tsa/base/tsa_model.py:219: ValueWarning: A date index has been provided, but it has no associated frequency information and so will be ignored when e.g. forecasting.\n",
            "  ' ignored when e.g. forecasting.', ValueWarning)\n"
          ],
          "name": "stderr"
        },
        {
          "output_type": "stream",
          "text": [
            "                             ARIMA Model Results                              \n",
            "==============================================================================\n",
            "Dep. Variable:                D.price   No. Observations:                 2266\n",
            "Model:                 ARIMA(1, 1, 1)   Log Likelihood               -9592.974\n",
            "Method:                       css-mle   S.D. of innovations             16.685\n",
            "Date:                Tue, 18 May 2021   AIC                          19193.947\n",
            "Time:                        19:50:02   BIC                          19216.850\n",
            "Sample:                             1   HQIC                         19202.304\n",
            "                                                                              \n",
            "=================================================================================\n",
            "                    coef    std err          z      P>|z|      [0.025      0.975]\n",
            "---------------------------------------------------------------------------------\n",
            "const             0.3529      0.289      1.222      0.222      -0.213       0.919\n",
            "ar.L1.D.price     0.5832      0.155      3.765      0.000       0.280       0.887\n",
            "ma.L1.D.price    -0.6565      0.144     -4.559      0.000      -0.939      -0.374\n",
            "                                    Roots                                    \n",
            "=============================================================================\n",
            "                  Real          Imaginary           Modulus         Frequency\n",
            "-----------------------------------------------------------------------------\n",
            "AR.1            1.7147           +0.0000j            1.7147            0.0000\n",
            "MA.1            1.5232           +0.0000j            1.5232            0.0000\n",
            "-----------------------------------------------------------------------------\n",
            "Residuals Description\n",
            "count    2266.000000\n",
            "mean       -0.002487\n",
            "std        16.688544\n",
            "min      -106.294400\n",
            "25%        -7.452397\n",
            "50%         1.039101\n",
            "75%         8.708535\n",
            "max        96.668744\n",
            "dtype: float64\n"
          ],
          "name": "stdout"
        }
      ]
    },
    {
      "cell_type": "code",
      "metadata": {
        "colab": {
          "base_uri": "https://localhost:8080/",
          "height": 566
        },
        "id": "zCfDdTuN_Mvf",
        "outputId": "b8274293-a96f-4f79-e619-25732e3a4c7e"
      },
      "source": [
        "residuals = pd.DataFrame(model_fit.resid)\n",
        "\n",
        "residuals.plot(legend=False)\n",
        "plt.title('Time Series of Residuals')\n",
        "\n",
        "residuals.hist(bins=20)\n",
        "plt.title('Histogram of Residuals')"
      ],
      "execution_count": null,
      "outputs": [
        {
          "output_type": "execute_result",
          "data": {
            "text/plain": [
              "Text(0.5, 1.0, 'Histogram of Residuals')"
            ]
          },
          "metadata": {
            "tags": []
          },
          "execution_count": 17
        },
        {
          "output_type": "display_data",
          "data": {
            "image/png": "[encoded data removed]",
            "text/plain": [
              "<Figure size 432x288 with 1 Axes>"
            ]
          },
          "metadata": {
            "tags": [],
            "needs_background": "light"
          }
        },
        {
          "output_type": "display_data",
          "data": {
            "image/png": "[encoded data removed]",
            "text/plain": [
              "<Figure size 432x288 with 1 Axes>"
            ]
          },
          "metadata": {
            "tags": [],
            "needs_background": "light"
          }
        }
      ]
    },
    {
      "cell_type": "markdown",
      "metadata": {
        "id": "zzlYNNrnAXJZ"
      },
      "source": [
        "### Residuals \n",
        "Residuals are the difference in your prediction and observed value. They are how accuracte your models are. You want your residuals to be random and normally distributed.\n",
        "\n",
        "What can we learn from these plots?\n",
        "\n",
        "From the first, we see there is not a clear trend to the residuals. There are places of higher volitlity than others. \n",
        "\n",
        "From the second, the data does appear to be normally distributed but is has a tail on the lower end.\n",
        "\n",
        "What external factors could help to explain these results?"
      ]
    },
    {
      "cell_type": "markdown",
      "metadata": {
        "id": "In3afYrzB9-X"
      },
      "source": [
        "#Intepreting ARIMA\n",
        "\n",
        "Lets take ARIMA(1,0,1) as an example. \n",
        "\n",
        "We can see the constant has a starting point of about 1700.\n",
        "\n",
        "The AR is .9994 which tells us that each day is approximately equal to the last day.\n",
        "\n",
        "The MA is -.0787 which means that by incorporating the moving average into the model will reduce the error of the model by 8% per day.\n",
        "\n"
      ]
    },
    {
      "cell_type": "code",
      "metadata": {
        "colab": {
          "base_uri": "https://localhost:8080/"
        },
        "id": "Vdar-IxPB4ac",
        "outputId": "076a1a50-ea55-448d-84b5-57798805ff3c"
      },
      "source": [
        "from statsmodels.tsa.arima_model import ARIMA\n",
        "model = ARIMA(sp_data.price, order=(1,0,1))\n",
        "model_fit = model.fit()\n",
        "print(model_fit.summary())\n",
        "print('Residuals Description')\n",
        "print(model_fit.resid.describe())"
      ],
      "execution_count": null,
      "outputs": [
        {
          "output_type": "stream",
          "text": [
            "/usr/local/lib/python3.7/dist-packages/statsmodels/tsa/base/tsa_model.py:219: ValueWarning: A date index has been provided, but it has no associated frequency information and so will be ignored when e.g. forecasting.\n",
            "  ' ignored when e.g. forecasting.', ValueWarning)\n"
          ],
          "name": "stderr"
        },
        {
          "output_type": "stream",
          "text": [
            "                              ARMA Model Results                              \n",
            "==============================================================================\n",
            "Dep. Variable:                  price   No. Observations:                 2267\n",
            "Model:                     ARMA(1, 1)   Log Likelihood               -9603.247\n",
            "Method:                       css-mle   S.D. of innovations             16.705\n",
            "Date:                Tue, 18 May 2021   AIC                          19214.494\n",
            "Time:                        19:51:32   BIC                          19237.398\n",
            "Sample:                             0   HQIC                         19222.851\n",
            "                                                                              \n",
            "===============================================================================\n",
            "                  coef    std err          z      P>|z|      [0.025      0.975]\n",
            "-------------------------------------------------------------------------------\n",
            "const        1713.2272    346.652      4.942      0.000    1033.802    2392.653\n",
            "ar.L1.price     0.9994      0.001   1779.728      0.000       0.998       1.000\n",
            "ma.L1.price    -0.0787      0.022     -3.614      0.000      -0.121      -0.036\n",
            "                                    Roots                                    \n",
            "=============================================================================\n",
            "                  Real          Imaginary           Modulus         Frequency\n",
            "-----------------------------------------------------------------------------\n",
            "AR.1            1.0006           +0.0000j            1.0006            0.0000\n",
            "MA.1           12.7114           +0.0000j           12.7114            0.0000\n",
            "-----------------------------------------------------------------------------\n",
            "Residuals Description\n",
            "count    2267.000000\n",
            "mean        0.134231\n",
            "std        17.617176\n",
            "min      -266.067155\n",
            "25%        -7.065459\n",
            "50%         1.023880\n",
            "75%         8.737717\n",
            "max       102.277281\n",
            "dtype: float64\n"
          ],
          "name": "stdout"
        }
      ]
    },
    {
      "cell_type": "code",
      "metadata": {
        "colab": {
          "base_uri": "https://localhost:8080/",
          "height": 566
        },
        "id": "YVmETbVN_9g2",
        "outputId": "2a98d1f2-4ec2-49e0-a18e-4a4ea8bac434"
      },
      "source": [
        "residuals = pd.DataFrame(model_fit.resid)\n",
        "\n",
        "residuals.plot(legend=False)\n",
        "plt.title('Time Series of Residuals')\n",
        "\n",
        "residuals.hist(bins=20)\n",
        "plt.title('Histogram of Residuals')"
      ],
      "execution_count": null,
      "outputs": [
        {
          "output_type": "execute_result",
          "data": {
            "text/plain": [
              "Text(0.5, 1.0, 'Histogram of Residuals')"
            ]
          },
          "metadata": {
            "tags": []
          },
          "execution_count": 19
        },
        {
          "output_type": "display_data",
          "data": {
            "image/png": "[encoded data removed]",
            "text/plain": [
              "<Figure size 432x288 with 1 Axes>"
            ]
          },
          "metadata": {
            "tags": [],
            "needs_background": "light"
          }
        },
        {
          "output_type": "display_data",
          "data": {
            "image/png": "[encoded data removed]",
            "text/plain": [
              "<Figure size 432x288 with 1 Axes>"
            ]
          },
          "metadata": {
            "tags": [],
            "needs_background": "light"
          }
        }
      ]
    },
    {
      "cell_type": "markdown",
      "metadata": {
        "id": "PHvKaWmODTxr"
      },
      "source": [
        "#Akaike Information Criterion (AIC)\n",
        "\n",
        "The final question we will address is how do we evaluate which of these models is the best. We will do that with the AIC. The AIC measures the information contained by the model. To find the best model, select the one with the lowest score. If you want to know just how much better one model is to another you can use the following equasion:\n",
        "\n",
        "*exp((AIC<sub>min</sub> - AIC<sub>x</sub>)/2)*\n",
        "\n",
        "This gives the probabiliy of having lost less information than the other model.\n",
        "\n",
        "Take for example ARIMA(1,1,1) and ARIMA(1,0,0) which have a score of 19,193 and 19,225. If we plug these into the equasion we can see that there is a 1.127e-7 probability that we lost less information in the ARIMA(1,0,0) model. That is a big difference and suggest ARIMA(1,1,1) is a much better model."
      ]
    }
  ]
}